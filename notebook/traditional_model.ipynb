{
 "cells": [
  {
   "cell_type": "markdown",
   "metadata": {},
   "source": [
    "GuideLine：\n",
    "1. 数据增强收益更大\n",
    "    - 半监督：将预测概率很大的标记，作为训练数据再加入\n",
    "    - 第三方成熟的nlp包的识别结果，作为特征加入\n",
    "\n",
    "2. 可以使用规则的标签，可以直接使用规则方式\n",
    "\n",
    "3. 不同标记体系可以尝试"
   ]
  },
  {
   "cell_type": "markdown",
   "metadata": {},
   "source": [
    "# 解压数据"
   ]
  },
  {
   "cell_type": "code",
   "execution_count": 1,
   "metadata": {
    "ExecuteTime": {
     "end_time": "2020-11-17T03:48:33.146522Z",
     "start_time": "2020-11-17T03:48:32.846698Z"
    }
   },
   "outputs": [
    {
     "name": "stdout",
     "output_type": "stream",
     "text": [
      "Category_info.csv\n",
      "test_data\n",
      "train.txt\n",
      "train_data\n",
      "train_label\n",
      "train_new\n",
      "val.txt\n",
      "val_new\n"
     ]
    }
   ],
   "source": [
    "!ls ../data/"
   ]
  },
  {
   "cell_type": "code",
   "execution_count": 2,
   "metadata": {
    "ExecuteTime": {
     "end_time": "2020-11-17T03:48:33.235909Z",
     "start_time": "2020-11-17T03:48:33.223943Z"
    }
   },
   "outputs": [],
   "source": [
    "# !ls ../data/train_data"
   ]
  },
  {
   "cell_type": "code",
   "execution_count": 3,
   "metadata": {
    "ExecuteTime": {
     "end_time": "2020-11-17T03:48:36.079123Z",
     "start_time": "2020-11-17T03:48:35.948089Z"
    },
    "scrolled": true
   },
   "outputs": [
    {
     "name": "stdout",
     "output_type": "stream",
     "text": [
      "鑹烘湳鏄�鐩稿悓鐨勶紝闊充箰缇庢湳浣撹偛涓夋牱閮芥槸鑹烘湳銆傦紝涓夋牱鑹烘湳閮芥槸闈犳劅瑙夌殑銆傛劅瑙夊ソ鐜╄捣鏉ュ氨寰堣交鏉撅紝鎵�浠ュ彨鍋氱帺鑹烘湳銆傛病鎰熻�夋壘涓嶅埌鍖楃殑骞茶剢鍒�鐜╀簡锛侊紝棣欐腐鐢靛奖鍥借��閰嶉煶鍚嶅�跺懆鎬濆钩锛屼唬琛ㄤ綔鏈塗VB銆婁笂娴锋哗銆嬪懆娑﹀彂绛�\n"
     ]
    }
   ],
   "source": [
    "!head ../data/train_data/0.txt"
   ]
  },
  {
   "cell_type": "code",
   "execution_count": 4,
   "metadata": {
    "ExecuteTime": {
     "end_time": "2020-11-17T03:48:36.833669Z",
     "start_time": "2020-11-17T03:48:36.759668Z"
    }
   },
   "outputs": [
    {
     "name": "stdout",
     "output_type": "stream",
     "text": [
      "锘縄D,Category,Pos_b,Pos_e,Privacy\n",
      "0,position,66,75,棣欐腐鐢靛奖鍥借��閰嶉煶鍚嶅��\n",
      "0,name,76,78,鍛ㄦ�濆钩\n",
      "0,movie,87,91,銆婁笂娴锋哗銆�\n",
      "0,name,92,94,鍛ㄦ鼎鍙�\n",
      "0,organization,84,86,TVB\n"
     ]
    }
   ],
   "source": [
    "!head ../data/train_label/0.csv"
   ]
  },
  {
   "cell_type": "code",
   "execution_count": 5,
   "metadata": {
    "ExecuteTime": {
     "end_time": "2020-11-17T03:48:44.888952Z",
     "start_time": "2020-11-17T03:48:44.871924Z"
    }
   },
   "outputs": [],
   "source": [
    "# !unzip ../data/train.zip -d ../data/train\n",
    "# !unzip ../data/test.zip -d ../data/test"
   ]
  },
  {
   "cell_type": "code",
   "execution_count": 6,
   "metadata": {
    "ExecuteTime": {
     "end_time": "2020-11-17T03:48:45.479818Z",
     "start_time": "2020-11-17T03:48:45.464822Z"
    }
   },
   "outputs": [],
   "source": [
    "# !ls ../data/train_data/"
   ]
  },
  {
   "cell_type": "code",
   "execution_count": 7,
   "metadata": {
    "ExecuteTime": {
     "end_time": "2020-11-17T03:48:46.156302Z",
     "start_time": "2020-11-17T03:48:46.152296Z"
    }
   },
   "outputs": [],
   "source": [
    "# !ls ../data/test_data/"
   ]
  },
  {
   "cell_type": "code",
   "execution_count": 8,
   "metadata": {
    "ExecuteTime": {
     "end_time": "2020-11-17T03:48:51.411973Z",
     "start_time": "2020-11-17T03:48:51.397980Z"
    }
   },
   "outputs": [],
   "source": [
    "# !pip install tqdm"
   ]
  },
  {
   "cell_type": "markdown",
   "metadata": {},
   "source": [
    "# 读取数据"
   ]
  },
  {
   "cell_type": "markdown",
   "metadata": {},
   "source": [
    "## 训练数据标记"
   ]
  },
  {
   "cell_type": "code",
   "execution_count": 1,
   "metadata": {
    "ExecuteTime": {
     "end_time": "2020-11-24T14:34:42.985943Z",
     "start_time": "2020-11-24T14:34:37.028384Z"
    }
   },
   "outputs": [],
   "source": [
    "import os\n",
    "import pandas as pd\n",
    "from tqdm import tqdm"
   ]
  },
  {
   "cell_type": "code",
   "execution_count": 2,
   "metadata": {
    "ExecuteTime": {
     "end_time": "2020-11-24T14:34:43.032951Z",
     "start_time": "2020-11-24T14:34:43.019952Z"
    }
   },
   "outputs": [],
   "source": [
    "def get_df_label(label_path):\n",
    "    \"单个标签文件读取\"\n",
    "    return pd.read_csv(label_path)"
   ]
  },
  {
   "cell_type": "code",
   "execution_count": 3,
   "metadata": {
    "ExecuteTime": {
     "end_time": "2020-11-24T14:34:43.078952Z",
     "start_time": "2020-11-24T14:34:43.066953Z"
    },
    "code_folding": []
   },
   "outputs": [],
   "source": [
    "def get_list_data(data_path):\n",
    "    \"文本文件转为 单个字组成的list\"\n",
    "    with open(data_path, 'r', encoding='utf-8') as f:\n",
    "        line = ''.join(f.readlines())\n",
    "        list_data = list(line)\n",
    "    return list_data"
   ]
  },
  {
   "cell_type": "markdown",
   "metadata": {},
   "source": [
    "### IOBES"
   ]
  },
  {
   "cell_type": "code",
   "execution_count": 4,
   "metadata": {
    "ExecuteTime": {
     "end_time": "2020-11-23T15:15:03.263672Z",
     "start_time": "2020-11-23T15:15:03.247674Z"
    }
   },
   "outputs": [],
   "source": [
    "def get_BIOES(list_data, df_label):\n",
    "    \"将单字和对应ner标记，一一对应，标记体系为BIOES\"\n",
    "    list_label = ['O'] * len(list_data)\n",
    "    for index, d in df_label.iterrows():\n",
    "        ID = d['ID']\n",
    "        Category = d['Category']\n",
    "        Pos_b = d['Pos_b']\n",
    "        Pos_e = d['Pos_e']\n",
    "\n",
    "        if Pos_b == Pos_e:  # 单字\n",
    "            list_label[Pos_b] = 'S_' + Category\n",
    "        elif Pos_e - Pos_b == 1:  # 双字\n",
    "            list_label[Pos_b] = 'B_' + Category\n",
    "            list_label[Pos_e] = 'E_' + Category\n",
    "        else: # 多字\n",
    "            try:\n",
    "                list_label[Pos_b] = 'B_' + Category\n",
    "                list_label[Pos_e] = 'E_' + Category\n",
    "                for pos_i in range(Pos_b + 1, Pos_e):\n",
    "                    list_label[pos_i] = 'I_' + Category\n",
    "            except:\n",
    "                print(ID)\n",
    "    return [(ID, data, label) for data, label in zip(list_data, list_label)]"
   ]
  },
  {
   "cell_type": "markdown",
   "metadata": {},
   "source": [
    "### IOB"
   ]
  },
  {
   "cell_type": "code",
   "execution_count": 5,
   "metadata": {
    "ExecuteTime": {
     "end_time": "2020-11-23T15:15:07.123760Z",
     "start_time": "2020-11-23T15:15:07.106796Z"
    }
   },
   "outputs": [],
   "source": [
    "# TODO\n",
    "def get_IOB(list_data, df_label):\n",
    "    \"将单字和对应ner标记，一一对应，标记体系为BIOES\"\n",
    "    list_label = ['O'] * len(list_data)\n",
    "    for index, d in df_label.iterrows():\n",
    "        ID = d['ID']\n",
    "        Category = d['Category']\n",
    "        Pos_b = d['Pos_b']\n",
    "        Pos_e = d['Pos_e']\n",
    "\n",
    "        if Pos_b == Pos_e:  # 单字\n",
    "            list_label[Pos_b] = 'B_' + Category\n",
    "        else: # 多字\n",
    "            try:\n",
    "                list_label[Pos_b] = 'B_' + Category\n",
    "                for pos_i in range(Pos_b + 1, Pos_e + 1):\n",
    "                    list_label[pos_i] = 'I_' + Category\n",
    "            except:\n",
    "                print(ID)\n",
    "    return [(ID, data, label) for data, label in zip(list_data, list_label)]"
   ]
  },
  {
   "cell_type": "code",
   "execution_count": 6,
   "metadata": {
    "ExecuteTime": {
     "end_time": "2020-11-23T15:15:08.403904Z",
     "start_time": "2020-11-23T15:15:08.396904Z"
    }
   },
   "outputs": [],
   "source": [
    "def get_data_label(path_dir_data, path_dir_label):\n",
    "    \"标记并输出文件\"\n",
    "    # 训练数据集\n",
    "    list_IOB = []\n",
    "    # 获取训练集 ID\n",
    "    list_data_ID = [\n",
    "        file_name.split('.')[0] for file_name in os.listdir(path_dir_data)\n",
    "        if '.txt' in file_name\n",
    "    ]\n",
    "    list_label_ID = [\n",
    "        file_name.split('.')[0] for file_name in os.listdir(path_dir_label)\n",
    "        if '.csv' in file_name\n",
    "    ]\n",
    "\n",
    "    # 循环训练集 ID\n",
    "    for ID in tqdm(set(list_data_ID) & set(list_label_ID)):\n",
    "        # 获取词和标签地址\n",
    "        data_path = os.path.join(path_dir_data, ID + '.txt')\n",
    "        label_path = os.path.join(path_dir_label, ID + '.csv')\n",
    "\n",
    "        # 获取词和标签数据\n",
    "        list_data = get_list_data(data_path)\n",
    "        df_label = get_df_label(label_path)\n",
    "\n",
    "        # IOB 进行标注\n",
    "        IOB = get_IOB(list_data, df_label)\n",
    "\n",
    "        # 加入训练数据集\n",
    "        list_IOB += [IOB]\n",
    "\n",
    "    return list_IOB"
   ]
  },
  {
   "cell_type": "code",
   "execution_count": 7,
   "metadata": {
    "ExecuteTime": {
     "end_time": "2020-11-23T15:15:49.379949Z",
     "start_time": "2020-11-23T15:15:17.488664Z"
    }
   },
   "outputs": [
    {
     "name": "stderr",
     "output_type": "stream",
     "text": [
      "100%|████████████████████████████████████████████████████████████| 2515/2515 [00:31<00:00, 79.06it/s]\n"
     ]
    }
   ],
   "source": [
    "path_dir_data = '../data/train_data/'\n",
    "path_dir_label = '../data/train_label/'\n",
    "\n",
    "list_IOB_train = get_data_label(path_dir_data,path_dir_label)"
   ]
  },
  {
   "cell_type": "code",
   "execution_count": 8,
   "metadata": {
    "ExecuteTime": {
     "end_time": "2020-11-23T15:15:54.424934Z",
     "start_time": "2020-11-23T15:15:54.407978Z"
    }
   },
   "outputs": [
    {
     "data": {
      "text/plain": [
       "[(1561, '5', 'O'),\n",
       " (1561, '轮', 'O'),\n",
       " (1561, '不', 'O'),\n",
       " (1561, '胜', 'O'),\n",
       " (1561, '的', 'O'),\n",
       " (1561, '亚', 'B_organization'),\n",
       " (1561, '特', 'I_organization'),\n",
       " (1561, '兰', 'I_organization'),\n",
       " (1561, '大', 'I_organization'),\n",
       " (1561, '本', 'O'),\n",
       " (1561, '场', 'O'),\n",
       " (1561, '迎', 'O'),\n",
       " (1561, '来', 'O'),\n",
       " (1561, '多', 'B_name'),\n",
       " (1561, '尼', 'I_name'),\n",
       " (1561, '和', 'O'),\n",
       " (1561, '主', 'O'),\n",
       " (1561, '力', 'O'),\n",
       " (1561, '中', 'O'),\n",
       " (1561, '场', 'O'),\n",
       " (1561, '阿', 'B_name'),\n",
       " (1561, '斯', 'I_name'),\n",
       " (1561, '森', 'I_name'),\n",
       " (1561, '蒂', 'I_name'),\n",
       " (1561, '斯', 'I_name'),\n",
       " (1561, '的', 'O'),\n",
       " (1561, '复', 'O'),\n",
       " (1561, '出', 'O'),\n",
       " (1561, '，', 'O'),\n",
       " (1561, '与', 'O'),\n",
       " (1561, '上', 'O'),\n",
       " (1561, '轮', 'O'),\n",
       " (1561, '惜', 'O'),\n",
       " (1561, '败', 'O'),\n",
       " (1561, '给', 'O'),\n",
       " (1561, '佛', 'B_organization'),\n",
       " (1561, '罗', 'I_organization'),\n",
       " (1561, '伦', 'I_organization'),\n",
       " (1561, '萨', 'I_organization'),\n",
       " (1561, '相', 'O'),\n",
       " (1561, '比', 'O'),\n",
       " (1561, '阵', 'O'),\n",
       " (1561, '容', 'O'),\n",
       " (1561, '更', 'O'),\n",
       " (1561, '加', 'O'),\n",
       " (1561, '完', 'O'),\n",
       " (1561, '整', 'O'),\n",
       " (1561, '。', 'O')]"
      ]
     },
     "execution_count": 8,
     "metadata": {},
     "output_type": "execute_result"
    }
   ],
   "source": [
    "list_IOB_train[0]"
   ]
  },
  {
   "cell_type": "markdown",
   "metadata": {},
   "source": [
    "NOTE：IOB标记的数据模型还未跑，IOBES已完成模型训练"
   ]
  },
  {
   "cell_type": "markdown",
   "metadata": {},
   "source": [
    "### 输出标记文件"
   ]
  },
  {
   "cell_type": "code",
   "execution_count": 9,
   "metadata": {
    "ExecuteTime": {
     "end_time": "2020-11-23T15:16:00.048739Z",
     "start_time": "2020-11-23T15:16:00.031740Z"
    }
   },
   "outputs": [],
   "source": [
    "def get_data_label(path_dir_data, path_dir_label):\n",
    "    \"标记并输出文件\"\n",
    "    # 训练数据集\n",
    "    list_BIOES = []\n",
    "    # 获取训练集 ID\n",
    "    list_data_ID = [\n",
    "        file_name.split('.')[0] for file_name in os.listdir(path_dir_data)\n",
    "        if '.txt' in file_name\n",
    "    ]\n",
    "    list_label_ID = [\n",
    "        file_name.split('.')[0] for file_name in os.listdir(path_dir_label)\n",
    "        if '.csv' in file_name\n",
    "    ]\n",
    "\n",
    "    # 循环训练集 ID\n",
    "    for ID in tqdm(set(list_data_ID) & set(list_label_ID)):\n",
    "        # 获取词和标签地址\n",
    "        data_path = os.path.join(path_dir_data, ID + '.txt')\n",
    "        label_path = os.path.join(path_dir_label, ID + '.csv')\n",
    "\n",
    "        # 获取词和标签数据\n",
    "        list_data = get_list_data(data_path)\n",
    "        df_label = get_df_label(label_path)\n",
    "\n",
    "        # BIOES 进行标注\n",
    "        BIOES = get_BIOES(list_data, df_label)\n",
    "\n",
    "        # 加入训练数据集\n",
    "        list_BIOES += [BIOES]\n",
    "\n",
    "    return list_BIOES"
   ]
  },
  {
   "cell_type": "code",
   "execution_count": 12,
   "metadata": {
    "ExecuteTime": {
     "end_time": "2020-11-24T14:35:48.880834Z",
     "start_time": "2020-11-24T14:35:48.862838Z"
    }
   },
   "outputs": [],
   "source": [
    "path_dir_data = '../data/train_data/'\n",
    "path_dir_label = '../data/train_label/'"
   ]
  },
  {
   "cell_type": "code",
   "execution_count": 11,
   "metadata": {
    "ExecuteTime": {
     "end_time": "2020-11-23T15:16:20.187049Z",
     "start_time": "2020-11-23T15:16:09.186939Z"
    },
    "scrolled": true
   },
   "outputs": [
    {
     "name": "stderr",
     "output_type": "stream",
     "text": [
      "100%|███████████████████████████████████████████████████████████| 2515/2515 [00:10<00:00, 229.01it/s]\n"
     ]
    }
   ],
   "source": [
    "list_BIOES_train = get_data_label(path_dir_data,path_dir_label)"
   ]
  },
  {
   "cell_type": "code",
   "execution_count": 12,
   "metadata": {
    "ExecuteTime": {
     "end_time": "2020-11-23T15:16:21.874191Z",
     "start_time": "2020-11-23T15:16:21.855191Z"
    }
   },
   "outputs": [
    {
     "data": {
      "text/plain": [
       "[(1561, '5', 'O'),\n",
       " (1561, '轮', 'O'),\n",
       " (1561, '不', 'O'),\n",
       " (1561, '胜', 'O'),\n",
       " (1561, '的', 'O'),\n",
       " (1561, '亚', 'B_organization'),\n",
       " (1561, '特', 'I_organization'),\n",
       " (1561, '兰', 'I_organization'),\n",
       " (1561, '大', 'E_organization'),\n",
       " (1561, '本', 'O'),\n",
       " (1561, '场', 'O'),\n",
       " (1561, '迎', 'O'),\n",
       " (1561, '来', 'O'),\n",
       " (1561, '多', 'B_name'),\n",
       " (1561, '尼', 'E_name'),\n",
       " (1561, '和', 'O'),\n",
       " (1561, '主', 'O'),\n",
       " (1561, '力', 'O'),\n",
       " (1561, '中', 'O'),\n",
       " (1561, '场', 'O'),\n",
       " (1561, '阿', 'B_name'),\n",
       " (1561, '斯', 'I_name'),\n",
       " (1561, '森', 'I_name'),\n",
       " (1561, '蒂', 'I_name'),\n",
       " (1561, '斯', 'E_name'),\n",
       " (1561, '的', 'O'),\n",
       " (1561, '复', 'O'),\n",
       " (1561, '出', 'O'),\n",
       " (1561, '，', 'O'),\n",
       " (1561, '与', 'O'),\n",
       " (1561, '上', 'O'),\n",
       " (1561, '轮', 'O'),\n",
       " (1561, '惜', 'O'),\n",
       " (1561, '败', 'O'),\n",
       " (1561, '给', 'O'),\n",
       " (1561, '佛', 'B_organization'),\n",
       " (1561, '罗', 'I_organization'),\n",
       " (1561, '伦', 'I_organization'),\n",
       " (1561, '萨', 'E_organization'),\n",
       " (1561, '相', 'O'),\n",
       " (1561, '比', 'O'),\n",
       " (1561, '阵', 'O'),\n",
       " (1561, '容', 'O'),\n",
       " (1561, '更', 'O'),\n",
       " (1561, '加', 'O'),\n",
       " (1561, '完', 'O'),\n",
       " (1561, '整', 'O'),\n",
       " (1561, '。', 'O')]"
      ]
     },
     "execution_count": 12,
     "metadata": {},
     "output_type": "execute_result"
    }
   ],
   "source": [
    "list_BIOES_train[0]"
   ]
  },
  {
   "cell_type": "code",
   "execution_count": 39,
   "metadata": {
    "ExecuteTime": {
     "end_time": "2020-11-17T04:04:28.915476Z",
     "start_time": "2020-11-17T04:04:28.908446Z"
    }
   },
   "outputs": [],
   "source": [
    "# for item in list_BIOES_train:\n",
    "#     if item[0][0]==2162:\n",
    "#         print(item)"
   ]
  },
  {
   "cell_type": "markdown",
   "metadata": {},
   "source": [
    "## 测试数据标记"
   ]
  },
  {
   "cell_type": "code",
   "execution_count": 13,
   "metadata": {
    "ExecuteTime": {
     "end_time": "2020-11-23T15:16:30.624139Z",
     "start_time": "2020-11-23T15:16:30.604138Z"
    }
   },
   "outputs": [],
   "source": [
    "def get_data(path_dir_data):\n",
    "\n",
    "    # 测试数据集\n",
    "    list_toPredict = []\n",
    "    # 获取测试集 ID\n",
    "    list_data_ID = [\n",
    "        file_name.split('.')[0] for file_name in os.listdir(path_dir_data)\n",
    "        if '.txt' in file_name\n",
    "    ]\n",
    "\n",
    "    # 循环测试集 ID\n",
    "    for ID in tqdm(set(list_data_ID)):\n",
    "        # 获取词\n",
    "        data_path = os.path.join(path_dir_data, ID + '.txt')\n",
    "\n",
    "        # 获取词\n",
    "        list_data = get_list_data(data_path)\n",
    "\n",
    "        # 无标注\n",
    "        toPredict = [(ID, data, 'N') for data in list_data]\n",
    "\n",
    "        # 加入训练数据集\n",
    "        list_toPredict += [toPredict]\n",
    "\n",
    "    return list_toPredict"
   ]
  },
  {
   "cell_type": "code",
   "execution_count": 11,
   "metadata": {
    "ExecuteTime": {
     "end_time": "2020-11-24T14:35:40.093183Z",
     "start_time": "2020-11-24T14:35:40.076185Z"
    }
   },
   "outputs": [],
   "source": [
    "path_dir_data = '../data/test_data'"
   ]
  },
  {
   "cell_type": "code",
   "execution_count": 15,
   "metadata": {
    "ExecuteTime": {
     "end_time": "2020-11-23T15:16:46.880738Z",
     "start_time": "2020-11-23T15:16:32.998842Z"
    },
    "scrolled": true
   },
   "outputs": [
    {
     "name": "stderr",
     "output_type": "stream",
     "text": [
      "100%|███████████████████████████████████████████████████████████| 3956/3956 [00:13<00:00, 285.22it/s]\n"
     ]
    }
   ],
   "source": [
    "list_toPredict_test = get_data(path_dir_data)"
   ]
  },
  {
   "cell_type": "code",
   "execution_count": 16,
   "metadata": {
    "ExecuteTime": {
     "end_time": "2020-11-23T15:16:50.013060Z",
     "start_time": "2020-11-23T15:16:49.992065Z"
    }
   },
   "outputs": [
    {
     "data": {
      "text/plain": [
       "[('1561', '宁', 'N'),\n",
       " ('1561', '可', 'N'),\n",
       " ('1561', '认', 'N'),\n",
       " ('1561', '错', 'N'),\n",
       " ('1561', '也', 'N'),\n",
       " ('1561', '不', 'N'),\n",
       " ('1561', '要', 'N'),\n",
       " ('1561', '说', 'N'),\n",
       " ('1561', '谎', 'N'),\n",
       " ('1561', '，', 'N'),\n",
       " ('1561', '因', 'N'),\n",
       " ('1561', '为', 'N'),\n",
       " ('1561', '认', 'N'),\n",
       " ('1561', '错', 'N'),\n",
       " ('1561', '只', 'N'),\n",
       " ('1561', '是', 'N'),\n",
       " ('1561', '面', 'N'),\n",
       " ('1561', '子', 'N'),\n",
       " ('1561', '问', 'N'),\n",
       " ('1561', '题', 'N'),\n",
       " ('1561', '，', 'N'),\n",
       " ('1561', '而', 'N'),\n",
       " ('1561', '说', 'N'),\n",
       " ('1561', '谎', 'N'),\n",
       " ('1561', '却', 'N'),\n",
       " ('1561', '要', 'N'),\n",
       " ('1561', '付', 'N'),\n",
       " ('1561', '出', 'N'),\n",
       " ('1561', '长', 'N'),\n",
       " ('1561', '期', 'N'),\n",
       " ('1561', '包', 'N'),\n",
       " ('1561', '装', 'N'),\n",
       " ('1561', '成', 'N'),\n",
       " ('1561', '本', 'N'),\n",
       " ('1561', ';', 'N'),\n",
       " ('1561', '宁', 'N'),\n",
       " ('1561', '可', 'N'),\n",
       " ('1561', '挨', 'N'),\n",
       " ('1561', '批', 'N'),\n",
       " ('1561', '也', 'N'),\n",
       " ('1561', '不', 'N'),\n",
       " ('1561', '要', 'N'),\n",
       " ('1561', '内', 'N'),\n",
       " ('1561', '疚', 'N'),\n",
       " ('1561', '，', 'N'),\n",
       " ('1561', '因', 'N'),\n",
       " ('1561', '为', 'N'),\n",
       " ('1561', '挨', 'N'),\n",
       " ('1561', '批', 'N'),\n",
       " ('1561', '只', 'N'),\n",
       " ('1561', '是', 'N'),\n",
       " ('1561', '短', 'N'),\n",
       " ('1561', '暂', 'N'),\n",
       " ('1561', '的', 'N'),\n",
       " ('1561', '难', 'N'),\n",
       " ('1561', '受', 'N'),\n",
       " ('1561', '，', 'N'),\n",
       " ('1561', '而', 'N'),\n",
       " ('1561', '内', 'N'),\n",
       " ('1561', '疚', 'N'),\n",
       " ('1561', '却', 'N'),\n",
       " ('1561', '是', 'N'),\n",
       " ('1561', '长', 'N'),\n",
       " ('1561', '时', 'N'),\n",
       " ('1561', '间', 'N'),\n",
       " ('1561', '的', 'N'),\n",
       " ('1561', '折', 'N'),\n",
       " ('1561', '磨', 'N'),\n",
       " ('1561', '。', 'N'),\n",
       " ('1561', '，', 'N'),\n",
       " ('1561', '河', 'N'),\n",
       " ('1561', '南', 'N'),\n",
       " ('1561', '省', 'N'),\n",
       " ('1561', '三', 'N'),\n",
       " ('1561', '门', 'N'),\n",
       " ('1561', '峡', 'N'),\n",
       " ('1561', '市', 'N'),\n",
       " ('1561', '陕', 'N'),\n",
       " ('1561', '县', 'N'),\n",
       " ('1561', '公', 'N'),\n",
       " ('1561', '安', 'N'),\n",
       " ('1561', '局', 'N'),\n",
       " ('1561', '民', 'N'),\n",
       " ('1561', '警', 'N'),\n",
       " ('1561', '张', 'N'),\n",
       " ('1561', '波', 'N'),\n",
       " ('1561', '\"', 'N')]"
      ]
     },
     "execution_count": 16,
     "metadata": {},
     "output_type": "execute_result"
    }
   ],
   "source": [
    "list_toPredict_test[0]"
   ]
  },
  {
   "cell_type": "markdown",
   "metadata": {},
   "source": [
    "# 查看数据"
   ]
  },
  {
   "cell_type": "markdown",
   "metadata": {},
   "source": [
    "## 获取数据"
   ]
  },
  {
   "cell_type": "code",
   "execution_count": 4,
   "metadata": {
    "ExecuteTime": {
     "end_time": "2020-11-24T14:34:51.708308Z",
     "start_time": "2020-11-24T14:34:51.699313Z"
    }
   },
   "outputs": [],
   "source": [
    "def get_dataframe(path_dir_data):\n",
    "    # 获取的数据\n",
    "    list_ID = []\n",
    "    list_data = []\n",
    "\n",
    "    # 获取ID\n",
    "    list_data_ID = [\n",
    "        file_name.split('.')[0] for file_name in os.listdir(path_dir_data)\n",
    "        if '.txt' in file_name\n",
    "    ]\n",
    "    # 循环ID\n",
    "    for ID in tqdm(set(list_data_ID)):\n",
    "        # 获取词\n",
    "        data_path = os.path.join(path_dir_data, ID + '.txt')\n",
    "        with open(data_path, 'r', encoding='utf-8') as f:\n",
    "            line = ''.join(f.readlines())\n",
    "        # 获取词\n",
    "        list_ID += [ID]\n",
    "        list_data += [line]\n",
    "    # dataframe\n",
    "    df_data = pd.DataFrame()\n",
    "    df_data['ID'] = list_ID\n",
    "    df_data['data'] = list_data\n",
    "    return df_data"
   ]
  },
  {
   "cell_type": "code",
   "execution_count": 5,
   "metadata": {
    "ExecuteTime": {
     "end_time": "2020-11-24T14:34:52.149051Z",
     "start_time": "2020-11-24T14:34:52.131013Z"
    }
   },
   "outputs": [],
   "source": [
    "path_dir_data_train = '../data/train_data/'\n",
    "path_dir_data_test = '../data/test_data/'"
   ]
  },
  {
   "cell_type": "code",
   "execution_count": 6,
   "metadata": {
    "ExecuteTime": {
     "end_time": "2020-11-24T14:35:03.158726Z",
     "start_time": "2020-11-24T14:34:52.808969Z"
    }
   },
   "outputs": [
    {
     "name": "stderr",
     "output_type": "stream",
     "text": [
      "100%|█████████████████████████████████████████████████████████████████████████████████████████████████████████| 2515/2515 [00:10<00:00, 244.58it/s]\n"
     ]
    }
   ],
   "source": [
    "df_train = get_dataframe(path_dir_data_train)"
   ]
  },
  {
   "cell_type": "code",
   "execution_count": 7,
   "metadata": {
    "ExecuteTime": {
     "end_time": "2020-11-24T14:35:17.356923Z",
     "start_time": "2020-11-24T14:35:03.225726Z"
    }
   },
   "outputs": [
    {
     "name": "stderr",
     "output_type": "stream",
     "text": [
      "100%|█████████████████████████████████████████████████████████████████████████████████████████████████████████| 3956/3956 [00:14<00:00, 280.29it/s]\n"
     ]
    }
   ],
   "source": [
    "df_test = get_dataframe(path_dir_data_test)"
   ]
  },
  {
   "cell_type": "code",
   "execution_count": 28,
   "metadata": {
    "ExecuteTime": {
     "end_time": "2020-11-17T03:58:49.521745Z",
     "start_time": "2020-11-17T03:58:49.508745Z"
    }
   },
   "outputs": [
    {
     "data": {
      "text/html": [
       "<div>\n",
       "<style scoped>\n",
       "    .dataframe tbody tr th:only-of-type {\n",
       "        vertical-align: middle;\n",
       "    }\n",
       "\n",
       "    .dataframe tbody tr th {\n",
       "        vertical-align: top;\n",
       "    }\n",
       "\n",
       "    .dataframe thead th {\n",
       "        text-align: right;\n",
       "    }\n",
       "</style>\n",
       "<table border=\"1\" class=\"dataframe\">\n",
       "  <thead>\n",
       "    <tr style=\"text-align: right;\">\n",
       "      <th></th>\n",
       "      <th>ID</th>\n",
       "      <th>data</th>\n",
       "    </tr>\n",
       "  </thead>\n",
       "  <tbody>\n",
       "    <tr>\n",
       "      <th>0</th>\n",
       "      <td>2345</td>\n",
       "      <td>综合6项指标，最后评出工行综合服务最好，北京银行最差。北京银行之所以得分最低，主因是还处于起...</td>\n",
       "    </tr>\n",
       "    <tr>\n",
       "      <th>1</th>\n",
       "      <td>84</td>\n",
       "      <td>实录：丽泽金融商务区发展高峰论坛（组图）也不曾看到这两家网站提起过，因此我们可以断定这个倒计...</td>\n",
       "    </tr>\n",
       "    <tr>\n",
       "      <th>2</th>\n",
       "      <td>1482</td>\n",
       "      <td>此外，就是否将美军普天间机场的原定搬迁目的地名护市的设施建设费等288亿日元（约合21.Oa...</td>\n",
       "    </tr>\n",
       "    <tr>\n",
       "      <th>3</th>\n",
       "      <td>2092</td>\n",
       "      <td>代言和授权请联系fanstang@fanstang.com;AdamLevine，Maroo...</td>\n",
       "    </tr>\n",
       "    <tr>\n",
       "      <th>4</th>\n",
       "      <td>1054</td>\n",
       "      <td>德军的科学家们正在进行秘密实验，一个比唤醒僵尸大军还要恐怖的实验计划。</td>\n",
       "    </tr>\n",
       "    <tr>\n",
       "      <th>...</th>\n",
       "      <td>...</td>\n",
       "      <td>...</td>\n",
       "    </tr>\n",
       "    <tr>\n",
       "      <th>2510</th>\n",
       "      <td>2143</td>\n",
       "      <td>神愛世人！我愛你！网站：ericsuen.com或er16.com或lo-suen.hk工作...</td>\n",
       "    </tr>\n",
       "    <tr>\n",
       "      <th>2511</th>\n",
       "      <td>1915</td>\n",
       "      <td>最好的例子就是星际国家冠军林耀焕（Slayers_BoxeR）。“他真的非常出名。</td>\n",
       "    </tr>\n",
       "    <tr>\n",
       "      <th>2512</th>\n",
       "      <td>545</td>\n",
       "      <td>大家好！我叫DomePakornlam。你們可以在IG:domepakornlam，icon...</td>\n",
       "    </tr>\n",
       "    <tr>\n",
       "      <th>2513</th>\n",
       "      <td>1385</td>\n",
       "      <td>入圍第十八屆金曲獎最佳客語演唱獎、第四屆母語原創大賽最佳表演獎。相關洽詢：+88673802...</td>\n",
       "    </tr>\n",
       "    <tr>\n",
       "      <th>2514</th>\n",
       "      <td>1243</td>\n",
       "      <td>风扬数据提点：蓝军主场分胜负曼联拜仁继续追赶参观完大教堂，可以在老城区里随意走走，吃点东西，...</td>\n",
       "    </tr>\n",
       "  </tbody>\n",
       "</table>\n",
       "<p>2515 rows × 2 columns</p>\n",
       "</div>"
      ],
      "text/plain": [
       "        ID                                               data\n",
       "0     2345  综合6项指标，最后评出工行综合服务最好，北京银行最差。北京银行之所以得分最低，主因是还处于起...\n",
       "1       84  实录：丽泽金融商务区发展高峰论坛（组图）也不曾看到这两家网站提起过，因此我们可以断定这个倒计...\n",
       "2     1482  此外，就是否将美军普天间机场的原定搬迁目的地名护市的设施建设费等288亿日元（约合21.Oa...\n",
       "3     2092  代言和授权请联系fanstang@fanstang.com;AdamLevine，Maroo...\n",
       "4     1054                德军的科学家们正在进行秘密实验，一个比唤醒僵尸大军还要恐怖的实验计划。\n",
       "...    ...                                                ...\n",
       "2510  2143  神愛世人！我愛你！网站：ericsuen.com或er16.com或lo-suen.hk工作...\n",
       "2511  1915          最好的例子就是星际国家冠军林耀焕（Slayers_BoxeR）。“他真的非常出名。\n",
       "2512   545  大家好！我叫DomePakornlam。你們可以在IG:domepakornlam，icon...\n",
       "2513  1385  入圍第十八屆金曲獎最佳客語演唱獎、第四屆母語原創大賽最佳表演獎。相關洽詢：+88673802...\n",
       "2514  1243  风扬数据提点：蓝军主场分胜负曼联拜仁继续追赶参观完大教堂，可以在老城区里随意走走，吃点东西，...\n",
       "\n",
       "[2515 rows x 2 columns]"
      ]
     },
     "execution_count": 28,
     "metadata": {},
     "output_type": "execute_result"
    }
   ],
   "source": [
    "df_train"
   ]
  },
  {
   "cell_type": "code",
   "execution_count": 29,
   "metadata": {
    "ExecuteTime": {
     "end_time": "2020-11-17T03:59:17.354844Z",
     "start_time": "2020-11-17T03:59:17.335843Z"
    }
   },
   "outputs": [
    {
     "data": {
      "text/html": [
       "<div>\n",
       "<style scoped>\n",
       "    .dataframe tbody tr th:only-of-type {\n",
       "        vertical-align: middle;\n",
       "    }\n",
       "\n",
       "    .dataframe tbody tr th {\n",
       "        vertical-align: top;\n",
       "    }\n",
       "\n",
       "    .dataframe thead th {\n",
       "        text-align: right;\n",
       "    }\n",
       "</style>\n",
       "<table border=\"1\" class=\"dataframe\">\n",
       "  <thead>\n",
       "    <tr style=\"text-align: right;\">\n",
       "      <th></th>\n",
       "      <th>ID</th>\n",
       "      <th>data</th>\n",
       "    </tr>\n",
       "  </thead>\n",
       "  <tbody>\n",
       "    <tr>\n",
       "      <th>0</th>\n",
       "      <td>2345</td>\n",
       "      <td>关于刀锋女皇萨拉·凯瑞甘故事，你最好的了解方式就是阅读《利伯蒂的远征》和《刀锋女皇》一位不愿...</td>\n",
       "    </tr>\n",
       "    <tr>\n",
       "      <th>1</th>\n",
       "      <td>84</td>\n",
       "      <td>我是柯英豪，来自美国南部的德克萨斯州。现任美国驻华大使馆新闻发言人一职。爱好包括旅游，美食和...</td>\n",
       "    </tr>\n",
       "    <tr>\n",
       "      <th>2</th>\n",
       "      <td>2752</td>\n",
       "      <td>简单而安全的滑索让你全身心投入到高空中，拿出勇气，展开手臂，用超人的姿态来征服此刻的卢霍山。</td>\n",
       "    </tr>\n",
       "    <tr>\n",
       "      <th>3</th>\n",
       "      <td>1482</td>\n",
       "      <td>网易在内部邮件中谈及此前魔兽开服所遇到的困难时这样表示。</td>\n",
       "    </tr>\n",
       "    <tr>\n",
       "      <th>4</th>\n",
       "      <td>2092</td>\n",
       "      <td>郑大北门西20米二楼）的七彩商都网吧。有兴趣与高手一决胜负的电竞爱好者们欢迎踊跃报名。</td>\n",
       "    </tr>\n",
       "    <tr>\n",
       "      <th>...</th>\n",
       "      <td>...</td>\n",
       "      <td>...</td>\n",
       "    </tr>\n",
       "    <tr>\n",
       "      <th>3951</th>\n",
       "      <td>3830</td>\n",
       "      <td>【钢丝善行团管理委员会委员】政务名博、新浪微公益爱心团成员、新浪微博社区委员会专家成员。ht...</td>\n",
       "    </tr>\n",
       "    <tr>\n",
       "      <th>3952</th>\n",
       "      <td>3212</td>\n",
       "      <td>80后作家，出版《玄机》《战狼》《墓闻录》《天佛之眼》《搜异笔记》《死神十字》《神秘事件调查...</td>\n",
       "    </tr>\n",
       "    <tr>\n",
       "      <th>3953</th>\n",
       "      <td>545</td>\n",
       "      <td>中国摄影家协会会员、国际摄影协会会员、香港国际摄影杂志社记者、新华社签约摄影师。博客：htt...</td>\n",
       "    </tr>\n",
       "    <tr>\n",
       "      <th>3954</th>\n",
       "      <td>1385</td>\n",
       "      <td>傲娇的伪萌者，爱魔力，爱西索，爱东方，COS玩的是开心~我不是人民币不求人见人爱~，CCAS...</td>\n",
       "    </tr>\n",
       "    <tr>\n",
       "      <th>3955</th>\n",
       "      <td>1243</td>\n",
       "      <td>著名演员，中央戏剧学院同巩俐、史可等成为中戏“五朵金花”。主演有《汗血宝马》《一帘幽梦》《我...</td>\n",
       "    </tr>\n",
       "  </tbody>\n",
       "</table>\n",
       "<p>3956 rows × 2 columns</p>\n",
       "</div>"
      ],
      "text/plain": [
       "        ID                                               data\n",
       "0     2345  关于刀锋女皇萨拉·凯瑞甘故事，你最好的了解方式就是阅读《利伯蒂的远征》和《刀锋女皇》一位不愿...\n",
       "1       84  我是柯英豪，来自美国南部的德克萨斯州。现任美国驻华大使馆新闻发言人一职。爱好包括旅游，美食和...\n",
       "2     2752     简单而安全的滑索让你全身心投入到高空中，拿出勇气，展开手臂，用超人的姿态来征服此刻的卢霍山。\n",
       "3     1482                       网易在内部邮件中谈及此前魔兽开服所遇到的困难时这样表示。\n",
       "4     2092        郑大北门西20米二楼）的七彩商都网吧。有兴趣与高手一决胜负的电竞爱好者们欢迎踊跃报名。\n",
       "...    ...                                                ...\n",
       "3951  3830  【钢丝善行团管理委员会委员】政务名博、新浪微公益爱心团成员、新浪微博社区委员会专家成员。ht...\n",
       "3952  3212  80后作家，出版《玄机》《战狼》《墓闻录》《天佛之眼》《搜异笔记》《死神十字》《神秘事件调查...\n",
       "3953   545  中国摄影家协会会员、国际摄影协会会员、香港国际摄影杂志社记者、新华社签约摄影师。博客：htt...\n",
       "3954  1385  傲娇的伪萌者，爱魔力，爱西索，爱东方，COS玩的是开心~我不是人民币不求人见人爱~，CCAS...\n",
       "3955  1243  著名演员，中央戏剧学院同巩俐、史可等成为中戏“五朵金花”。主演有《汗血宝马》《一帘幽梦》《我...\n",
       "\n",
       "[3956 rows x 2 columns]"
      ]
     },
     "execution_count": 29,
     "metadata": {},
     "output_type": "execute_result"
    }
   ],
   "source": [
    "df_test"
   ]
  },
  {
   "cell_type": "markdown",
   "metadata": {},
   "source": [
    "## 获取标签"
   ]
  },
  {
   "cell_type": "code",
   "execution_count": 8,
   "metadata": {
    "ExecuteTime": {
     "end_time": "2020-11-24T14:35:17.433921Z",
     "start_time": "2020-11-24T14:35:17.420927Z"
    }
   },
   "outputs": [],
   "source": [
    "def get_label(path_dir_data):\n",
    "    # 获取的数据\n",
    "    list_df_label = []\n",
    "    \n",
    "    # 获取ID\n",
    "    list_label_ID = [file_name.split('.')[0] for file_name in os.listdir(path_dir_label) if '.csv' in file_name]\n",
    "    # 循环ID\n",
    "    for ID in tqdm(set(list_label_ID)):\n",
    "        # 获取标签\n",
    "        label_path = os.path.join(path_dir_label,ID+'.csv')\n",
    "        df_label = get_df_label(label_path)\n",
    "        list_df_label += [df_label]\n",
    "        \n",
    "    # dataframe\n",
    "    df_label = pd.concat(list_df_label)\n",
    "    return df_label"
   ]
  },
  {
   "cell_type": "code",
   "execution_count": 13,
   "metadata": {
    "ExecuteTime": {
     "end_time": "2020-11-24T14:36:12.566029Z",
     "start_time": "2020-11-24T14:35:59.486618Z"
    },
    "scrolled": true
   },
   "outputs": [
    {
     "name": "stderr",
     "output_type": "stream",
     "text": [
      "100%|█████████████████████████████████████████████████████████████████████████████████████████████████████████| 2515/2515 [00:11<00:00, 211.09it/s]\n"
     ]
    }
   ],
   "source": [
    "df_label_train = get_label('../data/train_label/')"
   ]
  },
  {
   "cell_type": "code",
   "execution_count": 33,
   "metadata": {
    "ExecuteTime": {
     "end_time": "2020-11-17T04:00:06.537241Z",
     "start_time": "2020-11-17T04:00:06.527215Z"
    }
   },
   "outputs": [
    {
     "data": {
      "text/html": [
       "<div>\n",
       "<style scoped>\n",
       "    .dataframe tbody tr th:only-of-type {\n",
       "        vertical-align: middle;\n",
       "    }\n",
       "\n",
       "    .dataframe tbody tr th {\n",
       "        vertical-align: top;\n",
       "    }\n",
       "\n",
       "    .dataframe thead th {\n",
       "        text-align: right;\n",
       "    }\n",
       "</style>\n",
       "<table border=\"1\" class=\"dataframe\">\n",
       "  <thead>\n",
       "    <tr style=\"text-align: right;\">\n",
       "      <th></th>\n",
       "      <th>ID</th>\n",
       "      <th>Category</th>\n",
       "      <th>Pos_b</th>\n",
       "      <th>Pos_e</th>\n",
       "      <th>Privacy</th>\n",
       "    </tr>\n",
       "  </thead>\n",
       "  <tbody>\n",
       "    <tr>\n",
       "      <th>0</th>\n",
       "      <td>2345</td>\n",
       "      <td>company</td>\n",
       "      <td>11</td>\n",
       "      <td>12</td>\n",
       "      <td>工行</td>\n",
       "    </tr>\n",
       "    <tr>\n",
       "      <th>1</th>\n",
       "      <td>2345</td>\n",
       "      <td>company</td>\n",
       "      <td>20</td>\n",
       "      <td>23</td>\n",
       "      <td>北京银行</td>\n",
       "    </tr>\n",
       "    <tr>\n",
       "      <th>2</th>\n",
       "      <td>2345</td>\n",
       "      <td>company</td>\n",
       "      <td>27</td>\n",
       "      <td>30</td>\n",
       "      <td>北京银行</td>\n",
       "    </tr>\n",
       "    <tr>\n",
       "      <th>3</th>\n",
       "      <td>2345</td>\n",
       "      <td>address</td>\n",
       "      <td>52</td>\n",
       "      <td>61</td>\n",
       "      <td>三街玉苍路路口红绿灯</td>\n",
       "    </tr>\n",
       "    <tr>\n",
       "      <th>4</th>\n",
       "      <td>2345</td>\n",
       "      <td>book</td>\n",
       "      <td>132</td>\n",
       "      <td>135</td>\n",
       "      <td>草间弥生</td>\n",
       "    </tr>\n",
       "  </tbody>\n",
       "</table>\n",
       "</div>"
      ],
      "text/plain": [
       "     ID Category  Pos_b  Pos_e     Privacy\n",
       "0  2345  company     11     12          工行\n",
       "1  2345  company     20     23        北京银行\n",
       "2  2345  company     27     30        北京银行\n",
       "3  2345  address     52     61  三街玉苍路路口红绿灯\n",
       "4  2345     book    132    135        草间弥生"
      ]
     },
     "execution_count": 33,
     "metadata": {},
     "output_type": "execute_result"
    }
   ],
   "source": [
    "df_label_train.head()"
   ]
  },
  {
   "cell_type": "code",
   "execution_count": 34,
   "metadata": {
    "ExecuteTime": {
     "end_time": "2020-11-17T04:00:16.766302Z",
     "start_time": "2020-11-17T04:00:16.743305Z"
    }
   },
   "outputs": [
    {
     "data": {
      "text/plain": [
       "{'QQ',\n",
       " 'address',\n",
       " 'book',\n",
       " 'company',\n",
       " 'email',\n",
       " 'game',\n",
       " 'government',\n",
       " 'mobile',\n",
       " 'movie',\n",
       " 'name',\n",
       " 'organization',\n",
       " 'position',\n",
       " 'scene',\n",
       " 'vx'}"
      ]
     },
     "execution_count": 34,
     "metadata": {},
     "output_type": "execute_result"
    }
   ],
   "source": [
    "set(df_label_train.Category)"
   ]
  },
  {
   "cell_type": "markdown",
   "metadata": {},
   "source": [
    "## 聚合不同类型标签查看"
   ]
  },
  {
   "cell_type": "code",
   "execution_count": 17,
   "metadata": {
    "ExecuteTime": {
     "end_time": "2020-11-24T14:37:28.043663Z",
     "start_time": "2020-11-24T14:37:28.015630Z"
    }
   },
   "outputs": [],
   "source": [
    "# 分别聚合所有标签包含的实体\n",
    "df_label_train_Category = df_label_train.groupby(['Category'])['Privacy'].agg(lambda x: ' | '.join([str(i) for i in list(x)])).reset_index()"
   ]
  },
  {
   "cell_type": "code",
   "execution_count": 18,
   "metadata": {
    "ExecuteTime": {
     "end_time": "2020-11-24T14:37:29.821547Z",
     "start_time": "2020-11-24T14:37:29.798551Z"
    },
    "scrolled": false
   },
   "outputs": [
    {
     "data": {
      "text/html": [
       "<div>\n",
       "<style scoped>\n",
       "    .dataframe tbody tr th:only-of-type {\n",
       "        vertical-align: middle;\n",
       "    }\n",
       "\n",
       "    .dataframe tbody tr th {\n",
       "        vertical-align: top;\n",
       "    }\n",
       "\n",
       "    .dataframe thead th {\n",
       "        text-align: right;\n",
       "    }\n",
       "</style>\n",
       "<table border=\"1\" class=\"dataframe\">\n",
       "  <thead>\n",
       "    <tr style=\"text-align: right;\">\n",
       "      <th></th>\n",
       "      <th>Category</th>\n",
       "      <th>Privacy</th>\n",
       "    </tr>\n",
       "  </thead>\n",
       "  <tbody>\n",
       "    <tr>\n",
       "      <th>0</th>\n",
       "      <td>QQ</td>\n",
       "      <td>1143175993 | 2308713823 | 783594553 | 14705257...</td>\n",
       "    </tr>\n",
       "    <tr>\n",
       "      <th>1</th>\n",
       "      <td>address</td>\n",
       "      <td>库兰达 | 香格里拉县城 | 香港 | 香港 | 台湾 | 沃尔库塔劳工集中营 | 恒晟超市...</td>\n",
       "    </tr>\n",
       "    <tr>\n",
       "      <th>2</th>\n",
       "      <td>book</td>\n",
       "      <td>《了不起的盖茨比》 | 《经济参考报》 | 《电脑游戏攻略》 | 《北京市经济适用住房销售许...</td>\n",
       "    </tr>\n",
       "    <tr>\n",
       "      <th>3</th>\n",
       "      <td>company</td>\n",
       "      <td>招行 | 北京骑士美苑影视文化传媒有限公司 | 中行 | 宝钢 | 新浪乐居 | 新浪网联 ...</td>\n",
       "    </tr>\n",
       "    <tr>\n",
       "      <th>4</th>\n",
       "      <td>email</td>\n",
       "      <td>1213785766@qq.com | tvbbecky@gmail.com | young...</td>\n",
       "    </tr>\n",
       "    <tr>\n",
       "      <th>5</th>\n",
       "      <td>game</td>\n",
       "      <td>魔兽争霸 | war3 | war3 | dota1 | 战争世界》 | 《终结者：救世主》...</td>\n",
       "    </tr>\n",
       "    <tr>\n",
       "      <th>6</th>\n",
       "      <td>government</td>\n",
       "      <td>美军 | 美国陆军 | 北京市教工委 | 市教委 | 俄海军 | 陕西省安康市旬阳县人民法院...</td>\n",
       "    </tr>\n",
       "    <tr>\n",
       "      <th>7</th>\n",
       "      <td>mobile</td>\n",
       "      <td>18601219959 | 13501058727 | 852-23352105 | +86...</td>\n",
       "    </tr>\n",
       "    <tr>\n",
       "      <th>8</th>\n",
       "      <td>movie</td>\n",
       "      <td>《你是我的命运》 | 《黄金新娘》 | 《无极》 | 《夜宴》 | 《赵氏孤儿》 | 《建国...</td>\n",
       "    </tr>\n",
       "    <tr>\n",
       "      <th>9</th>\n",
       "      <td>name</td>\n",
       "      <td>孔贤珠 | 孔贤珠 | 王莹小姐 | 大鹏， | 程寅 | tvbbecky | 乐瞳 | ...</td>\n",
       "    </tr>\n",
       "    <tr>\n",
       "      <th>10</th>\n",
       "      <td>organization</td>\n",
       "      <td>德甲球队 | 热刺 | 亚特兰大 | 热那亚 | 加拉塔 | 卢森堡 | 卢森堡 | 佛罗伦...</td>\n",
       "    </tr>\n",
       "    <tr>\n",
       "      <th>11</th>\n",
       "      <td>position</td>\n",
       "      <td>主持人 | 韩国演员 | 主角 | 艺术家 | 记者 | 电影导演 | 脱口秀主持人 | 文...</td>\n",
       "    </tr>\n",
       "    <tr>\n",
       "      <th>12</th>\n",
       "      <td>scene</td>\n",
       "      <td>龟山公园 | 苏园 | 泸沽湖 | 洱海 | 洱海 | 加州地方艺术馆 | 珠峰 | 珠峰自...</td>\n",
       "    </tr>\n",
       "    <tr>\n",
       "      <th>13</th>\n",
       "      <td>vx</td>\n",
       "      <td>tianlangyinyue | 13426245800 | sjyy98 | 182796...</td>\n",
       "    </tr>\n",
       "  </tbody>\n",
       "</table>\n",
       "</div>"
      ],
      "text/plain": [
       "        Category                                            Privacy\n",
       "0             QQ  1143175993 | 2308713823 | 783594553 | 14705257...\n",
       "1        address  库兰达 | 香格里拉县城 | 香港 | 香港 | 台湾 | 沃尔库塔劳工集中营 | 恒晟超市...\n",
       "2           book  《了不起的盖茨比》 | 《经济参考报》 | 《电脑游戏攻略》 | 《北京市经济适用住房销售许...\n",
       "3        company  招行 | 北京骑士美苑影视文化传媒有限公司 | 中行 | 宝钢 | 新浪乐居 | 新浪网联 ...\n",
       "4          email  1213785766@qq.com | tvbbecky@gmail.com | young...\n",
       "5           game  魔兽争霸 | war3 | war3 | dota1 | 战争世界》 | 《终结者：救世主》...\n",
       "6     government  美军 | 美国陆军 | 北京市教工委 | 市教委 | 俄海军 | 陕西省安康市旬阳县人民法院...\n",
       "7         mobile  18601219959 | 13501058727 | 852-23352105 | +86...\n",
       "8          movie  《你是我的命运》 | 《黄金新娘》 | 《无极》 | 《夜宴》 | 《赵氏孤儿》 | 《建国...\n",
       "9           name  孔贤珠 | 孔贤珠 | 王莹小姐 | 大鹏， | 程寅 | tvbbecky | 乐瞳 | ...\n",
       "10  organization  德甲球队 | 热刺 | 亚特兰大 | 热那亚 | 加拉塔 | 卢森堡 | 卢森堡 | 佛罗伦...\n",
       "11      position  主持人 | 韩国演员 | 主角 | 艺术家 | 记者 | 电影导演 | 脱口秀主持人 | 文...\n",
       "12         scene  龟山公园 | 苏园 | 泸沽湖 | 洱海 | 洱海 | 加州地方艺术馆 | 珠峰 | 珠峰自...\n",
       "13            vx  tianlangyinyue | 13426245800 | sjyy98 | 182796..."
      ]
     },
     "execution_count": 18,
     "metadata": {},
     "output_type": "execute_result"
    }
   ],
   "source": [
    "df_label_train_Category"
   ]
  },
  {
   "cell_type": "code",
   "execution_count": 19,
   "metadata": {
    "ExecuteTime": {
     "end_time": "2020-11-24T14:37:32.931221Z",
     "start_time": "2020-11-24T14:37:32.919187Z"
    }
   },
   "outputs": [
    {
     "data": {
      "text/plain": [
       "'《你是我的命运》 | 《黄金新娘》 | 《无极》 | 《夜宴》 | 《赵氏孤儿》 | 《建国大业》 | 《建党伟业》 | 《和平年代》 | 《新四军》 | 《国家干部》 | 《高地》 | 《高粱红了》 | 《战争目光》 | 《粟裕大将》 | 《攻心》 | 《追爱》 | 《女汤》 | 《袋鼠男人》 | 《追爱》 | 《女汤》 | 《推手》 | （Wheelman） | 《汽车驾驶员》 | 天龙八部 | 华丽上班族 | 说好的幸福 | 《辐射》 | 《怒潮》 | 《半个纳尔逊》 | 《波斯王子：时之沙》 | 《越狱》 | 《男人帮》 | 《北京青年》 | 《梁祝》 | 《隐形人》 | 追梦者》 | 《五号战星》 | 《圣女魔咒》 | 《赎罪》（atonement） | 《唐山大地震》 | 《决胜21点》 | 《爱在瘟疫蔓延时》 | loveinthetimeofcholera | 《完美假日》 | 《美容大王》 | 《步步惊心》 | 《新水浒传》 | 《姨妈的后现代生活》 | 《涂鸦的婚事》 | 【搜神记 | 【赤焰战场 | 《长江七号》 | 《长江七号》 | 《西施》 | 《这种爱》 | 红楼梦 | 《白鹿原》 | 《绝代商骄》 | 《幕后大老爷》 | 《非常岳母》 | 《革命到底》 | 变形金刚》 | 《婚礼之后》 | 《回归》 | 《爱情大师》 | 《书剑》 | 《小菊的春天》 | ≪书剑≫ | ≪小菊的春天秋天≫ | ≪千山暮雪≫ | 《丝丝心动》 | 《小菊的秋天》 | 《千山暮雪》 | 《京華煙雲》 | 《在水一方》 | 《又見阿郎》 | 《选举夜》 | 但丁的地狱》 | 《死亡空间》 | 醒世媳婦 | 台灣水滸傳 | 乞丐郎君千金女 | 世間路 | 真情滿天下 | 天下父母心 | 刁蠻新娘 | 桃花劫牽手 | 我家有喜 | 《黑蛋 | 《黄小鸿之狮舞骄阳》 | 《都市有情天》 | 《天衣行动》 | 《英雄无敌》 | 《纳尼亚传奇》 | 《初恋50次》 | 《辣妈正传》 | 《一仆二主》 | 《媳妇的美好时代》 | 《幸福已逝》 | 《超人》 | 《绝代佳人》 | 《兰花花》 | 《我的青春谁做主》 | 《疯狂德州》 | 《疯狂德州》 | 《永不回头》 | 《永不回头》 | 《泰坦尼克号》 | 《葵花子》 | 《天脊》 | 随缘行恶 | RandomActsofViolence | 姨妈的后现代生活》 | 《现代启示录》 | 《保持通话》 | 《地心探险3d》 | 《暹罗之恋》 | 《初恋那件小事》 | 《姨妈的后现代生活》 | 《新还珠格格》 | 《隋唐英雄》 | 《流星蝴蝶剑》 | 《烈火金刚》 | 《小兵张嘎》 | 《一米阳光》 | 《血色浪漫》 | 《大路朝天》 | 《超市麻辣烫》 | 《向雪祈祷》 | 后宫甄嬛传》 | 《画皮2》 | 《1942》 | 《真爱不灭》 | 《牛郎织女》 | 《牛郎织女》 | 《变形金刚》 | 《蜘蛛侠》 | 《生化危机4》 | 《爱的是你》 | 《九百公里路》 | 《爱的是你》 | 《九百公里路》 | 姜哲中：公共之敌1-1》 | 《神机箭》 | 《7days》 | 《纳尼亚传奇2：凯斯宾王子》 | 《纳尼亚传奇2》 | 《大海之南》 | 《阳光旅程》 | 《长漂壮歌》 | 《长漂壮歌》 | 《纳尼亚传奇2》 | 《大佛脚下那些事》 | ＜寻宝记＞ | 《罪恶之城》 | 《疯狂石头》 | 《摇摆婚约》 | 《疯狂赛车》 | 《杨贵妃秘史》 | 《8090向前冲》 | 《步步惊心》 | 《枪王之王》 | 《天下第二》 | 《落跑甜心》 | 《步步惊心》 | 《射雕英雄传》 | 《哥本哈根》 | 《屋外有花园》 | 《渴望》 | 《水浒传》 | 《小男人遇上大女人》 | 《搜索》 | 《渴望》 | 《哥本哈根》 | 《相思树》 | 《您在远方》 | 《新警察故事》 | 《一代宗师·叶问》 | 满城尽带黄金甲》 | 《十面埋伏》 | 《英雄》 | 《无极》 | 《豆蔻年华》 | 《亲亲我老师》 | 变形金刚 | 《夜市人生》 | 《神医大道公》 | 神醫大道公 | 夜市人生 | 《汽车驾驶员》 | 《我猜我猜我猜猜猜》 | 《全民大闷锅》 | <命中注定我爱你》 | 《败犬女王》音乐 | 《人鱼》 | 《方世玉》 | 《女人不哭》 | 《少年包青天》 | 《幸福已逝》 | 《荒野生存》 | 《生化危机4》 | 《越狱》 | 《浪漫风暴》 | 《戏王之王》 | 《恋上你的床》 | 《绝世好Bra》 | 《千机变2》 | 《热血最强》 | 《野兽之瞳》 | ＜激浪青春＞ | ＜大武當＞ | 《浪漫风暴》 | 《活死人黎明》 | (DawnoftheDead) | 《人类之子》 | 梦魇惊魂 | 欢喜神郎 | 《疯狂的石头》 | 《通缉》 | 《史密斯夫妇》 | ≪幸福迷途≫ | 《痒婚之十年再爱你》 | ≪大闹天宫≫ | 《唐吉可德》 | 《李小龙》 | 《波斯王子》 | 《卷土重来》 | thecomebacks | 《萨拉和神秘时辰》 | 电影版》 | 《街霸：春丽传》 | <伞>> | <1428>> | <在路上>> | <阿英>> | <云娜>> | <灰烬>> | 《伞》 | 《1428》 | <<此处彼处>> | 《朱诺》（juno | 《理发师陶德》（sweeneytodd: | 一起又看流星雨》 | 《泰坦尼克号》 | 《平田世界》 | Benson | 《合金装备》 | 007 | 《黑帮暴徒》 | 《厄夜三十》 | 《宝马狂想曲》 | 《宝马狂想曲》 | 《猫人女王》 | 《擒爱记》 | 《暗洞惊魂》 | 《暗洞惊魂》 | 《诡拼车 | 《荒村客栈》 | 《Wasteland》 | 《花花型警》 | 万通苏园 | 《无冬之夜2》 | 《非诚勿扰2》 | 《危险关系》 | 《外出》 | 《好雨时节》 | 《波斯王子：时之沙》 | 女人不坏》 | 《仙剑二》 | 《庙街十二少》 | 《新不了情》 | 抵抗前线 | （OpposingFronts） | 《寂静岭》 | CAPCOM | 生化4 | 《独自等待》 | 《车四十四》 | 《形影不离》 | ｟美丽无声｠ | ｟浮华城市｠ | ｟船政风云｠ | ｟让爱自由｠ | ｟鲁冰花｠ | ｟剪爱｠ | ｟葛藤凹｠ | ｟快乐老家｠ | 四月三周两天》 | 《我在伊朗长大》 | 《玫瑰人生》 | 《料理鼠王》 | 《挽歌》 | 《封神榜》 | 《唐太宗李世民》 | 《红楼梦》 | 《天涯明月刀》 | 《幸福像花儿一样》 | 《士兵突击》 | 《为了新中国前进》 | 《天堂向左》 | 《孤军英雄》 | 《幸福像花儿一样》 | 《士兵突击》 | 《画皮》 | 小美女》 | 《萨维奇》 | 《朱诺》（juno） | 《十全九美》 | 好家伙坏家伙怪家伙》 | 《神机箭》 | 《光阴的故事》 | 《美国黑帮》 | americangangster | 《神机箭》 | 《好家伙坏家伙怪家伙》 | （隋唐演义）（西藏秘密 | 大汉情缘云中之歌 | 变形金刚 | 满汉全席 | 满汉全席 | 相约青春 | 相约青春 | 京港爱情线 | 家和万事兴 | 欢乐家庭 | 说老公坏话 | 幸福你就拍拍手 | 亲密爱人 | 亲密爱人 | 黑水 | 雷霆战警 | 情欲陷阱 | 黑色的性感与眩晕 | 《小说家族——对倒》 | 《一只小蜜蜂》 | 《美国黑帮》 | 大灌篮 | 命中注定我爱你 | 夏家三千金 | 《查理的战争》 | heat | 《汉之云》 | 《战争机器》 | 《波斯王子》 | 《死囚的妻子》 | 西游记》 | 《冰河世纪》 | 《欲望都市》 | 《木乃伊3：龙帝之墓》 | 《中国女孩》 | 《喜福会》 | 《失踪记》 | 《霍比特人》 | (TheHobbit | 《恐怖废墟》 | （theruins） | 《蝶变》 | 《第一类型危险》 | 《地狱无门》 | 真相禁区 | 纳尔尼亚传奇ⅱ》 | 《印第安纳·琼斯ⅳ》 | 《蝙蝠侠ⅵ》 | 《七月与安生》 | 《生存之旅》 | 《海角七号》 | 《雪青马》 | 《花园街五号》 | 《吐鲁番情歌》 | 危险关系》 | 皮皮鲁鲁西西之鲍尔历险记 | 《潜水钟与蝴蝶》 | thedivingbellandthebutterfly | <七品钦差刘罗锅>> | <<至尊食王>> | <<大唐芙蓉園>> | <<前門樓子九丈九>> | <<唐山絕戀>> | <<紅拂女>> | 《致命魔术》 | 《德州电锯杀人狂2003翻拍版》 | 《纳尼亚传奇2》 | ＜全世爱＞ | ＜我们都是坏孩子＞ | ＜凶灵请帖＞ | ＜路口＞ | 《关于施密特》 | 《杯酒人生》 | 《麦收》 | 《算命》 | 《老唐头》 | 《珍宝岛》 | 妖铃铃 | 妖铃铃 | 青春最好时 | 盗墓迷城3》 | 《大马帮》 | 恰同学少年 | 恰同学少年 | 大马帮 | 抗日奇侠 | 镖行天下 | 铁人火线 | 追凶绝密 | 《南京！南京！》 | 《危险关系》 | 《生化危机4：余生》 | 《哈利·波特与阿兹卡班的囚徒》 | 《爱情公寓》 | 《在爱的名义下》 | 《唐山大地震》 | 玛蒂的家族重逢》 | 《血色浪漫》 | 《大西南剿匪记》 | 《机器人瓦力》 | 《异形》 | 《逃离City17》 | 《潜伏》 | 《女工》 | 《新三国演义》 | 大宅门1912 | 潜伏】 | 楚汉传奇》 | 尖刀队】 | 三国】 | 硝烟背后的战争 | 辛亥革命】 | 陕北汉子】 | 女工 | 女工 | 解放】 | 寂静岭》 | 千面女郎 | 神之雫 | 《千面女郎》 | 《月下棋士》 | 四月物語 | Hush | Ring0 | 宠物情人 | 月下棋士 | lasthope | 大奥 | 《厄夜三十》 | 30daysofnight | 《通缉》 | 《瓦力》 | 《赛车总动员》 | 《玩具总动员2》 | 《朱诺》 | 鸳鸯刀》 | 《城市广场》 | 《海角七号》 | 指环王三部曲 | 哈利·波特 | 《蜘蛛侠3》 | 《丑闻》 | 《仙女湖》 | 《梅》 | 《水客》 | 《夏天天的夏天》 | 《战地黄花》 | 《悲情鸳鸯》 | 《重来》 | 《十大奇冤》 | 《炼狱里的阳光》 | 《一线之间》 | 《我要活下去》 | 《海角七号》 | 《杯酒人生》 | 《好家伙坏家伙怪家伙》 | 《追击者》 | 《我人生中最精彩的瞬间》 | 《初恋无限touch》 | 《魔法奇缘》 | 《绝代佳人》 | 《兰花花》 | 《英雄连：抵抗前线》 | 《怪物史莱克》 | ≪汉武大帝≫ | ≪郑和下西洋≫ | ≪大秦帝国≫ | ≪战地黄花≫ | ≪错爱2≫ | ≪一起又看流星雨≫ | 《皇城神鹰》 | 《皇后进宫 | 《抹布女也有春天》 | 楚汉争雄 | 《波斯王子：时之沙》 | 《十送红军》 | 《战旗》 | 《誓言无声》 | 《梅花档案》 | 《身份的证明》 | 《英雄无名》 | 《最后的子弹》 | 《上海上海》 | 《我的孩子我的家》 | 《誓言无声》 | 《梅花档案》 | 《这里的黎明静悄悄》 | 《祖宗十九代》 | 《画皮》 | 《保持通话》 | 《神枪手》 | 《黑暗物质：黄金罗盘》 | thegoldencompass | 《插树岭》 | 《静静的白桦林》 | 《走戈壁的女人》 | 《说好不分手》 | 《老爸的筒子楼》 | 《老严有女不愁嫁》 | 《塬上的太阳》 | 《大娃娃与小公主》 | 爱丽丝梦游仙境 | 愤怒小鸟 | 《家有儿女》 | 《十五贯》 | 《家有儿女》 | 《杀狼花》 | 《杀狼花》 | 《一家不说两家话》 | 《雪中悍刀行》 | 《机器人瓦力》 | 《时间之轮》 | (TheWheelofTime) | ＜张小五的春天＞ | ＜咱家那些事＞ | ＜春光灿烂猪九妹＞ | ＜九河入海＞ | ＜画皮之真爱无悔＞ | ＜非缘勿扰＞ | 《超越神界（BeyondDivinity）》 | 《萨维奇一家》 | 《铁梨花》 | 《東京難民》 | 《学校学不到的事》 | 《恋空》 | 《大奥》 | 《BOYS美型专家》 | 《我的圣诞老公》 | thischristmas | 《查理的战争》 | 《手机》 | 《天下第一楼》 | 《公安厅长》 | 《极度危险》 | ＜鹰眼＞ | ＜军人的妻子＞ | 《鹰眼》 | 《解密》 | 萨维奇一家》 | 《施密特》 | 《杯酒》 | 《小美女》 | 《黑暗骑士》 | 《生化危机》 | 《街霸》 | 《街霸： | 《刘老根》 | 《马大帅》 | 《乡村爱情》 | 《乡村名流》 | 《乡村爱情》 | 《妻子结婚了》 | 《证人》 | 哈利-波特 | 《哈利·波特与混血王子》 | 画皮》 | 《新宿事件》 | 《爱情左灯右行》 | 《唐山大地震》 | 《谍海风云》 | 《天下第二》 | 《薰衣草》 | 《千金百分百》 | 辛普森一家》 | 《超人归来》 | 《八十一格》 | 神经侠侣 | 宫 | 美人天下 | 藏心术 | 《狮子王》 | 蜘蛛侠》 | 《变形金刚》 | 美味的想念 | 武松2013 | 獨立連 | 旗袍旗袍 | 血色黎明 | 第三十六個故事 | 六號出口 | 牯嶺街少年殺人事件 | 《美人心计》 | 《生死大营救》 | 《倾城雪》 | 《铁血男儿》 | 《乱世佳人》 | 《美人心计》中 | 《三百壮士》 | 《叶问》 | 《纳尼亚传奇2》 | 《星际奇兵》 | 《红军东征》 | 《我的青春在延安》 | 《毛泽东在五台山》 | 《杨善洲》 | 《刘伯承元帅》 | 《红军东征》 | 《我的青春在延安》 | 《毛泽东在五台山》 | 《大金脉》 | 《杨善洲》 | 《图斑》 | 《花样男子》 | 《恶作剧之吻》 | 享乐者 | 付出者 | 古惑仔 | 风云雄霸天下 | 绝代双骄 | 鱼美人 | 《机器人瓦力》 | wall-e | 《无极》（blog） | ＜霍元甲81版＞ | ＜陈真＞ | ＜木棉袈裟＞ | ＜海巿蜃楼＞ | ＜覇王卸甲＞ | ＜夺标＞ | ＜䢖元风云＞ | 《白夜追凶》 | 《命运速递》 | 《黑暗物质：黄金罗盘》 | 《文雀》 | 《我是特种兵》 | 《麻辣女兵》 | 《神犬奇兵》 | 《麻辣女兵第二季》 | 《中国造》 | 《军中红舞鞋》 | 《我是特种兵》 | 《麻辣女兵》 | 刺客信条：世系》 | 《斯巴达300勇士》 | 《赎罪》 | atonement | 《洗澡》 | 《死亡空间2》 | 《死亡空间：浩劫余生》 | 《TotalRecall》 | 《侏罗纪公园3》 | 《我盛大的同志婚礼》 | 《关于施密特》 | 哈利波特》 | 超级马里奥兄弟 | 《当幸福来敲门》 | 《阿甘正传》 | 《肖申克的救赎》 | 《被爱情遗忘的角落》 | 《留村查看》 | 《百合花》 | 《只要你过的比我好》 | 精武门 | 霍元甲 | 《权力的游戏》 | ≪十全十美之三喜临门》 | 《爱情维修站》 | 《抓紧时间爱》 | 《偶然英雄》 | 《斗茶》 | 《清醒》 | 《胖妞大愛》 | 《我想你了你想我吗》 | 《急诊室》 | 《大唐玄机图》 | 《笑傲江湖》 | 《赤裸特工》 | 《哈利·波特与凤凰社》 | 《纳尼亚传奇2》 | 《欲望都市》 | 使命召唤 | 《全民超人汉考克》 | 《煮海》 | 《民主之澜》 | 《红七军》 | 《倚天屠龙记》 | 《简单爱》 | 《楚留香新传》 | 《瓦力》 | 《熊猫》 | 《荡寇》 | 《后革命时代》 | 《谋杀章鱼保罗》 | 台儿庄大捷纪录片 | 《终结者》 | 《爱神的黑白羽翼》 | 《雪花那个飘》 | 《大管家》 | 《回马枪》 | 《狂奔的左左》 | 《夏都故事》 | 《自由驰骋》（i‘mnotthere | “怪物史莱克” | 《地心游记3d》 | 《不痛》 | 《燃烧翅膀》 | 《我不想逃》 | 《搜寻你的名字》 | 《我想大声告诉你》 | 《等不到的爱》 | 《钢铁侠》 | 赌圣 | 黑金帝国 | 狄仁杰 | 落鸟 | 《穿越苍穹》 | 《即日启程》 | 《岁月》 | 《局中局》 | 《雪狼》 | 《媳妇的美好时代》 | 《黎明之前》 | 《乱世三义》 | 《咱们结婚吧》 | 《黎明之前》 | 《媳妇的美好时代》 | 怪物史莱克4 | 《本山快乐营\\u2029》 | 不朽的园丁》 | 《引渡疑云》 | 安娜玛德莲娜》 | <桃姐> | <親密損友> | <志明與春嬌> | 《指环王》 | 《蜘蛛侠》 | 《画皮》 | 《保持通话》 | 《赎罪》 | atonement | 《哈利·波特与死亡圣器(上)》 | 笑红尘》 | 《红色黎明》 | 《婚礼上的玛戈》 | margotatthewedding | 蝙蝠侠6》 | 《保持通话》 | 《萨维奇》 | 《百万新娘2 | 《太极1》 | 《皮五传奇》 | 《毛泽东》 | 毛泽东三兄弟) | 《太极1》 | 《我心|灿烂》 | 《画皮》 | 《点爱成金》 | 《当婆婆遇上妈》 | 《鹿鼎记》 | 《刑事侦缉档案》 | 《鉴证实录》 | 《赵匡胤》 | 赵匡胤 | 罪域 | 聊斋 | 大捕房 | 女子特案组 | 先遣连 | 风雷动 | 《过山车大亨》 | 《玫瑰人生》 | lavieenrose | 《爱情公寓》 | 《剃刀边缘》 | 《刀锋》 | 《爱情公寓》 | 爱情公寓 | 爱情公寓 | 《少年华佗》 | 《眼中钉》 | 《暗算》 | 《俞净意公遇灶神记》 | 《雾都猎狐》 | 《情暖万家》 | 《马可波罗》 | 《古路》 | 《公主保护计划》 | 《神雕侠侣》 | 《雪山飞狐》 | 《方世玉》 | 雪山飛狐 | 神雕俠侶 | 纳尔尼亚传奇2：凯斯宾王子》 | EA | 《大卫王》（kingdavid） | 《朱诺》 | 《钢的琴》 | 《不是钱的事》 | 《乡村爱情变奏曲》 | 《夺宝奇兵4》 | 《苏乞儿》 | 《变形金刚》 | 黑道圣徒》 | 《芙蓉镇》 | 《色，戒》 | 《字宝宝乐园》 | 《小小大英雄毛毛王》 | ＜幸福密码＞ | 《活着》 | 《如果爱死了》 | ＜那是我妈妈＞ | ＜最强喜事＞ | ≪畫壁≫ | ≪四大名捕1.2.3≫ | ≪西遊記≫ | ≪決戰南京≫ | ≪畫皮≫ | ≪夢回唐朝≫ | ≪火線三兄弟≫ | ≪樓≫ | ≪我们有一套≫ | ≪今夜有戏≫ | ≪同桌计划≫ | 《天生我才》 | ≪非常父母≫ | 《山楂树之恋》 | 《天生我才》 | 《跑出一片天》 | 《性工作者十日谈》 | 《沉默的羔羊》 | 《我的长征》 | 《蝙蝠侠》 | 《四月望雨》 | 《隔壁親家》 | 《渭水春風》屏風 | 《京戲啟示錄》 | 《半里長城》 | 《女兒紅》 | 《莎姆雷特》 | 《荡寇》 | 《血色残阳》 | 《新霍元甲》 | 《天龙八部》 | 《三国》 | 《囧人幸福生活》 | ＜ | ＜出关＞＞ | 《三国》 | 《苍穹之昴》 | 云上的诱惑 | 《战雷》 | 《秀秀的男人》 | 30DaysofNight | 《夏家三千金》 | 《家仇》 | 《第五空间》 | 《地下的天空》 | 《香樟树》 | 《王中王》 | 《白领公寓》 | 《情深深雨蒙蒙》 | 《璀璨人生》 | 《幸福选择题》 | 《狐仙》≪凶灵女一号≫ | ≪租妻成婚≫ | ≪少女灵异日记≫ | ≪蝴蝶劫≫ | 《王翠娥》 | 兄弟连》 | 《罗马》 | 《光环》 | Offficer | 《牙仙》 | ToothFairy | 《夺宝冒险王》 | 《摔跤吧!爸爸》 | 《三傻大闹宝莱坞》 | 《我的个神啊》 | 《米莉演唱会纪实》 | 《魔法奇缘》 | 《朱诺》 | 《城市猎人》 | 《成均馆绯闻》 | 《传说的故乡》 | 《夺帅》 | 《这不是斯巴达》（meetthespartans） | 《情不自禁爱上你》 | 夺宝奇兵4》 | 《wicked邪恶女巫师》 | 《hamilton》 | 《反拍王》 | 《羽播天下》 | 《国宝国宝，国家之宝》 | 《自由驰骋》 | 圣诞颂歌》 | （achristmascarol） | 青春派 | 《少年包青天》 | 《大丫鬟》 | 《少年天子》 | 《护国军魂》 | 《真情告白》 | 《夺宝奇兵4》 | 《反抗者》 | 《美丽乡村浪漫事》 | 云雀行动 | 道德底线 | 致命追踪 | 《文雀》 | ≪西游记≫ | 《中国特警》 | ＜千山暮雪＞ | 《空姐日记》 | 《西游记》 | ＜空姐日記＞ | ≪如意≫ | ≪亮剑铁血军魂≫ | ≪杀狼花≫ | ≪十五贯≫ | ≪步步杀机≫ | 《亮剑》 | ≪虾球传≫ | 《生化危机4》 | x档案2》 | 未血绸缪》 | 《潜水钟与蝴蝶》 | 《唐明皇》 | 《夺宝奇兵4》 | 《生化危机ⅱ：启示录》 | 《生化危机五》 | 《神探》 | 《姨妈的后现代生活（）》 | 《变形金刚》 | 《变形金刚3》 | 《人有三急》 | 《卖自行车的小女孩》 | 《记忆的符号》 | 《嗅觉小姐》 | 《声色邀请》 | 《哈利·波特》 | ＜新安家族＞ | ＜新安家族＞ | ＜穷妈妈富妈妈＞ | ＜穷妈妈富妈妈＞ | 《红楼梦》贾蔷 | 《舞者》 | 《在那遥远的地方》 | 《摘星之旅》 | 《还看今朝》 | 《舞者》 | 《在那遥远的地方》 | 《东北往事之黑道风云》 | 《超世纪战警》 | 《美人心》 | “逃离City17” | 潜水钟与蝴蝶》 | 《十天丢个郎》 | 《点爱成金》（fool‘sgold） | 《红色警戒3：起义》 | 《汉之云》 | “王牌vs王牌” | 《性工作者十日谈》 | 功夫熊猫》 | 《雨人》 | 《为戴茜小姐开车》 | 《末路狂花》 | 《狮子王》 | 《石破天惊》 | 《初恋50次》 | 《别惹佐汉》 | 《狼牙之阿布》 | 《战·无双》 | 《杀手没有假期》 | 《刺客信条2：世系》 | 《女子戏班》、新《三国》、《云水瑶》 | 《纸醉金迷》 | 《皇宫宝贝》《大太阳》《血战长空》《辛亥革命》《楚汉传奇》 | 《焦点导演：邱礼涛》 | 天龙八部 | 龍堂 | 皆大歡喜 | 杯酒人生》 | 《阳光小美女》 | 《黑暗物质：黄金罗盘》 | thegoldencompass | 《爱情左灯右行》 | 《英雄》 | 《走进太阳谷》 | 《简单。爱》 | 《中国巧克力》 | 《天上人间》 | 《爸爸，我爱你》 | 《危机》 | 《夕阳》 | 《美人鱼传奇》 | 《鸳鸯奇案》 | 《蜜月惊魂》 | 《喜玛拉雅山之恋》 | 《挽歌》 | 《芙蓉镇》 | 《生化危机4来生》 | 爱情左灯右行》 | 《潜水钟与蝴蝶》 | 《色，戒》 | 《飞越山海关》 | 《刘伯承元帅》 | 《游击兵工厂》 | 《洪湖赤卫队》 | 《舞者》 | 洪湖赤卫队 | 第一速度 | 孔子 | 大秦帝国 | 奠基者 | 舞者 | 舞者 | 阿凡达 | 《集结号》 | 《雏菊》 | 《遇见我》 | 《比天空还远》 | 《海角七号》 | 《命中注定我爱你》 | 《潜伏》 | 《借枪》 | 《不要和陌生人说话》 | 《中国式离婚》 | 《后宫甄嬛传》 | 《金婚》 | 《暗香》 | 《萨维奇一家》 | 《量子音乐》 | 《疯狂的GPS》 | 《金瓶梅》 | AVATAR | 《泰坦尼克号》 | 《亮剑》 | 《亮剑》 | 《奢香夫人》 | 《虾球传》 | 《虾球传》 | 《铁道游击队战后篇》 | 《铁道游击队战后篇》 | 《五星大饭店》 | 《歌舞青春》 | 《阳光天使》 | 《荡寇》 | 《哈里·波特》 | 《不能说的秘密》 | 戒》 | 我人生中最精彩的瞬间》 | 爱情公寓 | 《說不出的甜蜜》 | 《好不容易》 | 《超生培慾》 | 《过山车大亨》 | 《惊爆银河系》 | 《莫斯科陷落》 | 花坞 | 青花运 | 黄河口儿女 | 《青苔》 | 《狩猎聚会》 | hehuntingparty | 猎狐行动 | 《查理的战争》 | 《萨维奇一家》 | thesavages | 《婚礼上的玛戈》 | 北妹皇后 | 《决断时刻》(Deathto | 《嘉人marieclaire》 | 《硬汉》 | 《赎罪》 | 《有多远走多远》 | 《狂享爱》 | 《一 | 《保持通话》 | 【孩子王】 | 《辛普森家庭》 | 《山丘之王》 | 《大明宫词》 | 《桔子红了》 | 《红楼梦》 | 《暗香》 | 《老公的春天》 | 《美妙的春天》 | 《大明宫词》 | 《桔子红了》 | 《红楼梦》 | 《暗香》 | 《长征》 | 《少林足球》 | 《功夫》 | 澳门风云 | 《鬼屋魔影》 | 《影》 | 《夺宝奇兵4》 | 《车票》 | 《我不卖身，我卖子宫》 | 《亲密》 | 《危险关系》 | 蝙蝠侠 | 《侠影之谜》 | 《暗夜骑士》 | 星球大战》 | 《真爱之吻》 | 《魔法奇缘》 | 《蓝莓之夜》 | myblueberrynights | 《革命到底》 | 《罪域》 | 《不离不弃》 | ≪罪域≫ | ≪父亲的战争≫ | ≪不离不弃≫ | ≪迷案1937≫ | ≪不要离开我≫ | ≪丈夫的秘密≫ | ≪猎杀≫ | 变形金刚 | 《赤壁》 | 《地下的天空》 | 《奥戈》 | 《东京审判》 | ＜丑女无敌＞ | ＜宽恕＞ | 《丑女无敌》 | ＜天师钟馗＞ | <背影＞ | 德南 | 子乐 | 《深海寻人》 | 《一起又看流星雨》 | 《泰坦尼克号》 | 《无人喝彩》 | 《离开雷锋的日子》 | 《我的青春谁做主》 | 《媳妇是怎样炼成的》 | 深夜食堂 | 《少林少女》 | 《心术》 | 《杜拉拉2》 | 《兰陵王》 | 《火蓝刀锋》 | 《全民超人》 | 魔兽资料片 | 《女招待》 | waitress | 《爱我你就抱抱我》 | 杯酒人生》 | 《阳光小美女》 | 《教父2》 | 《教父2》 | 《木乃伊3》 | 《如果·愛》 | 《投名狀》 | 《武俠》 | 《血滴子》 | 《劍雨》 | 《东风雨》 | 《女人不坏》 | 《大城小事》 | 《河東獅吼》 | 哈利波特 | 泰坦尼克号 | 权力的游戏 | 《魔法》 | 《我是传奇》 | 古墓丽影》 | 《爱你比永远多一天》 | 《某月某日》 | 《离 | 华子奇陆续上映的 | 《汉口码头》 | 《桐柏英雄》 | 《掩不住的阳光》 | 《大明劫》 | 《暮春之恋》 | 《路口》 | 《凶墙》 | 《汉口码头》 | 《当兵的人》 | 「衝上雲霄2」 | 「戀愛季節」 | 「結・分@謊情式」 | 《革命到底》 | 《春光乍泄 | 《英雄连：勇气传说》 | 狄仁杰之异虫谜案 | 生化危机 | 《八十一格》 | 《蝎子》 | 《吉他英雄》 | 夏家三千金 | 撘錯車 | 女仨的婚事 | 下一站幸福 | 拜金女王 | 真的漢子 | 家有喜事 | 七剑下天山 | 怪兽通缉令 | 《浅蓝深蓝》 | 浅蓝深蓝 | 过界 | 儒侠 | 爱你一万年 | 蝴蝶夫人乐队 | 铁血战士 | 斗茶》 | 《痞子英雄（）》 | 《红楼梦》 | 《谢逢松书法作品选》 | 《新山水诗集》 | 冒牌天神2》 | 《性感野兽》（sexybeast） | 变形金刚 | 《游戏之王》 | 《血色浪漫》 | 《新水浒》 | 《血色浪漫》 | 《新水浒传》 | 《小花》 | 《大鸿米店》 | 《笑傲江湖》 | 《大秦帝国》 | 《小花》 | 《大鸿米店》 | 《笑傲江湖》 | 《大秦帝国》 | Take-Two | 《电竞世界》 | 《在恶魔知道你死前》 | beforethedevil | 《牛仔和印第安人》 | 《蜘蛛侠》 | 《裸婚时代》 | 《刘伯承》 | 《刀客家族的女人》 | 《变异危机》 | 《爸爸别走》 | 《傻春》 | 《后宫.甄寰传》 | 《裸婚时代》 | 《星球大战》 | 《剑蝶》 | 梁祝（） | 《卢旺达旅店》 | 鬼子来了》 | 《喜马拉雅》 | 《外出》 | 《食客》 | 《好雨时节》 | 《成都我爱你》 | 《电子竞技世界》 | 《茶馆》 | 《重案六组》 | 《红猪》 | 《杨光的快乐生活1--9部》 | 《剩男相亲记》 | 《肉烂在锅里》 | 《借你俩胆》 | «永不瞑目» | ＜梅花档案＞ | 《在那遥远的地方》 | 《下海》 | 《国门英雄》 | 梁祝》 | 《再见汪先森》 | 《蝙蝠侠6：暗夜骑士》 | thedarkknight | 《鉴真东渡》 | 《西游记》 | 《西游记》 | 《夜幕下的哈尔滨》 | 《鹰眼》(EagleEye) | 《锦衣卫》 | 《叶问2》 | 《满秋》 | 《不能没有家》 | 《雷哥老范》 | 《最美的时光》 | 《神曲》 | 《忆江南》，≪放飞≫，《阳光下的儿女》，《你是我阳光》，《家国春秋路》≪军之恋≫ | 《大追捕》 | 《霍元甲》 | 《不能说的秘密》 | 《杀人犯》 | 《江湖》 | 《信報》 | 《星島日報》 | 《霍元甲》 | 《不能说的秘密》 | 《阿甘正传》 | 《硬汉》 | 《革命到底》 | 《不再让你孤单》 | 《维荣的妻子》 | 变形金刚1》 | 《全民超人》 | 《夜店跪谈》 | 赤壁 | 建国大业 | 《建党伟业》 | 《风云2》 | 夜。店》 | 绑架冰激凌 | 《活该你单身 | 《神奇绿巨人》（theincrediblehulk） | 《我，机器人》 | 《绿巨人》 | 《鸿门宴》 | 《新天龙八部》 | 《少年四大名捕》 | 《劫中劫》 | 《囧人的幸福生活》 | 《神枪》 | 《东江英雄传》 | 《聊斋志异系列》 | 《战火中青春》女一号 | 《福星系列》 | 《愛的逃兵》張曼玉張國榮 | 《意外》 | 《猫女》 | 猫女 | 《孝莊秘史》 | 《哑巴新娘》 | 《天师钟馗1、2》 | 《龙游天下》 | 《流泪的新娘》 | 《歌舞青春3》 | 《歌舞青春3》 | 《热带惊雷》 | 《西游记》 | 《伊甸禁章》 | 《突然獨身》 | 《六翻自己》 | 《音乐之声》 | 《蝙蝠侠归来》 | 《午夜凶铃美国版1》 | 《咒怨美国版1》 | 《全民超人》 | 《搜索》 | 《101次求婚》 | 《辣妈正传 | 《悬崖》 | 北京爱情故事 | 《浮沉》 | 《变形金刚》 | 变形金刚 | 《幸福已逝》 | graceisgone | 《革命到底》 | 《仙剑奇侠传5》 | 《青苔》 | 《兰陵王》 | 《宫锁珠帘》 | 《爱的创可贴》 | 《双城计中计》 | 杀破狼》 | 《夺帅》 | 《双城生活》 | 《媳妇的美好时代》 | 《保姆》 | 《错爱一生》 | 《婆婆媳妇小姑》 | 《我的美丽人生》 | 《媳妇的美好时代》 | 《错爱一生》 | 《保姆》 | 《空房子》 | 《新兵张本旺》 | 《在山那边》 | 《男人三五十》 | 《瑾娘》 | 《刑警日记》 | 《监狱风云》 | 《无名高地》 | 《我的教师生涯》 | 《狙击手》 | 《高粱红了》 | 《有缘相遇》 | 《第十一级台阶》 | 《将爱情进行到底2》 | 《麦田》 | 黑衣人2》 | 《我，机器人》 | 《我是传奇》 | 《横越》 | 《我人生中最精彩的瞬间》 | 《西游记》 | 《妈祖》 | 《雍正王朝》 | 《老无所依》 | （nocountryforoldmen） | 《站台》 | 《三峡好人》 | 《我是丽≫ | 《三峡好人》 | 《站台》 | 《三峡好人》 | 《孙丽与诗人》 | 《国之利刃》 | 《兵王》 | 《兵道》 | 《国家英雄》 | 《兵王》 | 《兵道》 | 《国家英雄》 | 《迪士尼长发公主》 | 《雾之恋》 | 《天水围的日与夜》 | 《王牌对决》 | 《查理的战争》 | 《又见阿郎》 | 《妈妈为我嫁》 | 《梁山伯与祝英台》 | 《勾魂谷》 | 音乐之声》 | 《圣地亚哥电影节》 | 《十全九美》 | 《隋朝来客》 | 《一不留神》 | 《刀客外传》 | 《幸存日》 | 《射雕英雄传》 | 《天龙八部》 | 《十全九美》 | 《隋朝来客》 | 《超人归来》(SupermanReturns) | 《X战警2》( | 弹·道》 | 《手拉手》 | 《寻梦》 | 《蜿蜒的山路》 | 《兵团岁月》 | 《风起第一关》 | 《圆梦足球》 | 《焦裕禄》 | 《大院总管》 | 《蝙蝠侠6：暗夜骑士》 | 《舞台姐妹》（blog） | perfectholiday | 《完美假日》 | “this | 《英雄》 | 《国际大营救》 | 《独家披露》 | 《大河套》 | 《地火》 | 《便衣警官》 | ＜毛泽东＞ | ＜爱你一世一生＞ | 《新水浒》 | 誓不低頭 | 壹號皇庭 | 成吉思汗 | 絕代雙驕 | 康熙微服私訪記 | 反貪風暴 | 《加勒比海盗1》 | 《蝙蝠侠6》 | 《画皮》 | 《画皮》 | 《保持通话》 | 《投名状》 | 《神出鬼没》 | （untraceable） | 《蝙蝠侠6：暗夜骑士》 | 《麦田》 | 《厄夜三十》 | 30daysofnight | 《特殊使命》 | 《中天悬剑》 | 《第二性》 | 《共和国掌柜》 | 《风声》 | 《中国式婚礼》 | 《刑警803》 | 《禁闭》 | 《女性生活》 | 《12个人》 | 《电话方程式》 | ＜丑女无敌＞ | ＜如意＞ | ＜我知女人心＞ | 《丑女无敌》 | ＜我的房东叫别扭＞ | 《神探》 | 《机器人瓦力》 | 《通缉》 | （wanted） | 《我是传奇》 | 《隱婚日記》 | 《河東獅吼2》 | 《龍門飛甲》 | 《劍俠情緣》 | 《如此婚姻》 | 《巴啦啦小魔仙》 | 《ROUNIN》 | 《KungFuKids》 | 王牌VS王牌” | 《竹马青梅》 | 《惡作劇之吻》 | 《醉後決定愛上你》 | 《雏菊》 | 生化危机 | 《生化危机：战神再生》 | 《魔法奇缘》 | 《丹的真实生活》 | daninreallife | 《朱诺》 | 钢之炼金术师 | 《终极生化少女》 | 海豚湾恋人 | 微笑在我心 | 街霸》 | 金色琴弦》 | 《梦幻奇缘2》 | 《小丑归来》 | 《独行侍卫》 | 《子夜》 | 《大商道》 | 《春秋淹城》 | 《康熙王朝》 | 《走向共和》 | \"天使的烙印＂ | ＂血蝴蝶＂ | ＂浮生劫＂ | ＂游戏人生＂ | \"毛大碗人物＂ | 《兄弟连》 | 《兄弟连：太平洋》 | 厄夜三十》 | 《电锯惊魂ⅳ》 | 仙剑五 | 战神 | 《凯斯宾王子》 | 盗梦空间 | 《大尾鱸鰻》 | 《死神少女》 | 《初恋那件小事》 | 《夏之恋》 | 《初恋这件小事》 | 《来生》 | Extinction | ＜夏天有风吹过＞ | ＜幸福生活在招手＞ | ＜为你而来＞ | 《夏天有风吹过》 | 《功夫熊猫》 | 「奇异的插曲」 | 「办公室有鬼」 | 「那一夜搞音乐」 | 「爱无能」 | 「精慌」 | 「一个演员的自我修养」 | 「男人如衣服」 | 「不二门」 | 「禁止掉头」 | 「驴得水」 | 「合伙人」 | 《南京！南京！》 | 《女人不坏》 | 空手道小子》 | 《过山车大亨》 | 万年飘香 | （不要和陌生人说话） | （中国式离婚） | （新结婚时代） | （家常菜） | 《闪灵》 | theshining | 《如果不曾爱过你》 | 《梦想》 | 《心魔》 | ＜世紀戰疫＞ | 《麻生．尋鬼記》 | ＜預言書手稿＞ | 降头》 | 《夺帅》 | 《同门》 | 《赤壁》（上） | 《南京南京》 | 《在恶魔知道你死前》（beforethedevilknowsyou‘redead， | 《爱情公寓》 | 爱情公寓 | 爱情公寓 | 《三十四十》 | 《小情歌 | 《情陷夜中环1-2》 | 《仁者黄飞鸿》 | 《我老婆係赌圣》 | 《大内密探零零狗》 | 《天涯海角》 | 《死亡空间：浩劫余生》 | ＜枪火＞ | ＜放逐＞ | ＜PTU＞ | ＜旺角黑夜＞ | ＜新宿事件＞ | ＜黑社会＞ | ＜大魔术师＞ | 《末代皇帝》 | 《狮子王》 | 《花花型警》 | 《权力的游戏》 | 无法逃脱 | 孝子 | 侦察记 | 子夜 | 川西剿匪記 | 冬雪 | 笑过2012 | 舞动台中》 | 《海角七号》 | 《深海寻人》 | 《大日本人》 | 《潜伏》 | 《谁知女儿心》 | （小鬼子走着瞧） | （潜伏） | （谁懂女儿心） | （拯救女兵司徒慧） | 《哈比人历险记》 | 《救赎之路》 | reservationroad | 《楚汉风流》 | 《危情杜鹃》 | 《射雕英雄传》 | 《走过冬天的女人》 | 《渴望激情》 | 《昨日英雄》 | 《保卫爱情》 | 《星际迷航》 | 《星际迷航》 | 叶问 | 苏乞儿 | 深夜食堂 | 深夜食堂 | 《辛亥革命》 | 《后妈》 | 旅行者》 | 《伪钞制造者》 | 《纳尼亚传奇2》 | 《青苔》 | 电锯惊魂ⅳ》 | 杨门女将之军令如山》 | 杨门女将之军令如山》 | 《精忠岳飞》 | 《香木虎》 | 《成长》 | 《碧波仙子》 | 《毕有财》 | 《80后进行时》 | 《心术》 | 《毕有财》 | 《致命筹码》 | 《碧波仙子》 | 《惊变28天》 | 《雀圣》 | 《X战警金刚狼》 | 致命守护者 | 为我而生 | 斗破苍穹 | 《美国黑帮》 | 加勒比海盗3：世界尽头》 | 《变形金刚》 | 《黄炎培》 | 《周总理的一天》 | 哈里波特和死亡圣器 | 爱在当下 | 《使命召唤：黑色行动》 | 《墨香》 | 《辣手神探》 | 《爱情来了》 | 《征婚启事》 | 《十八岁的约定》 | 《最终幻想：灵魂深处》 | 《荒野生存》 | 《刺杀神枪侠》 | 《熊猫》 | 《怪物史莱克》 | 《原来是美男》 | 《玛丽外宿中》 | 《原来是美男》 | 《贝多芬病毒》 | 《快刀洪吉童》 | 欲望都市》 | 加油妈妈 | 《東山飄雨西關晴》 | 《點解阿sir系阿sir》 | 《四葉草4》 | 《秋香怒點唐伯虎》 | 《无极》 | 《刺陵》 | 横囧之银行大劫案 | 《风尘三女侠》 | 《放逐》 | 《硬汉》 | 《光辉岁月》 | 我爱我家 | 《全中国最穷的小伙子发财日记》 | 《全中国最穷的小伙子发财日记》 | 《机器人瓦力》 | 贫民窟里的百万富翁 | 《轩辕剑外传.汉之云》 | 《蜗居》 | 《成家立业》 | 《一生守护》 | 《母亲的战争》 | 《秦始皇》 | 《宝莲灯》 | 《太祖秘史》 | 《京都纪事》 | 《大国医》 | 《李小龙传奇》 | 《水浒传》 | 《大宋提刑官II》 | 《我的团长我的团》 | ＜宫＞ | ＜墨仙＞ | ＜卢俊义＞ | ＜并肩作战＞ | 《宫》 | 《红尘丽影》 | 《门徒》 | 《投名状》 | （blog） | 《向东是大海》 | 《风车》 | 《黑衣人2》 | 《平民窟的百万富翁》 | 《八通街》 | 《深圳缉毒英雄》 | 《警匪较量珠三角》 | 《上海滩》 | Believe | Lucifer | 秦香蓮 | 劍俠情緣 | 追魚傳奇 | 成人記 | 秀麗江山之長歌行 | 妻子的秘密 | [铁拳] | [铁拳] | [寒战] | [绿箭侠] | 《宫锁沉香》 | 《陆贞传奇》 | 《笑傲江湖》 | 戏说乾隆 | 《汽车驾驶员》 | 湖南晚间新闻 | 《小儿难养》 | 《时尚女编辑》 | 《我的孩子我的家》 | 《杀生》 | 《一路顺疯》 | 《俏妈萌爸》 | 《大生活》 | 《大哥》 | 《食人鱼事件》 | 《等风来》 | 《婚礼上的玛戈》 | 《自由驰骋》 | 《让爱自由》 | 《向日葵》 | withoutyouth） | 《酒质受损》（bottleshock） | 《虎：解密403特种部队》 | 《我的黑道病历》 | 《人盾》 | 《特种警戒》 | 《有计划犯罪》 | 《生死归途》 | 《军礼》 | 《风雷动》 | 《虎》 | 《有计划犯罪》 | 《军礼》 | 《生死归途》 | 《风雷动》 | 《刺客信条：世系》 | 《幽灵行动》 | 蜘蛛侠》 | 《咒怨美国版ⅰ》 | 碧血长空 | savages） | 《潜水钟与蝴蝶》（thedivingbellandthe | 《原来是美男》 | 《原来是美男》 | 《你为我着迷》 | 《爱情碰碰撞》 | 《青春的季节》 | 《别跟我谈高富帅》 | 《达人也疯狂》 | 《爱情碰碰撞》 | 《日照重庆》 | 《激战》 | 《青瓷》 | 《幸福的面条》 | 《公主的诱惑》 | 《恋爱三万英尺》 | 《囍上加喜》 | 《?男孩》 | 《花吃了那女孩》 | 《终结者》 | 《OnCall36小時》 | 《清明上河图》 | 《料理鼠王》 | 朱诺》（juno） | 《幸福已逝》（graceisgone） | 《武林外传》 | 《武林外传》 | 《惊天阴谋》 | 《留学生》 | 杰西卡·阿尔巴 | 《游客》 | 《荒野生存》（intothewild | 《坏习惯》 | 《冈拉梅朵》 | 《西藏往事》 | 「冈拉梅朵」 | 「西藏往事」 | 公主嫁到 | 怒火街頭 | 萬凰之皇 | 回到三國 | 樂府藏龍 | 4inLove | 巴不得媽媽 | 《我的团长我的团》 | 《文雀》 | 《厄夜三十》 | 冒牌天神2》 | 《奶爸别动队2》 | 《伊丽莎白女王传2：黄金时代》 | 《晴空》 | 《切尔诺贝利阴影》 | Apocalyptic》 | (世界末日) | 《幸福额度》 | 《黄金大劫案》 | 《同门》 | 《爱丽丝梦游仙境》 | 《天下足球》 | 《疯狂的足球》 | 《蓝色狂想》 | ≪新王加冕≫ | 《实况足球》 | 《逆光飞翔》 | 《女人不坏》 | 《喜欢你》 | 《喜欢你》 | 《家园》 | 《火把》 | 《月亮偷着哭》 | 《太小的鞋子》 | 《天边的格桑花》 | 《月亮偷着哭》 | 《火把》 | 哈利波特 | 《未血绸缪》 | therewillbeblood | 《风雨上海滩》 | 《一碗沧桑》 | 《沙海剑魂》 | 《敦煌》 | 《风雨上海滩》 | 《一碗沧桑》 | 《沙海剑魂》 | 《敦煌》 | 《星星知我心》 | <<星星知我心>> | 《洛神》 | 《珠光寶氣》 | 《熊猫人》 | 《斗鱼》的 | 《灭顶之灾》 | thehappening | 《好莱坞庄园》 | 《蜘蛛侠2》 | 电子世界争霸战2》 | ≪尘埃落定≫ | ≪秦始皇≫ | ≪兵圣≫ | ≪像雾像雨又像风≫ | 星际大战：克隆人战争》 | 《性工作者十日谈》 | 《蜘蛛侠ⅲ》 | 《大人物》 | 电子世界争霸战》 | 《电子世界争霸战遗产》'"
      ]
     },
     "execution_count": 19,
     "metadata": {},
     "output_type": "execute_result"
    }
   ],
   "source": [
    "df_label_train_Category.Privacy[8]"
   ]
  },
  {
   "cell_type": "code",
   "execution_count": 44,
   "metadata": {
    "ExecuteTime": {
     "end_time": "2020-11-17T04:08:07.447366Z",
     "start_time": "2020-11-17T04:08:07.441340Z"
    }
   },
   "outputs": [
    {
     "data": {
      "text/plain": [
       "'33370722 496049279 2450006972 1827967769 776979804 89359735 1787817738 1941600020 527622886 18618193311 415392980 826929452 924969718 371451138 160308912 14705257 326597719 1143175993 783594553 229215757 114281231 449801320 574785760 490401933 130238288 2308713823 53344829 232297193'"
      ]
     },
     "execution_count": 44,
     "metadata": {},
     "output_type": "execute_result"
    }
   ],
   "source": [
    "df_label_train_Category.Privacy[0]"
   ]
  },
  {
   "cell_type": "code",
   "execution_count": 48,
   "metadata": {
    "ExecuteTime": {
     "end_time": "2020-11-17T06:31:45.909435Z",
     "start_time": "2020-11-17T06:31:45.890143Z"
    },
    "scrolled": false
   },
   "outputs": [
    {
     "data": {
      "text/plain": [
       "\"fanstang@fanstang.com angelinazhu@163.com abbyeung@gmail.com fudoushinn@hotmail.com hejingxinxiang@163.com jimmylin@jimmylin.a haowenjing718@126.com wuyuemail@126.com GaryCheung@ gcheung1973@yahoo.com wujing@missworld.cn fanstang@fanstang.com houxian_work@thmusic.com.cn baotianmao@hotmail.com jjrjiangyue@qq.com Ld6919@126.com rickychiu2004@yahoo.com.hk daijun_studio@126.com pancy8888@yahoo.com.hk he15012501083@gmail.com montager@foxmail.com 'pamela@dreamstardom.com zxl129@vip.sina.com 1213785766@qq.com info@nova-ent.com jjay999@163.com pccwman@hotmail.com saent@netvigator.com bianjuyuxiaoqian@sina.cn bianjuyuxiaoqian@vip.126.com ycwwhy@sina.com primetime@ptmedia.asia rain_ho2656@yahoo.com.cn nancykou0522@yahoo.com.tw wangwuli@vip.126.com tt@skykee.com info@wowmusic.hk lingying@188.com manager@snh48.com eleelegroup@gmail.com artiste.harmonic@gmail.com jessicafplydia@yahoo.com.hk. cywh88888@vip.126.com miki1234567@tom.com anjon0731@sina.com viki077@hotmail.com chrissyliu@mac.com 986728805@qq.com 419390096@qq.com skinnylazybone@gmail.com eyoung@eemedia.cn honglin@eemedia.cn hsmedia0211@hotmail.com lianganan@gmail.com Sunsetpeakfilms@gmail.com jinguoshengshi@vip.sina.com phchen322@yahoo.com solaaoi@sina.cn fanstang@fanstang.com iseartist@gmail.com fanyuwei@hotmail.com annnia@hotmail.com star2012@foxmail.com wjh1721@yahoo.com.tw hera_mm@qq.com info@freewayltd.com tinaluck21@gmail.com zzvss@sina.com derekgaga@gmail.com djg999@126.com leevi0129@126.com den02162000@chicgroup.com arjay588@gmail.com ee-jingjibu@qq.com youngmai@yeah.net dearxg198236@163.com hs@hongshui.com.cn info@kearenpang.com oscarg@163.com wudongfang@188.com zhuzishan@live.cn info@wowmusic. Calvin-c2009@hotmail.com dreamux@yahoo.com.hk sunjia916@126.com info@hyperbitch.com toast.stanley@gmail.com service@moontalk.com.tw linyuchun@eelin.com.tw hsuben0624@gmail.com 609602937@qq.com huihui0201@126.com hai_nan2005@126.com pengdanys@qq.com awei@alegendstar.com bcw.3people@gmail.com hejingxinxiang@163.com Anita.lto@gmail.com 18618193311@163.com fanyuwei@hotmail.com jdfz520@yahoo.cn 高一桉gya2012vip@sina.com... milan001@qq.com yinentertainment@gmail.com j.yu@giantrabbit.asia ryan@starlakeagency.com dobby0527@gmail.com hongju998@sina.com littlet8516@hotmail.com a_chefamily@yahoo.com.tw hsmedia0211@hotmail.com lolla3112@gmail.com damouthme@gmail.com 88132575@qq.com cky1792@yahoo.com.hk yaojiantbs@126.com xmbike@188.com the80king@126.com jamal_sun@msn.com tompan@vip.126.com rickylin7028@gmail.com emilykuo77@gmail.com tvbcindyng@gmail.com hai_nan2005@126.com guanshaozeng007@163.com boyzks@gmail.com eddie@victoriahk.com ricky@victoriahk.com 13911263572@126.com jangseohee@jangruicy.com desen66@126.com romance_h1982@hotmail.com alps123@hotmail.com yebeimusic@gmail.com liangshuang1122@126.com eyoung@eemedia.cn honglin@eemedia.cn yuxuan1118@126.com 37769693@qq.com chenniechang@gmail.com info@want-ent.com 金晶kinkiemail lifeier_jing@163.com 34836378@qq.com 1468491333@QQ.COM yabinstudio@sina.com@music liuyichen@trmusic.com.cn crazyautofans@gmail.com aimmo_pawan@hotmail.com 1257677705@qq.com mko-7@163.com jeffreychen@vip.sina.com juzi3068@hotmail.com 13811552015@163.com panpan3388@yahoo.com.hk Szekikk@gmail.com jo615tw@gmail.com v2happyday@126.com vivian.live.love@163.com Lweiyt@163.com hejingxinxiang@163.com roychowmusic@gmail.com 发bjliuyh@126.com service@moontalk.com.tw Rockclubcrew@gmail.com 772845851@qq.com james.cheung@sonymusic.com kenjop@126.com dengluping@vip.sina.com jeff.aam@gmail.com Keven@artwalker.org 1065808841@qq.com nonamepunks@hotmail.com admin@yiseloo.com zhiyun_03@yahoo.com toyiau@gpaa.com.hk chenleiguitar@vip.163.com emma.lee@thebrandcore.com vangie.schedule@gmail.com handongwork@163.com danghongxiaozhu@yahoo.cn zoabout@gmail.com jrfog@qq.com www.celinajade.com toyiau@gpaa.com.hk s.apple@163.com kaymar1050@hotmail.com jesseyyi@youhugmedia.com candybar88@sina.com suqing75@163.com xuanchuan_kayla@163.com mailyaoavnu@gmail.com sammy@catwalkagency.com mh201221@gmail.com mhmhmw@gmail.com yidongpai@126.com bella.anan@qq.com juli@julitv.com zooparty720206@gmail.com songxiaobo@vip.126.com ting.jei@gmail.com tvbbecky@gmail.com amy@hkfootage.com ella.heung@tvb.com.hk sanders.xu@hotmail.com kenneth amyjuan.aj@gmail.com qianqian2378@163.com 13911181807@126.com aben@alegendstar.com aben@alegendstar.com saent@netvigator.com 112378451@qq.com xinrong_li@vip.163.com work@anytimechina.com arjay588@gmail.com gaotianliang0519@163.com 657255312@qq.com caisewu@gmail.com shinmusi@ms51.hinet.net andychang@alegendstar.com aben@alegendstar.com caoyangmodel@163.com 57150788@qq.com luckymonkeyband@gmail.com meo@ellen-chan.com sexymeo@188.com wingsaad@vip.188.com ellyliu@livemail.tw zpspeh@hanmail.net dmsgPtkfkd@hotmail.com lilypanstudio@126.com winpy.lau@tvb.com. zhengluoqianwork@163.com roro@showcitytimes.net soulwayproductions@me.com 79147402@qq.com ben718@ymail.com 840548484@QQ.com 350868843@qq.com 569446936@qq.com www.starmusichk.com taddy@starmusichk.com tom.pokface@yahoo.cn dvfuns@gmail.com kinglovewow@163.com Ivyivyliu56526@yahoo.com.tw ivyliu1967@gmail.com LingFang.Leo@modeentertainment.com lindsey417@163.com 2389924948@qq.com manager0211@sina.com bill_yeung@uih.com.hk 11studiotw@gmail.com onymoore@summus-group.com aben@alegendstar.com jenomusic_studio@live.com coop@newbeat.com.cn karizm@gmail.com\""
      ]
     },
     "execution_count": 48,
     "metadata": {},
     "output_type": "execute_result"
    }
   ],
   "source": [
    "df_label_train_Category.Privacy[4]"
   ]
  },
  {
   "cell_type": "code",
   "execution_count": 49,
   "metadata": {
    "ExecuteTime": {
     "end_time": "2020-11-17T06:32:11.717719Z",
     "start_time": "2020-11-17T06:32:11.697759Z"
    }
   },
   "outputs": [
    {
     "data": {
      "text/plain": [
       "'13801318005 18600608880 +85223352109 +886963110290 13521243618 +886-936-092-241 +886-952-199-882 852﹣23352164 010-6362212113910492247 +86-18601200718 （852）66088899（86）13818199118 18601012468 zzz813222 18500057591 13501379817 13910735585 13818958565 13817519526 18621199838 010﹣85570230 13810105207 0085290544220 18601160682 86-150-1250-1083 18953120001 +60128816178 18601219959 18611545632 13691110092 15232185888 00886928592269 13439591797 13261538083 139-1102-7909 69010858 13910663803 13910239835 18613038899 347-738-8723 +886935516828 18651870177 13776659833 18628169167 15828284929 18611797612 +852-37411033 18601126676 15001267764 13520605827 13552380800 13910819844 (02)2781-3888#51 886921-379-135( +886-2-28928639 886-989-264-950 137-0107-2631 139-010-66161 158-1121-2183 +86137-5787-9227 886-2-2753-1981 886926929796 13910008890 18611811168 13810737919 886-2-2738-7077 1827967769 886-2369-9886#585 +886910741038 13611356939 85172333-606 13439992202 18977110565 +886-2-66365725 15013488725 15920766912 18611801269 852-2335-2113 18665092260 +886287713553 138-0121-2506 （+886）2-2752-1874 18911175595 +85266873859 13811952441 13810585448 15618300936 13910405280董晨 18086022688/13396088633 1817534480 13611185080 13801097892 +886913881777 852-97392372 15010836006 13911960587 13911385512 13701063698 2009 18675877722 13810319116 18642834055 13870962446 010-58696808 18621805218 886-4-23029888 +886223755010 +86134-0106-3493 13810105207 00852-90544220 18618288171 13910579477 18901110907 18611001981 13381002798 13801281432 136-6137-3557 18611146593 15811101287 18911738839 18929341023 播886933711185 +852-98014313 y-23352132 852-39070486 （852）23072034 13923180818 13512794458 151-1005-0052 0978-022-680 13810168772 +886-2-28318660e- r886-2-25095720 15510384091 13907127072 0922-652-820 0913-659-895 +886926-004-045 18611999255 010-5762608757626088 13810963997 15901278078 18610056224 13923119898 139-1126-3572 13911369167 010-57612460 0939858199 18001206607 18210606685 0592-3931800 +886975567203 +886963333960 +85223352118 158-1014-6435 25100123 13661373557 13501058727 139-1126-3572 13701233057 18611925061 15901492093 13311361821 13810091772 18621963983 15611245107 010-56386038 15220147111 +886928534302 15001131438 +85223352105 13910960648 18600112400 010-63012488 010-58697451 +85224372627 +85266873859 +85223352109 15308876699 13811552015 23352103 +886932147992 13601336521 18616873450 15601089728 15998341111 18621805218 886-4-23029888 010-58696808 772845851 6821155 13662102905 18669701489 15816314444 18611211355 13810849824 +886955002020 ＋60123774567 13910220892 18621915599 13910975201 15801580925 852)6466668 13732278181 139-0101-7673 +886920494700 18618289775 01065805888 (886)2-27183108 057788285332 400-692-0001 010-58203428 13811096616 186-1179-4208 15821181236 ＋886227627111 18611683736 13601283569 +86-13636460588 +886-936367799 +886)922231939 18611719384 13911127613 138-1168-8572 18611006666 +886927951202 852-23352105 2335-2305/9263-3317 13311311515 +85294979172 0988006707 18801333086 0933905613 02-25067711 0916991114 04-23109266 0958208963 852-23352385 +886227627111 010-62132837 010-51626153 13621072516 18857150858 00852-69010858 886921024788 8618611732247 60122919901 +886）2-2752-1874 18618342854 84682361 15210169740 13911829573 +886-2-24255385 0028862-2762-7111 13198907077 18616873450 18611363682 +8522335-2385 764957359 (852)61909075 +85223352164 18610298146 13701094423 13311317888 18611886534 1861060699713940087450 18600190013 18611124650 13901236903 +6568714242 886-924021021 886-910000602 18610095883 （852）94896744 （86）1380-2841-004 +886227608890 +88627627111 +88673802488'"
      ]
     },
     "execution_count": 49,
     "metadata": {},
     "output_type": "execute_result"
    }
   ],
   "source": [
    "df_label_train_Category.Privacy[7]"
   ]
  },
  {
   "cell_type": "code",
   "execution_count": 51,
   "metadata": {
    "ExecuteTime": {
     "end_time": "2020-11-17T06:32:39.088368Z",
     "start_time": "2020-11-17T06:32:39.080332Z"
    }
   },
   "outputs": [
    {
     "data": {
      "text/plain": [
       "'zhangzhizheng-zzz rachel-213 montager mengmeng6570 wwjshow liushasha319439 1827967769 13426245800 hongshui001 hongshui007 zhuzishanmisstin sjyy98 zhuzhiyi91510 waveapp songxiaobo tianlangyinyue 57150788 57150788 lily潘小芬'"
      ]
     },
     "execution_count": 51,
     "metadata": {},
     "output_type": "execute_result"
    }
   ],
   "source": [
    "df_label_train_Category.Privacy[13]"
   ]
  },
  {
   "cell_type": "code",
   "execution_count": null,
   "metadata": {},
   "outputs": [],
   "source": [
    "df_label_train_Category.Privacy[0]"
   ]
  },
  {
   "cell_type": "code",
   "execution_count": 37,
   "metadata": {
    "ExecuteTime": {
     "end_time": "2020-11-17T04:01:41.590246Z",
     "start_time": "2020-11-17T04:01:41.563243Z"
    }
   },
   "outputs": [],
   "source": [
    "df_label_train_Category.to_csv('../data/Category_info.csv',\n",
    "                               header=True,\n",
    "                               index=False,\n",
    "                               encoding=\"utf-8\")"
   ]
  },
  {
   "cell_type": "code",
   "execution_count": 40,
   "metadata": {
    "ExecuteTime": {
     "end_time": "2020-11-17T04:04:54.457526Z",
     "start_time": "2020-11-17T04:04:54.440555Z"
    }
   },
   "outputs": [],
   "source": [
    "# !head ../data/Category_info.csv"
   ]
  },
  {
   "cell_type": "code",
   "execution_count": null,
   "metadata": {},
   "outputs": [],
   "source": []
  },
  {
   "cell_type": "markdown",
   "metadata": {},
   "source": [
    "# 正则表达式"
   ]
  },
  {
   "cell_type": "code",
   "execution_count": 52,
   "metadata": {
    "ExecuteTime": {
     "end_time": "2020-11-17T06:33:03.530706Z",
     "start_time": "2020-11-17T06:33:03.521709Z"
    }
   },
   "outputs": [],
   "source": [
    "import re"
   ]
  },
  {
   "cell_type": "code",
   "execution_count": 58,
   "metadata": {
    "ExecuteTime": {
     "end_time": "2020-11-17T07:12:25.511339Z",
     "start_time": "2020-11-17T07:12:25.502379Z"
    }
   },
   "outputs": [
    {
     "data": {
      "text/plain": [
       "{'QQ',\n",
       " 'address',\n",
       " 'book',\n",
       " 'company',\n",
       " 'email',\n",
       " 'game',\n",
       " 'government',\n",
       " 'mobile',\n",
       " 'movie',\n",
       " 'name',\n",
       " 'organization',\n",
       " 'position',\n",
       " 'scene',\n",
       " 'vx'}"
      ]
     },
     "execution_count": 58,
     "metadata": {},
     "output_type": "execute_result"
    }
   ],
   "source": [
    "set(df_label_train_Category['Category'])"
   ]
  },
  {
   "cell_type": "markdown",
   "metadata": {},
   "source": [
    "### 电话匹配"
   ]
  },
  {
   "cell_type": "code",
   "execution_count": 95,
   "metadata": {
    "ExecuteTime": {
     "end_time": "2020-11-17T07:41:07.860541Z",
     "start_time": "2020-11-17T07:41:07.851570Z"
    }
   },
   "outputs": [],
   "source": [
    "# 匹配电话\n",
    "phoneRegex = re.compile(r'''(\n",
    "    (13[0-9]|14[5|7]|15[0-9]|18[0-9])(\\d|-){8,10}|\n",
    "    \\+?\\d{3}-\\d{8}|\\d{4}-\\d{7,8}|\n",
    "    \\+\\d{11,12}\n",
    ")''', re.VERBOSE)           # 如上，传入参数 re.VERBOSE 可以给正则表达式添加注释，详见附录"
   ]
  },
  {
   "cell_type": "code",
   "execution_count": 59,
   "metadata": {
    "ExecuteTime": {
     "end_time": "2020-11-17T07:12:46.835332Z",
     "start_time": "2020-11-17T07:12:46.825294Z"
    }
   },
   "outputs": [
    {
     "data": {
      "text/html": [
       "<div>\n",
       "<style scoped>\n",
       "    .dataframe tbody tr th:only-of-type {\n",
       "        vertical-align: middle;\n",
       "    }\n",
       "\n",
       "    .dataframe tbody tr th {\n",
       "        vertical-align: top;\n",
       "    }\n",
       "\n",
       "    .dataframe thead th {\n",
       "        text-align: right;\n",
       "    }\n",
       "</style>\n",
       "<table border=\"1\" class=\"dataframe\">\n",
       "  <thead>\n",
       "    <tr style=\"text-align: right;\">\n",
       "      <th></th>\n",
       "      <th>Category</th>\n",
       "      <th>Privacy</th>\n",
       "    </tr>\n",
       "  </thead>\n",
       "  <tbody>\n",
       "    <tr>\n",
       "      <th>7</th>\n",
       "      <td>mobile</td>\n",
       "      <td>13801318005 18600608880 +85223352109 +88696311...</td>\n",
       "    </tr>\n",
       "  </tbody>\n",
       "</table>\n",
       "</div>"
      ],
      "text/plain": [
       "  Category                                            Privacy\n",
       "7   mobile  13801318005 18600608880 +85223352109 +88696311..."
      ]
     },
     "execution_count": 59,
     "metadata": {},
     "output_type": "execute_result"
    }
   ],
   "source": [
    "df_label_train_Category[df_label_train_Category['Category']=='mobile']"
   ]
  },
  {
   "cell_type": "code",
   "execution_count": 60,
   "metadata": {
    "ExecuteTime": {
     "end_time": "2020-11-17T07:13:57.184866Z",
     "start_time": "2020-11-17T07:13:57.168856Z"
    }
   },
   "outputs": [],
   "source": [
    "text_phone = df_label_train_Category[df_label_train_Category['Category']=='mobile']['Privacy'].values[0]"
   ]
  },
  {
   "cell_type": "code",
   "execution_count": 93,
   "metadata": {
    "ExecuteTime": {
     "end_time": "2020-11-17T07:39:23.457701Z",
     "start_time": "2020-11-17T07:39:23.451673Z"
    },
    "collapsed": true
   },
   "outputs": [
    {
     "data": {
      "text/plain": [
       "'13801318005 18600608880 +85223352109 +886963110290 13521243618 +886-936-092-241 +886-952-199-882 852﹣23352164 010-6362212113910492247 +86-18601200718 （852）66088899（86）13818199118 18601012468 zzz813222 18500057591 13501379817 13910735585 13818958565 13817519526 18621199838 010﹣85570230 13810105207 0085290544220 18601160682 86-150-1250-1083 18953120001 +60128816178 18601219959 18611545632 13691110092 15232185888 00886928592269 13439591797 13261538083 139-1102-7909 69010858 13910663803 13910239835 18613038899 347-738-8723 +886935516828 18651870177 13776659833 18628169167 15828284929 18611797612 +852-37411033 18601126676 15001267764 13520605827 13552380800 13910819844 (02)2781-3888#51 886921-379-135( +886-2-28928639 886-989-264-950 137-0107-2631 139-010-66161 158-1121-2183 +86137-5787-9227 886-2-2753-1981 886926929796 13910008890 18611811168 13810737919 886-2-2738-7077 1827967769 886-2369-9886#585 +886910741038 13611356939 85172333-606 13439992202 18977110565 +886-2-66365725 15013488725 15920766912 18611801269 852-2335-2113 18665092260 +886287713553 138-0121-2506 （+886）2-2752-1874 18911175595 +85266873859 13811952441 13810585448 15618300936 13910405280董晨 18086022688/13396088633 1817534480 13611185080 13801097892 +886913881777 852-97392372 15010836006 13911960587 13911385512 13701063698 2009 18675877722 13810319116 18642834055 13870962446 010-58696808 18621805218 886-4-23029888 +886223755010 +86134-0106-3493 13810105207 00852-90544220 18618288171 13910579477 18901110907 18611001981 13381002798 13801281432 136-6137-3557 18611146593 15811101287 18911738839 18929341023 播886933711185 +852-98014313 y-23352132 852-39070486 （852）23072034 13923180818 13512794458 151-1005-0052 0978-022-680 13810168772 +886-2-28318660e- r886-2-25095720 15510384091 13907127072 0922-652-820 0913-659-895 +886926-004-045 18611999255 010-5762608757626088 13810963997 15901278078 18610056224 13923119898 139-1126-3572 13911369167 010-57612460 0939858199 18001206607 18210606685 0592-3931800 +886975567203 +886963333960 +85223352118 158-1014-6435 25100123 13661373557 13501058727 139-1126-3572 13701233057 18611925061 15901492093 13311361821 13810091772 18621963983 15611245107 010-56386038 15220147111 +886928534302 15001131438 +85223352105 13910960648 18600112400 010-63012488 010-58697451 +85224372627 +85266873859 +85223352109 15308876699 13811552015 23352103 +886932147992 13601336521 18616873450 15601089728 15998341111 18621805218 886-4-23029888 010-58696808 772845851 6821155 13662102905 18669701489 15816314444 18611211355 13810849824 +886955002020 ＋60123774567 13910220892 18621915599 13910975201 15801580925 852)6466668 13732278181 139-0101-7673 +886920494700 18618289775 01065805888 (886)2-27183108 057788285332 400-692-0001 010-58203428 13811096616 186-1179-4208 15821181236 ＋886227627111 18611683736 13601283569 +86-13636460588 +886-936367799 +886)922231939 18611719384 13911127613 138-1168-8572 18611006666 +886927951202 852-23352105 2335-2305/9263-3317 13311311515 +85294979172 0988006707 18801333086 0933905613 02-25067711 0916991114 04-23109266 0958208963 852-23352385 +886227627111 010-62132837 010-51626153 13621072516 18857150858 00852-69010858 886921024788 8618611732247 60122919901 +886）2-2752-1874 18618342854 84682361 15210169740 13911829573 +886-2-24255385 0028862-2762-7111 13198907077 18616873450 18611363682 +8522335-2385 764957359 (852)61909075 +85223352164 18610298146 13701094423 13311317888 18611886534 1861060699713940087450 18600190013 18611124650 13901236903 +6568714242 886-924021021 886-910000602 18610095883 （852）94896744 （86）1380-2841-004 +886227608890 +88627627111 +88673802488'"
      ]
     },
     "execution_count": 93,
     "metadata": {},
     "output_type": "execute_result"
    }
   ],
   "source": [
    "text_phone"
   ]
  },
  {
   "cell_type": "code",
   "execution_count": 97,
   "metadata": {
    "ExecuteTime": {
     "end_time": "2020-11-17T07:41:22.851896Z",
     "start_time": "2020-11-17T07:41:22.831900Z"
    },
    "collapsed": true
   },
   "outputs": [
    {
     "data": {
      "text/plain": [
       "['13801318005',\n",
       " '18600608880',\n",
       " '+85223352109',\n",
       " '+886963110290',\n",
       " '13521243618',\n",
       " '010-63622121',\n",
       " '13910492247',\n",
       " '18601200718',\n",
       " '13818199118',\n",
       " '18601012468',\n",
       " '18500057591',\n",
       " '13501379817',\n",
       " '13910735585',\n",
       " '13818958565',\n",
       " '13817519526',\n",
       " '18621199838',\n",
       " '13810105207',\n",
       " '18601160682',\n",
       " '150-1250-1083',\n",
       " '18953120001',\n",
       " '+60128816178',\n",
       " '18601219959',\n",
       " '18611545632',\n",
       " '13691110092',\n",
       " '15232185888',\n",
       " '13439591797',\n",
       " '13261538083',\n",
       " '139-1102-7909',\n",
       " '13910663803',\n",
       " '13910239835',\n",
       " '18613038899',\n",
       " '+886935516828',\n",
       " '18651870177',\n",
       " '13776659833',\n",
       " '18628169167',\n",
       " '15828284929',\n",
       " '18611797612',\n",
       " '+852-37411033',\n",
       " '18601126676',\n",
       " '15001267764',\n",
       " '13520605827',\n",
       " '13552380800',\n",
       " '13910819844',\n",
       " '137-0107-2631',\n",
       " '139-010-66161',\n",
       " '158-1121-2183',\n",
       " '137-5787-9227',\n",
       " '13910008890',\n",
       " '18611811168',\n",
       " '13810737919',\n",
       " '+886910741038',\n",
       " '13611356939',\n",
       " '13439992202',\n",
       " '18977110565',\n",
       " '15013488725',\n",
       " '15920766912',\n",
       " '18611801269',\n",
       " '18665092260',\n",
       " '+886287713553',\n",
       " '138-0121-2506',\n",
       " '18911175595',\n",
       " '+85266873859',\n",
       " '13811952441',\n",
       " '13810585448',\n",
       " '15618300936',\n",
       " '13910405280',\n",
       " '18086022688',\n",
       " '13396088633',\n",
       " '13611185080',\n",
       " '13801097892',\n",
       " '+886913881777',\n",
       " '852-97392372',\n",
       " '15010836006',\n",
       " '13911960587',\n",
       " '13911385512',\n",
       " '13701063698',\n",
       " '18675877722',\n",
       " '13810319116',\n",
       " '18642834055',\n",
       " '13870962446',\n",
       " '010-58696808',\n",
       " '18621805218',\n",
       " '+886223755010',\n",
       " '134-0106-3493',\n",
       " '13810105207',\n",
       " '0852-90544220',\n",
       " '18618288171',\n",
       " '13910579477',\n",
       " '18901110907',\n",
       " '18611001981',\n",
       " '13381002798',\n",
       " '13801281432',\n",
       " '136-6137-3557',\n",
       " '18611146593',\n",
       " '15811101287',\n",
       " '18911738839',\n",
       " '18929341023',\n",
       " '+852-98014313',\n",
       " '852-39070486',\n",
       " '13923180818',\n",
       " '13512794458',\n",
       " '151-1005-0052',\n",
       " '13810168772',\n",
       " '15510384091',\n",
       " '13907127072',\n",
       " '18611999255',\n",
       " '010-57626087',\n",
       " '13810963997',\n",
       " '15901278078',\n",
       " '18610056224',\n",
       " '13923119898',\n",
       " '139-1126-3572',\n",
       " '13911369167',\n",
       " '010-57612460',\n",
       " '18001206607',\n",
       " '18210606685',\n",
       " '0592-3931800',\n",
       " '+886975567203',\n",
       " '+886963333960',\n",
       " '+85223352118',\n",
       " '158-1014-6435',\n",
       " '13661373557',\n",
       " '13501058727',\n",
       " '139-1126-3572',\n",
       " '13701233057',\n",
       " '18611925061',\n",
       " '15901492093',\n",
       " '13311361821',\n",
       " '13810091772',\n",
       " '18621963983',\n",
       " '15611245107',\n",
       " '010-56386038',\n",
       " '15220147111',\n",
       " '+886928534302',\n",
       " '15001131438',\n",
       " '+85223352105',\n",
       " '13910960648',\n",
       " '18600112400',\n",
       " '010-63012488',\n",
       " '010-58697451',\n",
       " '+85224372627',\n",
       " '+85266873859',\n",
       " '+85223352109',\n",
       " '15308876699',\n",
       " '13811552015',\n",
       " '+886932147992',\n",
       " '13601336521',\n",
       " '18616873450',\n",
       " '15601089728',\n",
       " '15998341111',\n",
       " '18621805218',\n",
       " '010-58696808',\n",
       " '13662102905',\n",
       " '18669701489',\n",
       " '15816314444',\n",
       " '18611211355',\n",
       " '13810849824',\n",
       " '+886955002020',\n",
       " '13910220892',\n",
       " '18621915599',\n",
       " '13910975201',\n",
       " '15801580925',\n",
       " '13732278181',\n",
       " '139-0101-7673',\n",
       " '+886920494700',\n",
       " '18618289775',\n",
       " '010-58203428',\n",
       " '13811096616',\n",
       " '186-1179-4208',\n",
       " '15821181236',\n",
       " '18611683736',\n",
       " '13601283569',\n",
       " '13636460588',\n",
       " '+886-93636779',\n",
       " '18611719384',\n",
       " '13911127613',\n",
       " '138-1168-8572',\n",
       " '18611006666',\n",
       " '+886927951202',\n",
       " '852-23352105',\n",
       " '13311311515',\n",
       " '+85294979172',\n",
       " '18801333086',\n",
       " '852-23352385',\n",
       " '+886227627111',\n",
       " '010-62132837',\n",
       " '010-51626153',\n",
       " '13621072516',\n",
       " '18857150858',\n",
       " '0852-69010858',\n",
       " '18611732247',\n",
       " '18618342854',\n",
       " '15210169740',\n",
       " '13911829573',\n",
       " '13198907077',\n",
       " '18616873450',\n",
       " '18611363682',\n",
       " '+85223352164',\n",
       " '18610298146',\n",
       " '13701094423',\n",
       " '13311317888',\n",
       " '18611886534',\n",
       " '1861060699713',\n",
       " '18600190013',\n",
       " '18611124650',\n",
       " '13901236903',\n",
       " '886-92402102',\n",
       " '886-91000060',\n",
       " '18610095883',\n",
       " '1380-2841-004',\n",
       " '+886227608890',\n",
       " '+88627627111',\n",
       " '+88673802488']"
      ]
     },
     "execution_count": 97,
     "metadata": {},
     "output_type": "execute_result"
    }
   ],
   "source": [
    "[whole for whole, g1, g2 in phoneRegex.findall(text_phone)]"
   ]
  },
  {
   "cell_type": "code",
   "execution_count": null,
   "metadata": {},
   "outputs": [],
   "source": []
  },
  {
   "cell_type": "markdown",
   "metadata": {},
   "source": [
    "### QQ匹配"
   ]
  },
  {
   "cell_type": "code",
   "execution_count": 135,
   "metadata": {
    "ExecuteTime": {
     "end_time": "2020-11-17T08:02:03.805299Z",
     "start_time": "2020-11-17T08:02:03.796333Z"
    }
   },
   "outputs": [],
   "source": [
    "qqRegex = re.compile(r'''(\n",
    "    \\b[1-9][0-9]{4,8}\\b\n",
    ")''', re.VERBOSE) "
   ]
  },
  {
   "cell_type": "code",
   "execution_count": 136,
   "metadata": {
    "ExecuteTime": {
     "end_time": "2020-11-17T08:02:05.408280Z",
     "start_time": "2020-11-17T08:02:05.394251Z"
    }
   },
   "outputs": [],
   "source": [
    "qq_text = df_label_train_Category[df_label_train_Category['Category']=='QQ'].Privacy.values[0]"
   ]
  },
  {
   "cell_type": "code",
   "execution_count": 137,
   "metadata": {
    "ExecuteTime": {
     "end_time": "2020-11-17T08:02:06.800417Z",
     "start_time": "2020-11-17T08:02:06.785149Z"
    }
   },
   "outputs": [
    {
     "data": {
      "text/plain": [
       "'33370722 496049279 2450006972 1827967769 776979804 89359735 1787817738 1941600020 527622886 18618193311 415392980 826929452 924969718 371451138 160308912 14705257 326597719 1143175993 783594553 229215757 114281231 449801320 574785760 490401933 130238288 2308713823 53344829 232297193'"
      ]
     },
     "execution_count": 137,
     "metadata": {},
     "output_type": "execute_result"
    }
   ],
   "source": [
    "qq_text"
   ]
  },
  {
   "cell_type": "code",
   "execution_count": 138,
   "metadata": {
    "ExecuteTime": {
     "end_time": "2020-11-17T08:02:08.272066Z",
     "start_time": "2020-11-17T08:02:08.256151Z"
    }
   },
   "outputs": [
    {
     "data": {
      "text/plain": [
       "['33370722',\n",
       " '496049279',\n",
       " '776979804',\n",
       " '89359735',\n",
       " '527622886',\n",
       " '415392980',\n",
       " '826929452',\n",
       " '924969718',\n",
       " '371451138',\n",
       " '160308912',\n",
       " '14705257',\n",
       " '326597719',\n",
       " '783594553',\n",
       " '229215757',\n",
       " '114281231',\n",
       " '449801320',\n",
       " '574785760',\n",
       " '490401933',\n",
       " '130238288',\n",
       " '53344829',\n",
       " '232297193']"
      ]
     },
     "execution_count": 138,
     "metadata": {},
     "output_type": "execute_result"
    }
   ],
   "source": [
    "qqRegex.findall(qq_text)"
   ]
  },
  {
   "cell_type": "markdown",
   "metadata": {},
   "source": [
    "NOTE: 先匹配电话，标记之后，再匹配qq，匹配时注意加上条件判断，已经被标记的电话，部分会符合qq的pattern"
   ]
  },
  {
   "cell_type": "code",
   "execution_count": null,
   "metadata": {},
   "outputs": [],
   "source": []
  },
  {
   "cell_type": "markdown",
   "metadata": {},
   "source": [
    "### 邮件地址"
   ]
  },
  {
   "cell_type": "code",
   "execution_count": 76,
   "metadata": {
    "ExecuteTime": {
     "end_time": "2020-11-17T07:25:41.731914Z",
     "start_time": "2020-11-17T07:25:41.719885Z"
    }
   },
   "outputs": [],
   "source": [
    "# 匹配邮件地址\n",
    "emailRegex = re.compile(r'''(\n",
    "    [a-zA-Z0-9._%+-]+           # email-username\n",
    "    @\n",
    "    [a-zA-Z0-9.-]+              # domain-name\n",
    "    \\.[a-zA-Z]{2,4}            # dot-something\n",
    ")''', re.VERBOSE)"
   ]
  },
  {
   "cell_type": "code",
   "execution_count": 73,
   "metadata": {
    "ExecuteTime": {
     "end_time": "2020-11-17T07:23:31.527202Z",
     "start_time": "2020-11-17T07:23:31.520204Z"
    }
   },
   "outputs": [],
   "source": [
    "text = df_test[df_test['ID']=='2984'].data.values[0]"
   ]
  },
  {
   "cell_type": "code",
   "execution_count": 74,
   "metadata": {
    "ExecuteTime": {
     "end_time": "2020-11-17T07:23:33.015029Z",
     "start_time": "2020-11-17T07:23:32.999272Z"
    }
   },
   "outputs": [
    {
     "data": {
      "text/plain": [
       "'工作邮箱联系：33119699@qq.com我的淘宝店:http://baby-amelie.taobao.com/，内地组合至上励合成员刘洲成'"
      ]
     },
     "execution_count": 74,
     "metadata": {},
     "output_type": "execute_result"
    }
   ],
   "source": [
    "text"
   ]
  },
  {
   "cell_type": "code",
   "execution_count": 77,
   "metadata": {
    "ExecuteTime": {
     "end_time": "2020-11-17T07:25:43.439034Z",
     "start_time": "2020-11-17T07:25:43.434035Z"
    }
   },
   "outputs": [
    {
     "data": {
      "text/plain": [
       "['33119699@qq.com']"
      ]
     },
     "execution_count": 77,
     "metadata": {},
     "output_type": "execute_result"
    }
   ],
   "source": [
    "emailRegex.findall(text)"
   ]
  },
  {
   "cell_type": "code",
   "execution_count": null,
   "metadata": {},
   "outputs": [],
   "source": []
  },
  {
   "cell_type": "markdown",
   "metadata": {},
   "source": [
    "# 传统NER"
   ]
  },
  {
   "cell_type": "markdown",
   "metadata": {},
   "source": [
    "## CRF"
   ]
  },
  {
   "cell_type": "code",
   "execution_count": 142,
   "metadata": {
    "ExecuteTime": {
     "end_time": "2020-11-17T08:06:59.818816Z",
     "start_time": "2020-11-17T08:06:59.807811Z"
    }
   },
   "outputs": [],
   "source": [
    "# !pip install sklearn_crfsuite"
   ]
  },
  {
   "cell_type": "code",
   "execution_count": 143,
   "metadata": {
    "ExecuteTime": {
     "end_time": "2020-11-17T08:07:12.711984Z",
     "start_time": "2020-11-17T08:07:03.116132Z"
    }
   },
   "outputs": [],
   "source": [
    "import sklearn\n",
    "import sklearn_crfsuite\n",
    "from sklearn_crfsuite import scorers\n",
    "from sklearn_crfsuite import metrics"
   ]
  },
  {
   "cell_type": "markdown",
   "metadata": {},
   "source": [
    "### 第三方工具特征处理"
   ]
  },
  {
   "cell_type": "code",
   "execution_count": 17,
   "metadata": {
    "ExecuteTime": {
     "end_time": "2020-11-23T15:18:01.746925Z",
     "start_time": "2020-11-23T15:18:01.534319Z"
    }
   },
   "outputs": [],
   "source": [
    "import os\n",
    "import re\n",
    "\n",
    "from pyltp import Segmentor\n",
    "from pyltp import Postagger\n",
    "from pyltp import Parser\n",
    "from pyltp import NamedEntityRecognizer\n",
    "from pyltp import SentenceSplitter\n",
    "\n",
    "LTP_DATA_DIR = 'D:/ProgramData/nlp_package/ltp_v34'\n",
    "\n",
    "class Ltp:\n",
    "    \"https://pyltp.readthedocs.io/zh_CN/latest/\"\n",
    "    def __init__(self, seg=True, pos=False, ner=False, parse=False,\n",
    "                 seg_lexicon_path=None, pos_lexicon_path=None):\n",
    "        cws_model_path = os.path.join(LTP_DATA_DIR, 'cws.model')  # 分词模型路径，模型名称为`cws.model`\n",
    "        pos_model_path = os.path.join(LTP_DATA_DIR, 'pos.model')\n",
    "        ner_model_path = os.path.join(LTP_DATA_DIR, 'ner.model')  # 命名实体识别模型路径\n",
    "        par_model_path = os.path.join(LTP_DATA_DIR, 'parser.model')  # 依存句法分析模型\n",
    "\n",
    "        if seg:\n",
    "            self.segmentor = Segmentor()               #分词\n",
    "            if seg_lexicon_path:\n",
    "                self.segmentor.load_with_lexicon(cws_model_path,\n",
    "                                                 seg_lexicon_path)\n",
    "            else:\n",
    "                self.segmentor.load(cws_model_path)\n",
    "\n",
    "        if pos:\n",
    "            # 输入分词结果\n",
    "            self.postagger = Postagger()               #词性标注\n",
    "            self.postagger.load(pos_model_path)\n",
    "            if pos_lexicon_path:\n",
    "                self.postagger.load_with_lexicon(pos_model_path,\n",
    "                                                 pos_lexicon_path)\n",
    "            else:\n",
    "                self.postagger.load(pos_model_path)\n",
    "\n",
    "        if ner:\n",
    "            # 输入分词和标注结果\n",
    "            self.ner = NamedEntityRecognizer()  #命名主体识别\n",
    "            self.ner.load(ner_model_path)\n",
    "\n",
    "        if parse:\n",
    "            # 输入分词和标注结果\n",
    "            self.parser = Parser()                     #依存分析\n",
    "            self.parser.load(par_model_path)\n",
    "\n",
    "    def release(self):\n",
    "        try:\n",
    "            self.segmentor.release()\n",
    "            self.postagger.release()\n",
    "            self.ner.release()\n",
    "            self.parser.release()\n",
    "        except AttributeError:\n",
    "            pass\n",
    "\n",
    "    def __del__(self):\n",
    "        self.release()"
   ]
  },
  {
   "cell_type": "markdown",
   "metadata": {},
   "source": [
    "#### 示例"
   ]
  },
  {
   "cell_type": "code",
   "execution_count": 18,
   "metadata": {
    "ExecuteTime": {
     "end_time": "2020-11-23T15:18:15.079939Z",
     "start_time": "2020-11-23T15:18:05.387757Z"
    }
   },
   "outputs": [],
   "source": [
    "ltp = Ltp(pos=True, ner=True, parse=True)"
   ]
  },
  {
   "cell_type": "code",
   "execution_count": 26,
   "metadata": {
    "ExecuteTime": {
     "end_time": "2020-11-23T15:20:56.380593Z",
     "start_time": "2020-11-23T15:20:56.367570Z"
    }
   },
   "outputs": [
    {
     "data": {
      "text/plain": [
       "'5轮不胜的亚特兰大本场迎来多尼和主力中场阿斯森蒂斯的复出，与上轮惜败给佛罗伦萨相比阵容更加完整。'"
      ]
     },
     "execution_count": 26,
     "metadata": {},
     "output_type": "execute_result"
    }
   ],
   "source": [
    "df_train.data[0]"
   ]
  },
  {
   "cell_type": "code",
   "execution_count": 160,
   "metadata": {
    "ExecuteTime": {
     "end_time": "2020-11-17T09:11:56.643059Z",
     "start_time": "2020-11-17T09:11:56.624029Z"
    }
   },
   "outputs": [],
   "source": [
    "cut_words = ltp.segmentor.segment(df_train.data[0])\n",
    "postags = ltp.postagger.postag(list(cut_words))\n",
    "netags = ltp.ner.recognize(list(cut_words), list(postags))"
   ]
  },
  {
   "cell_type": "code",
   "execution_count": 161,
   "metadata": {
    "ExecuteTime": {
     "end_time": "2020-11-17T09:12:09.084898Z",
     "start_time": "2020-11-17T09:12:09.075898Z"
    },
    "collapsed": true
   },
   "outputs": [
    {
     "data": {
      "text/plain": [
       "['综合',\n",
       " '6',\n",
       " '项',\n",
       " '指标',\n",
       " '，',\n",
       " '最后',\n",
       " '评',\n",
       " '出',\n",
       " '工行',\n",
       " '综合',\n",
       " '服务',\n",
       " '最',\n",
       " '好',\n",
       " '，',\n",
       " '北京',\n",
       " '银行',\n",
       " '最',\n",
       " '差',\n",
       " '。',\n",
       " '北京',\n",
       " '银行',\n",
       " '之所以',\n",
       " '得分',\n",
       " '最低',\n",
       " '，',\n",
       " '主因',\n",
       " '是',\n",
       " '还',\n",
       " '处于',\n",
       " '起步',\n",
       " '阶段',\n",
       " '，',\n",
       " '地址',\n",
       " '三',\n",
       " '街',\n",
       " '玉苍路',\n",
       " '路口',\n",
       " '红绿灯',\n",
       " '这',\n",
       " '一带',\n",
       " '如果',\n",
       " '有',\n",
       " '看见',\n",
       " '的',\n",
       " '朋友',\n",
       " '请',\n",
       " '联系',\n",
       " '我',\n",
       " '，',\n",
       " '手机',\n",
       " '号码',\n",
       " '是',\n",
       " '18757051248',\n",
       " '。',\n",
       " '感谢',\n",
       " '【',\n",
       " '他',\n",
       " '透露',\n",
       " '才',\n",
       " '1',\n",
       " '年',\n",
       " '该',\n",
       " '作品',\n",
       " '已',\n",
       " '涨',\n",
       " '至',\n",
       " '600万',\n",
       " '元',\n",
       " '（',\n",
       " '约',\n",
       " '120万',\n",
       " '元',\n",
       " '人民币',\n",
       " '）',\n",
       " '。',\n",
       " '另外',\n",
       " '还',\n",
       " '收藏',\n",
       " '草',\n",
       " '间',\n",
       " '弥生',\n",
       " '、',\n",
       " '村上隆',\n",
       " '、',\n",
       " '答',\n",
       " '：',\n",
       " '对于',\n",
       " '目前',\n",
       " '的',\n",
       " 'DotA',\n",
       " '来说',\n",
       " '，',\n",
       " '这',\n",
       " '一',\n",
       " '点',\n",
       " '非常',\n",
       " '困难',\n",
       " '，',\n",
       " '因为',\n",
       " '它',\n",
       " '缺乏',\n",
       " '游戏',\n",
       " '周边',\n",
       " '的',\n",
       " '服务',\n",
       " '，',\n",
       " '包括',\n",
       " 'moma',\n",
       " '一直',\n",
       " '是',\n",
       " '科技',\n",
       " '地产',\n",
       " '的',\n",
       " '标杆',\n",
       " '，',\n",
       " '在',\n",
       " '北京',\n",
       " '也',\n",
       " '具有',\n",
       " '一定',\n",
       " '的',\n",
       " '代表性',\n",
       " '，',\n",
       " '昨天',\n",
       " '，',\n",
       " '国内',\n",
       " '最',\n",
       " '大',\n",
       " '发卡',\n",
       " '机构',\n",
       " '之一',\n",
       " '的',\n",
       " '建行',\n",
       " '正式',\n",
       " '颁布',\n",
       " '了',\n",
       " '其',\n",
       " '信用卡',\n",
       " '业务',\n",
       " '新',\n",
       " '规',\n",
       " '：',\n",
       " '在',\n",
       " '年费',\n",
       " '政策',\n",
       " '上',\n",
       " '，',\n",
       " '从',\n",
       " '本月',\n",
       " '起',\n",
       " '，',\n",
       " '并',\n",
       " '击败',\n",
       " '西方',\n",
       " '众多',\n",
       " '强敌',\n",
       " '，',\n",
       " '拿下',\n",
       " '本届',\n",
       " '《',\n",
       " '2011Battle.net',\n",
       " '全球',\n",
       " '邀请赛',\n",
       " '》',\n",
       " '季军',\n",
       " '，',\n",
       " '拿下',\n",
       " '《',\n",
       " '在',\n",
       " '太平湖',\n",
       " '，',\n",
       " '既',\n",
       " '可以',\n",
       " '泛舟湖',\n",
       " '上',\n",
       " '，',\n",
       " '感受',\n",
       " '“',\n",
       " '锦绣',\n",
       " '山川',\n",
       " '美',\n",
       " '如',\n",
       " '画',\n",
       " '，',\n",
       " '碧波万顷',\n",
       " '映眼帘',\n",
       " '”',\n",
       " '的',\n",
       " '意境',\n",
       " '，',\n",
       " '人们',\n",
       " '已经',\n",
       " '在',\n",
       " '时代',\n",
       " '的',\n",
       " '演进',\n",
       " '中',\n",
       " '越来越',\n",
       " '认同',\n",
       " '黄胄',\n",
       " '的',\n",
       " '艺术',\n",
       " '人物',\n",
       " '和',\n",
       " '精神',\n",
       " '，',\n",
       " '大',\n",
       " '美',\n",
       " '之',\n",
       " '源',\n",
       " '在于',\n",
       " '朴素',\n",
       " '的',\n",
       " '生活',\n",
       " '。']"
      ]
     },
     "execution_count": 161,
     "metadata": {},
     "output_type": "execute_result"
    }
   ],
   "source": [
    "list(cut_words)"
   ]
  },
  {
   "cell_type": "code",
   "execution_count": 168,
   "metadata": {
    "ExecuteTime": {
     "end_time": "2020-11-17T11:06:09.668852Z",
     "start_time": "2020-11-17T11:06:09.651855Z"
    }
   },
   "outputs": [
    {
     "data": {
      "text/plain": [
       "215"
      ]
     },
     "execution_count": 168,
     "metadata": {},
     "output_type": "execute_result"
    }
   ],
   "source": [
    "len(cut_words)"
   ]
  },
  {
   "cell_type": "code",
   "execution_count": 162,
   "metadata": {
    "ExecuteTime": {
     "end_time": "2020-11-17T09:12:20.548385Z",
     "start_time": "2020-11-17T09:12:20.538387Z"
    },
    "collapsed": true
   },
   "outputs": [
    {
     "data": {
      "text/plain": [
       "['v',\n",
       " 'm',\n",
       " 'q',\n",
       " 'n',\n",
       " 'wp',\n",
       " 'nd',\n",
       " 'v',\n",
       " 'v',\n",
       " 'j',\n",
       " 'v',\n",
       " 'v',\n",
       " 'd',\n",
       " 'a',\n",
       " 'wp',\n",
       " 'ns',\n",
       " 'n',\n",
       " 'd',\n",
       " 'a',\n",
       " 'wp',\n",
       " 'ns',\n",
       " 'n',\n",
       " 'c',\n",
       " 'v',\n",
       " 'a',\n",
       " 'wp',\n",
       " 'n',\n",
       " 'v',\n",
       " 'd',\n",
       " 'v',\n",
       " 'v',\n",
       " 'n',\n",
       " 'wp',\n",
       " 'n',\n",
       " 'm',\n",
       " 'n',\n",
       " 'ns',\n",
       " 'n',\n",
       " 'n',\n",
       " 'r',\n",
       " 'n',\n",
       " 'c',\n",
       " 'v',\n",
       " 'v',\n",
       " 'u',\n",
       " 'n',\n",
       " 'v',\n",
       " 'v',\n",
       " 'r',\n",
       " 'wp',\n",
       " 'n',\n",
       " 'n',\n",
       " 'v',\n",
       " 'm',\n",
       " 'wp',\n",
       " 'v',\n",
       " 'wp',\n",
       " 'r',\n",
       " 'v',\n",
       " 'd',\n",
       " 'm',\n",
       " 'q',\n",
       " 'r',\n",
       " 'n',\n",
       " 'd',\n",
       " 'v',\n",
       " 'v',\n",
       " 'm',\n",
       " 'q',\n",
       " 'wp',\n",
       " 'd',\n",
       " 'm',\n",
       " 'q',\n",
       " 'n',\n",
       " 'wp',\n",
       " 'wp',\n",
       " 'r',\n",
       " 'd',\n",
       " 'v',\n",
       " 'n',\n",
       " 'nd',\n",
       " 'n',\n",
       " 'wp',\n",
       " 'n',\n",
       " 'wp',\n",
       " 'v',\n",
       " 'wp',\n",
       " 'p',\n",
       " 'nt',\n",
       " 'u',\n",
       " 'ws',\n",
       " 'u',\n",
       " 'wp',\n",
       " 'r',\n",
       " 'm',\n",
       " 'q',\n",
       " 'd',\n",
       " 'a',\n",
       " 'wp',\n",
       " 'c',\n",
       " 'r',\n",
       " 'v',\n",
       " 'n',\n",
       " 'n',\n",
       " 'u',\n",
       " 'v',\n",
       " 'wp',\n",
       " 'v',\n",
       " 'ws',\n",
       " 'd',\n",
       " 'v',\n",
       " 'n',\n",
       " 'n',\n",
       " 'u',\n",
       " 'n',\n",
       " 'wp',\n",
       " 'p',\n",
       " 'ns',\n",
       " 'd',\n",
       " 'v',\n",
       " 'b',\n",
       " 'u',\n",
       " 'n',\n",
       " 'wp',\n",
       " 'nt',\n",
       " 'wp',\n",
       " 'nl',\n",
       " 'd',\n",
       " 'a',\n",
       " 'n',\n",
       " 'n',\n",
       " 'r',\n",
       " 'u',\n",
       " 'j',\n",
       " 'a',\n",
       " 'v',\n",
       " 'u',\n",
       " 'r',\n",
       " 'n',\n",
       " 'n',\n",
       " 'a',\n",
       " 'n',\n",
       " 'wp',\n",
       " 'p',\n",
       " 'n',\n",
       " 'n',\n",
       " 'nd',\n",
       " 'wp',\n",
       " 'p',\n",
       " 'nt',\n",
       " 'nd',\n",
       " 'wp',\n",
       " 'c',\n",
       " 'v',\n",
       " 'nl',\n",
       " 'm',\n",
       " 'n',\n",
       " 'wp',\n",
       " 'v',\n",
       " 'r',\n",
       " 'wp',\n",
       " 'nt',\n",
       " 'n',\n",
       " 'n',\n",
       " 'wp',\n",
       " 'n',\n",
       " 'wp',\n",
       " 'v',\n",
       " 'wp',\n",
       " 'p',\n",
       " 'ns',\n",
       " 'wp',\n",
       " 'c',\n",
       " 'v',\n",
       " 'ns',\n",
       " 'nd',\n",
       " 'wp',\n",
       " 'v',\n",
       " 'wp',\n",
       " 'b',\n",
       " 'n',\n",
       " 'a',\n",
       " 'v',\n",
       " 'n',\n",
       " 'wp',\n",
       " 'i',\n",
       " 'n',\n",
       " 'wp',\n",
       " 'u',\n",
       " 'n',\n",
       " 'wp',\n",
       " 'n',\n",
       " 'd',\n",
       " 'p',\n",
       " 'n',\n",
       " 'u',\n",
       " 'v',\n",
       " 'nd',\n",
       " 'd',\n",
       " 'v',\n",
       " 'nh',\n",
       " 'u',\n",
       " 'n',\n",
       " 'n',\n",
       " 'c',\n",
       " 'n',\n",
       " 'wp',\n",
       " 'd',\n",
       " 'a',\n",
       " 'u',\n",
       " 'n',\n",
       " 'v',\n",
       " 'a',\n",
       " 'u',\n",
       " 'v',\n",
       " 'wp']"
      ]
     },
     "execution_count": 162,
     "metadata": {},
     "output_type": "execute_result"
    }
   ],
   "source": [
    "list(postags)"
   ]
  },
  {
   "cell_type": "code",
   "execution_count": 166,
   "metadata": {
    "ExecuteTime": {
     "end_time": "2020-11-17T11:05:35.125660Z",
     "start_time": "2020-11-17T11:05:35.118631Z"
    }
   },
   "outputs": [
    {
     "data": {
      "text/plain": [
       "215"
      ]
     },
     "execution_count": 166,
     "metadata": {},
     "output_type": "execute_result"
    }
   ],
   "source": [
    "len(postags)"
   ]
  },
  {
   "cell_type": "code",
   "execution_count": 163,
   "metadata": {
    "ExecuteTime": {
     "end_time": "2020-11-17T09:12:34.028413Z",
     "start_time": "2020-11-17T09:12:34.018378Z"
    },
    "collapsed": true
   },
   "outputs": [
    {
     "data": {
      "text/plain": [
       "['O',\n",
       " 'O',\n",
       " 'O',\n",
       " 'O',\n",
       " 'O',\n",
       " 'O',\n",
       " 'O',\n",
       " 'O',\n",
       " 'O',\n",
       " 'O',\n",
       " 'O',\n",
       " 'O',\n",
       " 'O',\n",
       " 'O',\n",
       " 'B-Ni',\n",
       " 'E-Ni',\n",
       " 'O',\n",
       " 'O',\n",
       " 'O',\n",
       " 'B-Ni',\n",
       " 'E-Ni',\n",
       " 'O',\n",
       " 'O',\n",
       " 'O',\n",
       " 'O',\n",
       " 'O',\n",
       " 'O',\n",
       " 'O',\n",
       " 'O',\n",
       " 'O',\n",
       " 'O',\n",
       " 'O',\n",
       " 'O',\n",
       " 'O',\n",
       " 'O',\n",
       " 'S-Ns',\n",
       " 'O',\n",
       " 'O',\n",
       " 'O',\n",
       " 'O',\n",
       " 'O',\n",
       " 'O',\n",
       " 'O',\n",
       " 'O',\n",
       " 'O',\n",
       " 'O',\n",
       " 'O',\n",
       " 'O',\n",
       " 'O',\n",
       " 'O',\n",
       " 'O',\n",
       " 'O',\n",
       " 'O',\n",
       " 'O',\n",
       " 'O',\n",
       " 'O',\n",
       " 'O',\n",
       " 'O',\n",
       " 'O',\n",
       " 'O',\n",
       " 'O',\n",
       " 'O',\n",
       " 'O',\n",
       " 'O',\n",
       " 'O',\n",
       " 'O',\n",
       " 'O',\n",
       " 'O',\n",
       " 'O',\n",
       " 'O',\n",
       " 'O',\n",
       " 'O',\n",
       " 'O',\n",
       " 'O',\n",
       " 'O',\n",
       " 'O',\n",
       " 'O',\n",
       " 'O',\n",
       " 'O',\n",
       " 'O',\n",
       " 'O',\n",
       " 'O',\n",
       " 'O',\n",
       " 'O',\n",
       " 'O',\n",
       " 'O',\n",
       " 'O',\n",
       " 'O',\n",
       " 'O',\n",
       " 'O',\n",
       " 'O',\n",
       " 'O',\n",
       " 'O',\n",
       " 'O',\n",
       " 'O',\n",
       " 'O',\n",
       " 'O',\n",
       " 'O',\n",
       " 'O',\n",
       " 'O',\n",
       " 'O',\n",
       " 'O',\n",
       " 'O',\n",
       " 'O',\n",
       " 'O',\n",
       " 'O',\n",
       " 'O',\n",
       " 'O',\n",
       " 'O',\n",
       " 'O',\n",
       " 'O',\n",
       " 'O',\n",
       " 'O',\n",
       " 'O',\n",
       " 'O',\n",
       " 'O',\n",
       " 'S-Ns',\n",
       " 'O',\n",
       " 'O',\n",
       " 'O',\n",
       " 'O',\n",
       " 'O',\n",
       " 'O',\n",
       " 'O',\n",
       " 'O',\n",
       " 'O',\n",
       " 'O',\n",
       " 'O',\n",
       " 'O',\n",
       " 'O',\n",
       " 'O',\n",
       " 'O',\n",
       " 'O',\n",
       " 'O',\n",
       " 'O',\n",
       " 'O',\n",
       " 'O',\n",
       " 'O',\n",
       " 'O',\n",
       " 'O',\n",
       " 'O',\n",
       " 'O',\n",
       " 'O',\n",
       " 'O',\n",
       " 'O',\n",
       " 'O',\n",
       " 'O',\n",
       " 'O',\n",
       " 'O',\n",
       " 'O',\n",
       " 'O',\n",
       " 'O',\n",
       " 'O',\n",
       " 'O',\n",
       " 'O',\n",
       " 'O',\n",
       " 'O',\n",
       " 'O',\n",
       " 'O',\n",
       " 'O',\n",
       " 'O',\n",
       " 'O',\n",
       " 'O',\n",
       " 'O',\n",
       " 'O',\n",
       " 'O',\n",
       " 'O',\n",
       " 'O',\n",
       " 'O',\n",
       " 'S-Ns',\n",
       " 'O',\n",
       " 'O',\n",
       " 'O',\n",
       " 'S-Ns',\n",
       " 'O',\n",
       " 'O',\n",
       " 'O',\n",
       " 'O',\n",
       " 'O',\n",
       " 'O',\n",
       " 'O',\n",
       " 'O',\n",
       " 'O',\n",
       " 'O',\n",
       " 'O',\n",
       " 'O',\n",
       " 'O',\n",
       " 'O',\n",
       " 'O',\n",
       " 'O',\n",
       " 'O',\n",
       " 'O',\n",
       " 'O',\n",
       " 'O',\n",
       " 'O',\n",
       " 'O',\n",
       " 'O',\n",
       " 'O',\n",
       " 'O',\n",
       " 'S-Nh',\n",
       " 'O',\n",
       " 'O',\n",
       " 'O',\n",
       " 'O',\n",
       " 'O',\n",
       " 'O',\n",
       " 'O',\n",
       " 'O',\n",
       " 'O',\n",
       " 'O',\n",
       " 'O',\n",
       " 'O',\n",
       " 'O',\n",
       " 'O',\n",
       " 'O']"
      ]
     },
     "execution_count": 163,
     "metadata": {},
     "output_type": "execute_result"
    }
   ],
   "source": [
    "list(netags)"
   ]
  },
  {
   "cell_type": "code",
   "execution_count": 167,
   "metadata": {
    "ExecuteTime": {
     "end_time": "2020-11-17T11:05:52.440765Z",
     "start_time": "2020-11-17T11:05:52.428764Z"
    }
   },
   "outputs": [
    {
     "data": {
      "text/plain": [
       "215"
      ]
     },
     "execution_count": 167,
     "metadata": {},
     "output_type": "execute_result"
    }
   ],
   "source": [
    "len(netags)"
   ]
  },
  {
   "cell_type": "markdown",
   "metadata": {},
   "source": [
    "### 数据划分"
   ]
  },
  {
   "cell_type": "code",
   "execution_count": 151,
   "metadata": {
    "ExecuteTime": {
     "end_time": "2020-11-17T09:05:13.413714Z",
     "start_time": "2020-11-17T09:05:13.386745Z"
    }
   },
   "outputs": [
    {
     "data": {
      "text/plain": [
       "[(84, '实', 'O'),\n",
       " (84, '录', 'O'),\n",
       " (84, '：', 'O'),\n",
       " (84, '丽', 'B_address'),\n",
       " (84, '泽', 'I_address'),\n",
       " (84, '金', 'I_address'),\n",
       " (84, '融', 'I_address'),\n",
       " (84, '商', 'I_address'),\n",
       " (84, '务', 'I_address'),\n",
       " (84, '区', 'E_address'),\n",
       " (84, '发', 'O'),\n",
       " (84, '展', 'O'),\n",
       " (84, '高', 'O'),\n",
       " (84, '峰', 'O'),\n",
       " (84, '论', 'O'),\n",
       " (84, '坛', 'O'),\n",
       " (84, '（', 'O'),\n",
       " (84, '组', 'O'),\n",
       " (84, '图', 'O'),\n",
       " (84, '）', 'O'),\n",
       " (84, '也', 'O'),\n",
       " (84, '不', 'O'),\n",
       " (84, '曾', 'O'),\n",
       " (84, '看', 'O'),\n",
       " (84, '到', 'O'),\n",
       " (84, '这', 'O'),\n",
       " (84, '两', 'O'),\n",
       " (84, '家', 'O'),\n",
       " (84, '网', 'O'),\n",
       " (84, '站', 'O'),\n",
       " (84, '提', 'O'),\n",
       " (84, '起', 'O'),\n",
       " (84, '过', 'O'),\n",
       " (84, '，', 'O'),\n",
       " (84, '因', 'O'),\n",
       " (84, '此', 'O'),\n",
       " (84, '我', 'O'),\n",
       " (84, '们', 'O'),\n",
       " (84, '可', 'O'),\n",
       " (84, '以', 'O'),\n",
       " (84, '断', 'O'),\n",
       " (84, '定', 'O'),\n",
       " (84, '这', 'O'),\n",
       " (84, '个', 'O'),\n",
       " (84, '倒', 'O'),\n",
       " (84, '计', 'O'),\n",
       " (84, '时', 'O'),\n",
       " (84, '一', 'O'),\n",
       " (84, '定', 'O'),\n",
       " (84, '是', 'O'),\n",
       " (84, '与', 'O'),\n",
       " (84, '《', 'B_game'),\n",
       " (84, '星', 'I_game'),\n",
       " (84, '际', 'I_game'),\n",
       " (84, '争', 'I_game'),\n",
       " (84, '霸', 'I_game'),\n",
       " (84, '2', 'I_game'),\n",
       " (84, '》', 'E_game'),\n",
       " (84, '有', 'O'),\n",
       " (84, '关', 'O'),\n",
       " (84, '的', 'O'),\n",
       " (84, '。', 'O'),\n",
       " (84, '显', 'O'),\n",
       " (84, '然', 'O'),\n",
       " (84, '《', 'O'),\n",
       " (84, '梦', 'B_game'),\n",
       " (84, '幻', 'I_game'),\n",
       " (84, '西', 'I_game'),\n",
       " (84, '游', 'E_game'),\n",
       " (84, '三', 'O'),\n",
       " (84, '全', 'O'),\n",
       " (84, '部', 'O'),\n",
       " (84, '直', 'O'),\n",
       " (84, '播', 'O'),\n",
       " (84, '说', 'O'),\n",
       " (84, '学', 'O'),\n",
       " (84, '逗', 'O'),\n",
       " (84, '唱', 'O'),\n",
       " (84, '颜', 'O'),\n",
       " (84, '值', 'O'),\n",
       " (84, '爆', 'O'),\n",
       " (84, '表', 'O'),\n",
       " (84, '打', 'O'),\n",
       " (84, '书', 'O'),\n",
       " (84, '火', 'O'),\n",
       " (84, '颜', 'O'),\n",
       " (84, '值', 'O'),\n",
       " (84, '主', 'B_position'),\n",
       " (84, '播', 'E_position'),\n",
       " (84, '换', 'O'),\n",
       " (84, '一', 'O'),\n",
       " (84, '批', 'O'),\n",
       " (84, '娱', 'O'),\n",
       " (84, '乐', 'O'),\n",
       " (84, '星', 'O'),\n",
       " (84, '秀', 'O'),\n",
       " (84, '天', 'O'),\n",
       " (84, '生', 'O'),\n",
       " (84, '尤', 'O'),\n",
       " (84, '物', 'O'),\n",
       " (84, '-', 'O'),\n",
       " (84, '1', 'O'),\n",
       " (84, '6', 'O'),\n",
       " (84, '6', 'O'),\n",
       " (84, '6', 'O'),\n",
       " (84, '-', 'O'),\n",
       " (84, '藏', 'O'),\n",
       " (84, '家', 'O'),\n",
       " (84, '开', 'O'),\n",
       " (84, '始', 'O'),\n",
       " (84, '热', 'O'),\n",
       " (84, '切', 'O'),\n",
       " (84, '收', 'O'),\n",
       " (84, '藏', 'O'),\n",
       " (84, '她', 'O'),\n",
       " (84, '的', 'O'),\n",
       " (84, '作', 'O'),\n",
       " (84, '品', 'O'),\n",
       " (84, '。', 'O'),\n",
       " (84, 'm', 'B_scene'),\n",
       " (84, 'o', 'I_scene'),\n",
       " (84, 'm', 'I_scene'),\n",
       " (84, 'a', 'E_scene'),\n",
       " (84, '、', 'O'),\n",
       " (84, '泰', 'B_scene'),\n",
       " (84, '特', 'I_scene'),\n",
       " (84, '现', 'I_scene'),\n",
       " (84, '代', 'E_scene'),\n",
       " (84, '、', 'O'),\n",
       " (84, '赫', 'B_scene'),\n",
       " (84, '什', 'I_scene'),\n",
       " (84, '霍', 'I_scene'),\n",
       " (84, '恩', 'I_scene'),\n",
       " (84, '博', 'I_scene'),\n",
       " (84, '物', 'I_scene'),\n",
       " (84, '馆', 'E_scene'),\n",
       " (84, '也', 'O'),\n",
       " (84, '将', 'O'),\n",
       " (84, '她', 'O'),\n",
       " (84, '的', 'O'),\n",
       " (84, '作', 'O'),\n",
       " (84, '品', 'O'),\n",
       " (84, '永', 'O'),\n",
       " (84, '久', 'O'),\n",
       " (84, '收', 'O'),\n",
       " (84, '藏', 'O'),\n",
       " (84, '。', 'O'),\n",
       " (84, '2', 'O'),\n",
       " (84, '0', 'O'),\n",
       " (84, '0', 'O'),\n",
       " (84, '9', 'O'),\n",
       " (84, '年', 'O'),\n",
       " (84, '，', 'O'),\n",
       " (84, '《', 'B_game'),\n",
       " (84, '轻', 'I_game'),\n",
       " (84, '率', 'I_game'),\n",
       " (84, '漠', 'I_game'),\n",
       " (84, '视', 'I_game'),\n",
       " (84, '重', 'I_game'),\n",
       " (84, '力', 'I_game'),\n",
       " (84, '》', 'E_game'),\n",
       " (84, '体', 'O'),\n",
       " (84, '验', 'O'),\n",
       " (84, '高', 'O'),\n",
       " (84, '空', 'O'),\n",
       " (84, '坠', 'O'),\n",
       " (84, '体', 'O'),\n",
       " (84, '的', 'O'),\n",
       " (84, '刺', 'O'),\n",
       " (84, '激', 'O'),\n",
       " (84, '电', 'O'),\n",
       " (84, '影', 'O'),\n",
       " (84, '《', 'B_movie'),\n",
       " (84, '生', 'I_movie'),\n",
       " (84, '化', 'I_movie'),\n",
       " (84, '危', 'I_movie'),\n",
       " (84, '机', 'I_movie'),\n",
       " (84, '4', 'I_movie'),\n",
       " (84, '来', 'I_movie'),\n",
       " (84, '生', 'I_movie'),\n",
       " (84, '》', 'E_movie'),\n",
       " (84, '将', 'O'),\n",
       " (84, '是', 'O'),\n",
       " (84, '3', 'O'),\n",
       " (84, 'D', 'O'),\n",
       " (84, '化', 'O'),\n",
       " (84, '电', 'O'),\n",
       " (84, '影', 'O'),\n",
       " (84, '这', 'O'),\n",
       " (84, '家', 'O'),\n",
       " (84, '为', 'O'),\n",
       " (84, '下', 'O'),\n",
       " (84, '游', 'O'),\n",
       " (84, '企', 'O'),\n",
       " (84, '业', 'O'),\n",
       " (84, '大', 'O'),\n",
       " (84, '量', 'O'),\n",
       " (84, '提', 'O'),\n",
       " (84, '供', 'O'),\n",
       " (84, '原', 'O'),\n",
       " (84, '料', 'O'),\n",
       " (84, '的', 'O'),\n",
       " (84, '贸', 'O'),\n",
       " (84, '易', 'O'),\n",
       " (84, '公', 'O'),\n",
       " (84, '司', 'O'),\n",
       " (84, '，', 'O'),\n",
       " (84, '目', 'O'),\n",
       " (84, '前', 'O'),\n",
       " (84, '为', 'O'),\n",
       " (84, '止', 'O'),\n",
       " (84, '还', 'O'),\n",
       " (84, '没', 'O'),\n",
       " (84, '有', 'O'),\n",
       " (84, '下', 'O'),\n",
       " (84, '单', 'O'),\n",
       " (84, '，', 'O'),\n",
       " (84, '对', 'O'),\n",
       " (84, '于', 'O'),\n",
       " (84, '新', 'O'),\n",
       " (84, '年', 'O'),\n",
       " (84, '度', 'O'),\n",
       " (84, '的', 'O'),\n",
       " (84, '市', 'O'),\n",
       " (84, '场', 'O'),\n",
       " (84, '判', 'O'),\n",
       " (84, '断', 'O'),\n",
       " (84, '，', 'O'),\n",
       " (84, '边', 'B_name'),\n",
       " (84, '春', 'I_name'),\n",
       " (84, '和', 'E_name'),\n",
       " (84, '的', 'O'),\n",
       " (84, '回', 'O'),\n",
       " (84, '答', 'O'),\n",
       " (84, '是', 'O'),\n",
       " (84, '“', 'O'),\n",
       " (84, '爱', 'B_movie'),\n",
       " (84, '情', 'I_movie'),\n",
       " (84, '左', 'I_movie'),\n",
       " (84, '灯', 'I_movie'),\n",
       " (84, '右', 'I_movie'),\n",
       " (84, '行', 'I_movie'),\n",
       " (84, '》', 'E_movie'),\n",
       " (84, '的', 'O'),\n",
       " (84, '制', 'B_position'),\n",
       " (84, '片', 'I_position'),\n",
       " (84, '人', 'E_position'),\n",
       " (84, '孙', 'B_name'),\n",
       " (84, '健', 'I_name'),\n",
       " (84, '君', 'E_name'),\n",
       " (84, '一', 'O'),\n",
       " (84, '边', 'O'),\n",
       " (84, '祝', 'O'),\n",
       " (84, '贺', 'O'),\n",
       " (84, '陆', 'B_name'),\n",
       " (84, '毅', 'E_name'),\n",
       " (84, '一', 'O'),\n",
       " (84, '边', 'O'),\n",
       " (84, '开', 'O'),\n",
       " (84, '玩', 'O'),\n",
       " (84, '笑', 'O'),\n",
       " (84, '道', 'O'),\n",
       " (84, '：', 'O'),\n",
       " (84, '“', 'O'),\n",
       " (84, '电', 'O'),\n",
       " (84, '影', 'O'),\n",
       " (84, '还', 'O'),\n",
       " (84, '没', 'O'),\n",
       " (84, '上', 'O'),\n",
       " (84, '映', 'O'),\n",
       " (84, '，', 'O'),\n",
       " (84, '上', 'O'),\n",
       " (84, '期', 'O'),\n",
       " (84, '小', 'O'),\n",
       " (84, '单', 'O'),\n",
       " (84, '中', 'O'),\n",
       " (84, '二', 'O'),\n",
       " (84, '等', 'O'),\n",
       " (84, '奖', 'O'),\n",
       " (84, '：', 'O'),\n",
       " (84, '陆', 'B_name'),\n",
       " (84, '慧', 'I_name'),\n",
       " (84, '明', 'E_name'),\n",
       " (84, '必', 'O'),\n",
       " (84, '发', 'O'),\n",
       " (84, '火', 'O'),\n",
       " (84, '线', 'O'),\n",
       " (84, '：', 'O'),\n",
       " (84, '皇', 'B_organization'),\n",
       " (84, '马', 'E_organization'),\n",
       " (84, '建', 'O'),\n",
       " (84, '议', 'O'),\n",
       " (84, '防', 'O'),\n",
       " (84, '平', 'O'),\n",
       " (84, '佛', 'B_organization'),\n",
       " (84, '罗', 'I_organization'),\n",
       " (84, '伦', 'I_organization'),\n",
       " (84, '萨', 'E_organization'),\n",
       " (84, '分', 'O'),\n",
       " (84, '心', 'O'),\n",
       " (84, '欧', 'O'),\n",
       " (84, '战', 'O'),\n",
       " (84, '首', 'O'),\n",
       " (84, '先', 'O'),\n",
       " (84, '解', 'O'),\n",
       " (84, '答', 'O'),\n",
       " (84, '许', 'O'),\n",
       " (84, '多', 'O'),\n",
       " (84, '热', 'O'),\n",
       " (84, '心', 'O'),\n",
       " (84, '朋', 'O'),\n",
       " (84, '友', 'O'),\n",
       " (84, '的', 'O'),\n",
       " (84, '疑', 'O'),\n",
       " (84, '问', 'O'),\n",
       " (84, '：', 'O'),\n",
       " (84, '《', 'B_movie'),\n",
       " (84, '潜', 'I_movie'),\n",
       " (84, '水', 'I_movie'),\n",
       " (84, '钟', 'I_movie'),\n",
       " (84, '与', 'I_movie'),\n",
       " (84, '蝴', 'I_movie'),\n",
       " (84, '蝶', 'I_movie'),\n",
       " (84, '》', 'E_movie'),\n",
       " (84, '不', 'O'),\n",
       " (84, '会', 'O'),\n",
       " (84, '加', 'O'),\n",
       " (84, '入', 'O'),\n",
       " (84, '最', 'O'),\n",
       " (84, '佳', 'O'),\n",
       " (84, '外', 'O'),\n",
       " (84, '语', 'O'),\n",
       " (84, '片', 'O'),\n",
       " (84, '奖', 'O'),\n",
       " (84, '的', 'O'),\n",
       " (84, '竞', 'O'),\n",
       " (84, '争', 'O'),\n",
       " (84, '，', 'O'),\n",
       " (84, '跟', 'O'),\n",
       " (84, '《', 'B_movie'),\n",
       " (84, '色', 'I_movie'),\n",
       " (84, '，', 'I_movie'),\n",
       " (84, '戒', 'I_movie'),\n",
       " (84, '》', 'E_movie'),\n",
       " (84, '一', 'O'),\n",
       " (84, '样', 'O'),\n",
       " (84, '，', 'O'),\n",
       " (84, '在', 'O'),\n",
       " (84, '今', 'O'),\n",
       " (84, '天', 'O'),\n",
       " (84, '文', 'O'),\n",
       " (84, '化', 'O'),\n",
       " (84, '产', 'O'),\n",
       " (84, '业', 'O'),\n",
       " (84, '发', 'O'),\n",
       " (84, '展', 'O'),\n",
       " (84, '的', 'O'),\n",
       " (84, '国', 'O'),\n",
       " (84, '策', 'O'),\n",
       " (84, '，', 'O'),\n",
       " (84, '我', 'O'),\n",
       " (84, '相', 'O'),\n",
       " (84, '信', 'O'),\n",
       " (84, '也', 'O'),\n",
       " (84, '会', 'O'),\n",
       " (84, '有', 'O'),\n",
       " (84, '一', 'O'),\n",
       " (84, '批', 'O'),\n",
       " (84, '新', 'O'),\n",
       " (84, '的', 'O'),\n",
       " (84, '艺', 'B_position'),\n",
       " (84, '术', 'I_position'),\n",
       " (84, '家', 'E_position'),\n",
       " (84, '不', 'O'),\n",
       " (84, '断', 'O'),\n",
       " (84, '出', 'O'),\n",
       " (84, '来', 'O'),\n",
       " (84, '。', 'O')]"
      ]
     },
     "execution_count": 151,
     "metadata": {},
     "output_type": "execute_result"
    }
   ],
   "source": [
    "list_BIOES_train[1]"
   ]
  },
  {
   "cell_type": "code",
   "execution_count": 27,
   "metadata": {
    "ExecuteTime": {
     "end_time": "2020-11-23T15:21:32.673826Z",
     "start_time": "2020-11-23T15:21:32.660810Z"
    }
   },
   "outputs": [],
   "source": [
    "train_data_01, test_data_01 = list_BIOES_train[:int(0.8 * len(list_BIOES_train))], list_BIOES_train[int(0.8 * len(list_BIOES_train)):]"
   ]
  },
  {
   "cell_type": "code",
   "execution_count": 147,
   "metadata": {
    "ExecuteTime": {
     "end_time": "2020-11-17T08:08:59.847558Z",
     "start_time": "2020-11-17T08:08:59.835560Z"
    }
   },
   "outputs": [
    {
     "data": {
      "text/plain": [
       "503"
      ]
     },
     "execution_count": 147,
     "metadata": {},
     "output_type": "execute_result"
    }
   ],
   "source": [
    "len(test_data_01)"
   ]
  },
  {
   "cell_type": "code",
   "execution_count": 148,
   "metadata": {
    "ExecuteTime": {
     "end_time": "2020-11-17T08:09:01.834350Z",
     "start_time": "2020-11-17T08:09:01.822317Z"
    },
    "scrolled": true
   },
   "outputs": [
    {
     "data": {
      "text/plain": [
       "2012"
      ]
     },
     "execution_count": 148,
     "metadata": {},
     "output_type": "execute_result"
    }
   ],
   "source": [
    "len(train_data_01)"
   ]
  },
  {
   "cell_type": "markdown",
   "metadata": {},
   "source": [
    "### 特征生成"
   ]
  },
  {
   "cell_type": "code",
   "execution_count": 165,
   "metadata": {
    "ExecuteTime": {
     "end_time": "2020-11-17T10:54:21.388332Z",
     "start_time": "2020-11-17T10:54:21.369337Z"
    }
   },
   "outputs": [
    {
     "data": {
      "text/html": [
       "<div>\n",
       "<style scoped>\n",
       "    .dataframe tbody tr th:only-of-type {\n",
       "        vertical-align: middle;\n",
       "    }\n",
       "\n",
       "    .dataframe tbody tr th {\n",
       "        vertical-align: top;\n",
       "    }\n",
       "\n",
       "    .dataframe thead th {\n",
       "        text-align: right;\n",
       "    }\n",
       "</style>\n",
       "<table border=\"1\" class=\"dataframe\">\n",
       "  <thead>\n",
       "    <tr style=\"text-align: right;\">\n",
       "      <th></th>\n",
       "      <th>ID</th>\n",
       "      <th>data</th>\n",
       "    </tr>\n",
       "  </thead>\n",
       "  <tbody>\n",
       "    <tr>\n",
       "      <th>454</th>\n",
       "      <td>10</td>\n",
       "      <td>网络版《大航海时代online》与2004年登场于pc，资料片“南十字星”更新后，“最关键的...</td>\n",
       "    </tr>\n",
       "  </tbody>\n",
       "</table>\n",
       "</div>"
      ],
      "text/plain": [
       "     ID                                               data\n",
       "454  10  网络版《大航海时代online》与2004年登场于pc，资料片“南十字星”更新后，“最关键的..."
      ]
     },
     "execution_count": 165,
     "metadata": {},
     "output_type": "execute_result"
    }
   ],
   "source": [
    "df_train[df_train['ID']=='10']"
   ]
  },
  {
   "cell_type": "code",
   "execution_count": 28,
   "metadata": {
    "ExecuteTime": {
     "end_time": "2020-11-23T15:21:56.478947Z",
     "start_time": "2020-11-23T15:21:54.920437Z"
    }
   },
   "outputs": [],
   "source": [
    "ltp = Ltp(pos=True, ner=True, parse=True)\n",
    "\n",
    "# string = df_train[df_train['ID']==idx]\n",
    "\n",
    "def get_other_features(string):\n",
    "    \"对文本进行第三方工具的分词\"\n",
    "    pos_list = []\n",
    "    ner_list = []\n",
    "    \n",
    "    cut_words = list(ltp.segmentor.segment(string))\n",
    "    postags = list(ltp.postagger.postag(cut_words))\n",
    "    netags = list(ltp.ner.recognize(cut_words, postags))\n",
    "    \n",
    "    for word, pos, ne in zip(cut_words, postags, netags):\n",
    "        if len(word) > 1:\n",
    "            for w in word:\n",
    "                pos_list.append(pos)\n",
    "                ner_list.append(ne)\n",
    "        else:\n",
    "            pos_list.append(pos)\n",
    "            ner_list.append(ne)\n",
    "    \n",
    "    return pos_list, ner_list"
   ]
  },
  {
   "cell_type": "code",
   "execution_count": 176,
   "metadata": {
    "ExecuteTime": {
     "end_time": "2020-11-17T11:14:31.360978Z",
     "start_time": "2020-11-17T11:14:31.349017Z"
    }
   },
   "outputs": [],
   "source": [
    "pos_list, ner_list = get_other_features(df_train[df_train['ID']==\"12\"].data.values[0])"
   ]
  },
  {
   "cell_type": "code",
   "execution_count": null,
   "metadata": {},
   "outputs": [],
   "source": []
  },
  {
   "cell_type": "code",
   "execution_count": 30,
   "metadata": {
    "ExecuteTime": {
     "end_time": "2020-11-23T15:32:04.080428Z",
     "start_time": "2020-11-23T15:32:04.052460Z"
    }
   },
   "outputs": [],
   "source": [
    "def word2features(sent, i):\n",
    "    \"sent每一行为： (id, word, tag), pos, ne_of_ltp\"\n",
    "    word = sent[i][0][1]\n",
    "    pos = sent[i][1]\n",
    "    ne = sent[i][2]\n",
    "    \n",
    "    features = {\n",
    "        'bias': 1.0,\n",
    "        'word': word,\n",
    "        'word.isdigit()': word.isdigit(),\n",
    "        'word.istitle()': word.istitle(),\n",
    "        'word.lower()': word.lower(),\n",
    "        'pos': pos,\n",
    "        'pos[:1]': pos[:1],\n",
    "        'ne': ne,\n",
    "        'ne[:1]': ne[:1]\n",
    "    }\n",
    "    \n",
    "    if i > 0:\n",
    "        word = sent[i-1][0][1]\n",
    "        pos = sent[i-1][1]\n",
    "        ne = sent[i-1][2]\n",
    "        features.update({\n",
    "            '-1:word': word,\n",
    "            '-1:word.lower()': word.lower(),\n",
    "            '-1:word.istitle()': word.istitle(),\n",
    "            '-1:pos': pos,\n",
    "            '-1:pos[:1]': pos[:1],\n",
    "            '-1:ne': ne,\n",
    "            '-1:ne[:1]': ne[:1]\n",
    "        })\n",
    "    else:\n",
    "        features['BOS'] = True\n",
    "\n",
    "    if i > 1:\n",
    "        word = sent[i-2][0][1]\n",
    "        pos = sent[i-2][1]\n",
    "        ne = sent[i-2][2]\n",
    "        features.update({\n",
    "            '-2:word': word,\n",
    "            '-2:word.lower()': word.lower(),\n",
    "            '-2:word.istitle()': word.istitle(),\n",
    "            '-2:pos': pos,\n",
    "            '-2:pos[:1]': pos[:1],\n",
    "            '-2:ne': ne,\n",
    "            '-2:ne[:1]': ne[:1]\n",
    "        })\n",
    "    else:\n",
    "        features['BOS'] = True\n",
    "        \n",
    "    if i > 2:\n",
    "        word = sent[i-3][0][1]\n",
    "        pos = sent[i-3][1]\n",
    "        ne = sent[i-3][2]\n",
    "        features.update({\n",
    "            '-3:word': word,\n",
    "            '-3:word.lower()': word.lower(),\n",
    "            '-3:word.istitle()': word.istitle(),\n",
    "            '-3:pos': pos,\n",
    "            '-3:pos[:1]': pos[:1],\n",
    "            '-3:ne': ne,\n",
    "            '-3:ne[:1]': ne[:1]\n",
    "        })\n",
    "    else:\n",
    "        features['BOS'] = True\n",
    "        \n",
    "    if i > 3:\n",
    "        word = sent[i-4][0][1]\n",
    "        pos = sent[i-4][1]\n",
    "        ne = sent[i-4][2]\n",
    "        features.update({\n",
    "            '-4:word': word,\n",
    "            '-4:word.lower()': word.lower(),\n",
    "            '-4:word.istitle()': word.istitle(),\n",
    "            '-4:pos': pos,\n",
    "            '-4:pos[:1]': pos[:1],\n",
    "            '-4:ne': ne,\n",
    "            '-4:ne[:1]': ne[:1]\n",
    "        })\n",
    "    else:\n",
    "        features['BOS'] = True\n",
    "    \n",
    "    if i < len(sent)-1:\n",
    "        word = sent[i+1][0][1]\n",
    "        pos = sent[i+1][1]\n",
    "        ne = sent[i+1][2]\n",
    "        features.update({\n",
    "            '+1:word': word,\n",
    "            '+1:word.lower()': word.lower(),\n",
    "            '+1:word.istitle()': word.istitle(),\n",
    "            '+1:pos': pos,\n",
    "            '+1:pos[:1]': pos[:1],\n",
    "            '+1:ne': ne,\n",
    "            '+1:ne[:1]': ne[:1]\n",
    "        })\n",
    "    else:\n",
    "        features['EOS'] = True\n",
    "\n",
    "    if i < len(sent)-2:\n",
    "        word = sent[i+2][0][1]\n",
    "        pos = sent[i+2][1]\n",
    "        ne = sent[i+2][2]\n",
    "        features.update({\n",
    "            '+2:word': word,\n",
    "            '+2:word.lower()': word.lower(),\n",
    "            '+2:word.istitle()': word.istitle(),\n",
    "            '+2:pos': pos,\n",
    "            '+2:pos[:1]': pos[:1],\n",
    "            '+2:ne': ne,\n",
    "            '+2:ne[:1]': ne[:1]\n",
    "        })\n",
    "    else:\n",
    "        features['EOS'] = True\n",
    "        \n",
    "    if i < len(sent)-3:\n",
    "        word = sent[i+3][0][1]\n",
    "        pos = sent[i+3][1]\n",
    "        ne = sent[i+3][2]\n",
    "        features.update({\n",
    "            '+3:word': word,\n",
    "            '+3:word.lower()': word.lower(),\n",
    "            '+3:word.istitle()': word.istitle(),\n",
    "            '+3:pos': pos,\n",
    "            '+3:pos[:1]': pos[:1],\n",
    "            '+3:ne': ne,\n",
    "            '+3:ne[:1]': ne[:1]\n",
    "        })\n",
    "    else:\n",
    "        features['EOS'] = True\n",
    "        \n",
    "    if i < len(sent)-4:\n",
    "        word = sent[i+4][0][1]\n",
    "        pos = sent[i+4][1]\n",
    "        ne = sent[i+4][2]\n",
    "        features.update({\n",
    "            '+4:word': word,\n",
    "            '+4:word.lower()': word.lower(),\n",
    "            '+4:word.istitle()': word.istitle(),\n",
    "            '+4:pos': pos,\n",
    "            '+4:pos[:1]': pos[:1],\n",
    "            '+4:ne': ne,\n",
    "            '+4:ne[:1]': ne[:1]\n",
    "        })\n",
    "    else:\n",
    "        features['EOS'] = True\n",
    "        \n",
    "    return features"
   ]
  },
  {
   "cell_type": "code",
   "execution_count": 31,
   "metadata": {
    "ExecuteTime": {
     "end_time": "2020-11-23T15:32:21.710158Z",
     "start_time": "2020-11-23T15:32:21.696123Z"
    }
   },
   "outputs": [],
   "source": [
    "wronglist = []"
   ]
  },
  {
   "cell_type": "code",
   "execution_count": 32,
   "metadata": {
    "ExecuteTime": {
     "end_time": "2020-11-23T15:32:24.481508Z",
     "start_time": "2020-11-23T15:32:24.473532Z"
    }
   },
   "outputs": [],
   "source": [
    "def sent2features(sent):\n",
    "    idx = sent[0][0]\n",
    "    pos_list, ner_list = get_other_features(df_train[df_train['ID']==str(idx)].data.values[0])\n",
    "    # 检查\n",
    "    if (len(sent) != len(pos_list) or len(pos_list) != len(ner_list) or len(sent) != len(ner_list)):\n",
    "        print(len(sent))\n",
    "        print(len(pos_list))\n",
    "        print(len(ner_list))\n",
    "        print(idx)\n",
    "        wronglist.append(str(idx))\n",
    "        print(\"========\")\n",
    "    \n",
    "    sent = list(zip(sent, pos_list, ner_list))\n",
    "    return [word2features(sent, i) for i in range(len(sent))]\n",
    "\n",
    "def sent2labels(sent):\n",
    "    return [label for ID, token, label in sent]\n",
    "\n",
    "def sent2tokens(sent):\n",
    "    return [token for ID, token, label in sent]"
   ]
  },
  {
   "cell_type": "code",
   "execution_count": 33,
   "metadata": {
    "ExecuteTime": {
     "end_time": "2020-11-23T15:32:48.866393Z",
     "start_time": "2020-11-23T15:32:33.719333Z"
    }
   },
   "outputs": [
    {
     "name": "stdout",
     "output_type": "stream",
     "text": [
      "107\n",
      "105\n",
      "105\n",
      "2306\n",
      "========\n",
      "74\n",
      "70\n",
      "70\n",
      "672\n",
      "========\n",
      "86\n",
      "85\n",
      "85\n",
      "1026\n",
      "========\n",
      "95\n",
      "94\n",
      "94\n",
      "46\n",
      "========\n",
      "95\n",
      "94\n",
      "94\n",
      "655\n",
      "========\n",
      "75\n",
      "74\n",
      "74\n",
      "57\n",
      "========\n",
      "Wall time: 15.1 s\n"
     ]
    }
   ],
   "source": [
    "%%time\n",
    "X_train = [sent2features(s) for s in train_data_01]\n",
    "y_train = [sent2labels(s) for s in train_data_01]\n",
    "\n",
    "X_test = [sent2features(s) for s in test_data_01]\n",
    "y_test = [sent2labels(s) for s in test_data_01]"
   ]
  },
  {
   "cell_type": "code",
   "execution_count": 34,
   "metadata": {
    "ExecuteTime": {
     "end_time": "2020-11-23T15:32:55.281361Z",
     "start_time": "2020-11-23T15:32:55.269364Z"
    }
   },
   "outputs": [
    {
     "data": {
      "text/plain": [
       "['2306', '672', '1026', '46', '655', '57']"
      ]
     },
     "execution_count": 34,
     "metadata": {},
     "output_type": "execute_result"
    }
   ],
   "source": [
    "wronglist"
   ]
  },
  {
   "cell_type": "code",
   "execution_count": 35,
   "metadata": {
    "ExecuteTime": {
     "end_time": "2020-11-23T15:33:16.120911Z",
     "start_time": "2020-11-23T15:33:01.419362Z"
    }
   },
   "outputs": [
    {
     "name": "stdout",
     "output_type": "stream",
     "text": [
      "Wall time: 14.7 s\n"
     ]
    }
   ],
   "source": [
    "%%time\n",
    "X_train = [sent2features(s) for s in train_data_01 if str(s[0][0]) not in wronglist]\n",
    "y_train = [sent2labels(s) for s in train_data_01 if str(s[0][0]) not in wronglist]\n",
    "\n",
    "X_test = [sent2features(s) for s in test_data_01 if str(s[0][0]) not in wronglist]\n",
    "y_test = [sent2labels(s) for s in test_data_01 if str(s[0][0]) not in wronglist]"
   ]
  },
  {
   "cell_type": "markdown",
   "metadata": {},
   "source": [
    "#### \\u3000和\\t导致的长度偏差"
   ]
  },
  {
   "cell_type": "code",
   "execution_count": 210,
   "metadata": {
    "ExecuteTime": {
     "end_time": "2020-11-17T11:53:38.491536Z",
     "start_time": "2020-11-17T11:53:38.481542Z"
    }
   },
   "outputs": [
    {
     "data": {
      "text/plain": [
       "'作曲家とくP[阿部尚徳]\\u3000基本上会用日语更新微博\\u3000GARNiDELiA[w/zMARiA]，VocaloidP[tokuP]，Headphone-Tokyo，日本音乐制作人、GARNiDELiA组合成员Toku-p'"
      ]
     },
     "execution_count": 210,
     "metadata": {},
     "output_type": "execute_result"
    }
   ],
   "source": [
    "df_train[df_train['ID']==str(2306)].data.values[0]"
   ]
  },
  {
   "cell_type": "code",
   "execution_count": 211,
   "metadata": {
    "ExecuteTime": {
     "end_time": "2020-11-17T11:54:24.040148Z",
     "start_time": "2020-11-17T11:54:24.030149Z"
    }
   },
   "outputs": [
    {
     "data": {
      "text/plain": [
       "'2005年超级女声。北京军区空军政治部文工团。北京鸟人文化传播公司，工作联系杨顺利：18901110907，朱妍\\t歌手，05超级女声全国10强，首张专辑《你是我爱的风景线》'"
      ]
     },
     "execution_count": 211,
     "metadata": {},
     "output_type": "execute_result"
    }
   ],
   "source": [
    "df_train[df_train['ID']==str(1026)].data.values[0]"
   ]
  },
  {
   "cell_type": "code",
   "execution_count": 212,
   "metadata": {
    "ExecuteTime": {
     "end_time": "2020-11-17T11:54:58.589258Z",
     "start_time": "2020-11-17T11:54:58.577261Z"
    }
   },
   "outputs": [
    {
     "data": {
      "text/plain": [
       "'☆LM.C是由主唱maya與吉他手Aiji組成的日本視覺系雙人組合☆\\u3000日本官方網站：http://www.lovely-mocochang.com/index.html，日本人气乐团LM.C'"
      ]
     },
     "execution_count": 212,
     "metadata": {},
     "output_type": "execute_result"
    }
   ],
   "source": [
    "df_train[df_train['ID']==str(46)].data.values[0]"
   ]
  },
  {
   "cell_type": "code",
   "execution_count": 213,
   "metadata": {
    "ExecuteTime": {
     "end_time": "2020-11-17T11:55:36.296577Z",
     "start_time": "2020-11-17T11:55:36.277581Z"
    }
   },
   "outputs": [
    {
     "data": {
      "text/plain": [
       "'歌手\\u3000主持人\\u3000演員\\u3000坣瑜伽創辦人\\u3000演出經紀請找Lolla：lolla3112@gmail.com，台湾知名歌手，演员坣娜，发行个人专辑《告别临界》等'"
      ]
     },
     "execution_count": 213,
     "metadata": {},
     "output_type": "execute_result"
    }
   ],
   "source": [
    "df_train[df_train['ID']==str(672)].data.values[0]"
   ]
  },
  {
   "cell_type": "code",
   "execution_count": 214,
   "metadata": {
    "ExecuteTime": {
     "end_time": "2020-11-17T11:56:25.248453Z",
     "start_time": "2020-11-17T11:56:25.230281Z"
    }
   },
   "outputs": [
    {
     "data": {
      "text/plain": [
       "'演员。代表作：《美人心计》《生死大营救》《倾城雪》《铁血男儿》《乱世佳人》工作洽谈邮箱：suqing75@163.com胡先生186-1179-4208，苏青\\t演员，《美人心计》中饰演大张嫣'"
      ]
     },
     "execution_count": 214,
     "metadata": {},
     "output_type": "execute_result"
    }
   ],
   "source": [
    "df_train[df_train['ID']==str(655)].data.values[0]"
   ]
  },
  {
   "cell_type": "code",
   "execution_count": 215,
   "metadata": {
    "ExecuteTime": {
     "end_time": "2020-11-17T11:56:34.648376Z",
     "start_time": "2020-11-17T11:56:34.623378Z"
    }
   },
   "outputs": [
    {
     "data": {
      "text/plain": [
       "'广东宋祖德影视文化传播有限公司\\u3000董事长＼全国第九届青联委员＼世界杰人会香港总会名誉会长＼广东省私营企业协会副会长＼广州市第十届政协常委＼诗人，新浪名博'"
      ]
     },
     "execution_count": 215,
     "metadata": {},
     "output_type": "execute_result"
    }
   ],
   "source": [
    "df_train[df_train['ID']==str(57)].data.values[0]"
   ]
  },
  {
   "cell_type": "code",
   "execution_count": 201,
   "metadata": {
    "ExecuteTime": {
     "end_time": "2020-11-17T11:46:00.819451Z",
     "start_time": "2020-11-17T11:46:00.802450Z"
    }
   },
   "outputs": [],
   "source": [
    "# y_test[0]"
   ]
  },
  {
   "cell_type": "code",
   "execution_count": null,
   "metadata": {},
   "outputs": [],
   "source": []
  },
  {
   "cell_type": "markdown",
   "metadata": {},
   "source": [
    "### 模型训练"
   ]
  },
  {
   "cell_type": "code",
   "execution_count": 232,
   "metadata": {
    "ExecuteTime": {
     "end_time": "2020-11-17T12:29:16.436707Z",
     "start_time": "2020-11-17T12:16:54.231543Z"
    }
   },
   "outputs": [
    {
     "name": "stdout",
     "output_type": "stream",
     "text": [
      "Wall time: 12min 22s\n"
     ]
    },
    {
     "data": {
      "text/plain": [
       "CRF(algorithm='lbfgs', all_possible_states=None,\n",
       "  all_possible_transitions=True, averaging=None, c=None, c1=0.1, c2=0.1,\n",
       "  calibration_candidates=None, calibration_eta=None,\n",
       "  calibration_max_trials=None, calibration_rate=None,\n",
       "  calibration_samples=None, delta=None, epsilon=None, error_sensitive=None,\n",
       "  gamma=None, keep_tempfiles=None, linesearch=None, max_iterations=200,\n",
       "  max_linesearch=None, min_freq=None, model_filename=None,\n",
       "  num_memories=None, pa_type=None, period=None, trainer_cls=None,\n",
       "  variance=None, verbose=False)"
      ]
     },
     "execution_count": 232,
     "metadata": {},
     "output_type": "execute_result"
    }
   ],
   "source": [
    "%%time\n",
    "crf = sklearn_crfsuite.CRF(\n",
    "    algorithm='lbfgs',\n",
    "    c1=0.1,\n",
    "    c2=0.1,\n",
    "    max_iterations=200,\n",
    "    all_possible_transitions=True\n",
    ")\n",
    "\n",
    "crf.fit(X_train, y_train)"
   ]
  },
  {
   "cell_type": "markdown",
   "metadata": {},
   "source": [
    "#### labels"
   ]
  },
  {
   "cell_type": "code",
   "execution_count": 235,
   "metadata": {
    "ExecuteTime": {
     "end_time": "2020-11-17T12:30:10.736322Z",
     "start_time": "2020-11-17T12:30:10.726290Z"
    }
   },
   "outputs": [
    {
     "data": {
      "text/plain": [
       "['B_company',\n",
       " 'E_company',\n",
       " 'I_company',\n",
       " 'B_address',\n",
       " 'I_address',\n",
       " 'E_address',\n",
       " 'B_book',\n",
       " 'I_book',\n",
       " 'E_book',\n",
       " 'B_game',\n",
       " 'I_game',\n",
       " 'E_game',\n",
       " 'B_organization',\n",
       " 'I_organization',\n",
       " 'E_organization',\n",
       " 'B_scene',\n",
       " 'I_scene',\n",
       " 'E_scene',\n",
       " 'B_name',\n",
       " 'E_name',\n",
       " 'B_position',\n",
       " 'E_position',\n",
       " 'B_movie',\n",
       " 'I_movie',\n",
       " 'E_movie',\n",
       " 'I_name',\n",
       " 'I_position',\n",
       " 'B_government',\n",
       " 'E_government',\n",
       " 'B_email',\n",
       " 'I_email',\n",
       " 'E_email',\n",
       " 'I_government',\n",
       " 'B_mobile',\n",
       " 'I_mobile',\n",
       " 'E_mobile',\n",
       " 'S_company',\n",
       " 'B_vx',\n",
       " 'I_vx',\n",
       " 'E_vx',\n",
       " 'B_QQ',\n",
       " 'I_QQ',\n",
       " 'E_QQ',\n",
       " 'S_movie',\n",
       " 'S_name']"
      ]
     },
     "execution_count": 235,
     "metadata": {},
     "output_type": "execute_result"
    }
   ],
   "source": [
    "labels = list(crf.classes_)\n",
    "labels.remove('O')\n",
    "labels"
   ]
  },
  {
   "cell_type": "markdown",
   "metadata": {},
   "source": [
    "#### f1得分"
   ]
  },
  {
   "cell_type": "code",
   "execution_count": 236,
   "metadata": {
    "ExecuteTime": {
     "end_time": "2020-11-17T12:30:22.400108Z",
     "start_time": "2020-11-17T12:30:20.002999Z"
    },
    "scrolled": true
   },
   "outputs": [
    {
     "name": "stderr",
     "output_type": "stream",
     "text": [
      "d:\\programdata\\envs\\nlplearning\\lib\\site-packages\\sklearn\\metrics\\classification.py:1143: UndefinedMetricWarning: F-score is ill-defined and being set to 0.0 in labels with no predicted samples.\n",
      "  'precision', 'predicted', average, warn_for)\n",
      "d:\\programdata\\envs\\nlplearning\\lib\\site-packages\\sklearn\\metrics\\classification.py:1145: UndefinedMetricWarning: F-score is ill-defined and being set to 0.0 in labels with no true samples.\n",
      "  'recall', 'true', average, warn_for)\n"
     ]
    },
    {
     "data": {
      "text/plain": [
       "0.6829326453299007"
      ]
     },
     "execution_count": 236,
     "metadata": {},
     "output_type": "execute_result"
    }
   ],
   "source": [
    "y_pred = crf.predict(X_test)\n",
    "metrics.flat_f1_score(y_test, y_pred, average='weighted', labels=labels)"
   ]
  },
  {
   "cell_type": "code",
   "execution_count": 237,
   "metadata": {
    "ExecuteTime": {
     "end_time": "2020-11-17T12:30:47.540953Z",
     "start_time": "2020-11-17T12:30:38.224047Z"
    }
   },
   "outputs": [
    {
     "data": {
      "text/plain": [
       "0.9909461649324396"
      ]
     },
     "execution_count": 237,
     "metadata": {},
     "output_type": "execute_result"
    }
   ],
   "source": [
    "y_pred = crf.predict(X_train)\n",
    "metrics.flat_f1_score(y_train, y_pred, average='weighted', labels=labels)"
   ]
  },
  {
   "cell_type": "code",
   "execution_count": 238,
   "metadata": {
    "ExecuteTime": {
     "end_time": "2020-11-17T12:31:04.271769Z",
     "start_time": "2020-11-17T12:31:04.261773Z"
    }
   },
   "outputs": [],
   "source": [
    "# y_train[0]\n",
    "# y_pred[0]"
   ]
  },
  {
   "cell_type": "code",
   "execution_count": null,
   "metadata": {},
   "outputs": [],
   "source": []
  },
  {
   "cell_type": "code",
   "execution_count": 239,
   "metadata": {
    "ExecuteTime": {
     "end_time": "2020-11-17T12:31:25.934858Z",
     "start_time": "2020-11-17T12:31:23.107859Z"
    }
   },
   "outputs": [
    {
     "name": "stderr",
     "output_type": "stream",
     "text": [
      "d:\\programdata\\envs\\nlplearning\\lib\\site-packages\\sklearn\\metrics\\classification.py:1143: UndefinedMetricWarning: Precision and F-score are ill-defined and being set to 0.0 in labels with no predicted samples.\n",
      "  'precision', 'predicted', average, warn_for)\n",
      "d:\\programdata\\envs\\nlplearning\\lib\\site-packages\\sklearn\\metrics\\classification.py:1145: UndefinedMetricWarning: Recall and F-score are ill-defined and being set to 0.0 in labels with no true samples.\n",
      "  'recall', 'true', average, warn_for)\n"
     ]
    },
    {
     "name": "stdout",
     "output_type": "stream",
     "text": [
      "                precision    recall  f1-score   support\n",
      "\n",
      "          B_QQ      0.000     0.000     0.000         3\n",
      "          E_QQ      0.000     0.000     0.000         3\n",
      "          I_QQ      0.000     0.000     0.000        21\n",
      "     B_address      0.612     0.571     0.591       406\n",
      "     E_address      0.528     0.493     0.510       406\n",
      "     I_address      0.686     0.616     0.649      1239\n",
      "        B_book      0.603     0.537     0.568       136\n",
      "        E_book      0.620     0.551     0.584       136\n",
      "        I_book      0.624     0.541     0.580       678\n",
      "     B_company      0.699     0.647     0.672       405\n",
      "     E_company      0.676     0.627     0.650       405\n",
      "     I_company      0.709     0.654     0.681      1404\n",
      "     S_company      1.000     0.667     0.800         9\n",
      "       B_email      0.828     0.815     0.822        65\n",
      "       E_email      0.887     0.833     0.859        66\n",
      "       I_email      0.903     0.933     0.918      1152\n",
      "        B_game      0.835     0.734     0.781       323\n",
      "        E_game      0.811     0.715     0.760       323\n",
      "        I_game      0.756     0.721     0.738      1183\n",
      "  B_government      0.760     0.714     0.736       248\n",
      "  E_government      0.726     0.685     0.705       248\n",
      "  I_government      0.726     0.711     0.718       803\n",
      "      B_mobile      0.818     0.789     0.804        57\n",
      "      E_mobile      0.855     0.825     0.839        57\n",
      "      I_mobile      0.893     0.903     0.898       576\n",
      "       B_movie      0.708     0.685     0.696       378\n",
      "       E_movie      0.696     0.672     0.684       378\n",
      "       I_movie      0.745     0.702     0.723      1806\n",
      "       S_movie      0.000     0.000     0.000         0\n",
      "        B_name      0.762     0.696     0.728       681\n",
      "        E_name      0.736     0.671     0.702       681\n",
      "        I_name      0.613     0.618     0.615       777\n",
      "        S_name      0.000     0.000     0.000         7\n",
      "B_organization      0.747     0.626     0.681       495\n",
      "E_organization      0.728     0.610     0.664       495\n",
      "I_organization      0.551     0.480     0.513      1013\n",
      "    B_position      0.701     0.658     0.679       746\n",
      "    E_position      0.840     0.786     0.812       747\n",
      "    I_position      0.587     0.546     0.566      1027\n",
      "       B_scene      0.657     0.454     0.537       207\n",
      "       E_scene      0.688     0.478     0.564       207\n",
      "       I_scene      0.635     0.475     0.543       531\n",
      "          B_vx      0.000     0.000     0.000         6\n",
      "          E_vx      0.000     0.000     0.000         6\n",
      "          I_vx      0.000     0.000     0.000        42\n",
      "\n",
      "     micro avg      0.716     0.659     0.686     20582\n",
      "     macro avg      0.599     0.543     0.568     20582\n",
      "  weighted avg      0.711     0.659     0.683     20582\n",
      "\n"
     ]
    }
   ],
   "source": [
    "# group B and I results\n",
    "sorted_labels = sorted(\n",
    "    labels,\n",
    "    key=lambda name: (name[1:], name[0])\n",
    ")\n",
    "\n",
    "y_pred = crf.predict(X_test)\n",
    "\n",
    "print(metrics.flat_classification_report(\n",
    "    y_test, y_pred, labels=sorted_labels, digits=3\n",
    "))"
   ]
  },
  {
   "cell_type": "code",
   "execution_count": null,
   "metadata": {},
   "outputs": [],
   "source": []
  },
  {
   "cell_type": "markdown",
   "metadata": {},
   "source": [
    "## lgb 模型"
   ]
  },
  {
   "cell_type": "markdown",
   "metadata": {},
   "source": [
    "### feature生成"
   ]
  },
  {
   "cell_type": "code",
   "execution_count": 240,
   "metadata": {
    "ExecuteTime": {
     "end_time": "2020-11-17T12:32:12.234200Z",
     "start_time": "2020-11-17T12:32:12.218236Z"
    }
   },
   "outputs": [],
   "source": [
    "def get_data_label(BIOES_data):\n",
    "    ID = []\n",
    "    data = []\n",
    "    label = []\n",
    "    for s in tqdm(BIOES_data):\n",
    "        if str(s[0][0]) in wronglist:\n",
    "            continue\n",
    "        ID += [s[0][0]] * len(s)\n",
    "        data += sent2features(s)\n",
    "        label += sent2labels(s)\n",
    "    df_data_label = pd.DataFrame(data)\n",
    "    df_data_label['ID'] = ID\n",
    "    df_data_label['label'] = label\n",
    "    return df_data_label"
   ]
  },
  {
   "cell_type": "code",
   "execution_count": 241,
   "metadata": {
    "ExecuteTime": {
     "end_time": "2020-11-17T12:32:38.369266Z",
     "start_time": "2020-11-17T12:32:21.749948Z"
    },
    "scrolled": true
   },
   "outputs": [
    {
     "name": "stderr",
     "output_type": "stream",
     "text": [
      "100%|███████████████████████████████████| 2012/2012 [00:10<00:00, 186.75it/s]\n",
      "100%|█████████████████████████████████████| 503/503 [00:02<00:00, 195.30it/s]\n"
     ]
    }
   ],
   "source": [
    "df_train_label_01 = get_data_label(train_data_01)\n",
    "df_test_label_01 = get_data_label(test_data_01)"
   ]
  },
  {
   "cell_type": "code",
   "execution_count": 242,
   "metadata": {
    "ExecuteTime": {
     "end_time": "2020-11-17T12:32:48.543704Z",
     "start_time": "2020-11-17T12:32:48.152668Z"
    }
   },
   "outputs": [
    {
     "data": {
      "text/html": [
       "<div>\n",
       "<style scoped>\n",
       "    .dataframe tbody tr th:only-of-type {\n",
       "        vertical-align: middle;\n",
       "    }\n",
       "\n",
       "    .dataframe tbody tr th {\n",
       "        vertical-align: top;\n",
       "    }\n",
       "\n",
       "    .dataframe thead th {\n",
       "        text-align: right;\n",
       "    }\n",
       "</style>\n",
       "<table border=\"1\" class=\"dataframe\">\n",
       "  <thead>\n",
       "    <tr style=\"text-align: right;\">\n",
       "      <th></th>\n",
       "      <th>bias</th>\n",
       "      <th>word</th>\n",
       "      <th>word.isdigit()</th>\n",
       "      <th>word.istitle()</th>\n",
       "      <th>word.isupper()</th>\n",
       "      <th>word.lower()</th>\n",
       "      <th>pos</th>\n",
       "      <th>pos[:1]</th>\n",
       "      <th>ne</th>\n",
       "      <th>ne[:1]</th>\n",
       "      <th>...</th>\n",
       "      <th>-2:word.lower()</th>\n",
       "      <th>-2:word.istitle()</th>\n",
       "      <th>-2:word.isupper()</th>\n",
       "      <th>-2:pos</th>\n",
       "      <th>-2:pos[:1]</th>\n",
       "      <th>-2:ne</th>\n",
       "      <th>-2:ne[:1]</th>\n",
       "      <th>EOS</th>\n",
       "      <th>ID</th>\n",
       "      <th>label</th>\n",
       "    </tr>\n",
       "  </thead>\n",
       "  <tbody>\n",
       "    <tr>\n",
       "      <th>0</th>\n",
       "      <td>1.0</td>\n",
       "      <td>综</td>\n",
       "      <td>False</td>\n",
       "      <td>False</td>\n",
       "      <td>False</td>\n",
       "      <td>综</td>\n",
       "      <td>v</td>\n",
       "      <td>v</td>\n",
       "      <td>O</td>\n",
       "      <td>O</td>\n",
       "      <td>...</td>\n",
       "      <td>NaN</td>\n",
       "      <td>NaN</td>\n",
       "      <td>NaN</td>\n",
       "      <td>NaN</td>\n",
       "      <td>NaN</td>\n",
       "      <td>NaN</td>\n",
       "      <td>NaN</td>\n",
       "      <td>NaN</td>\n",
       "      <td>2345</td>\n",
       "      <td>O</td>\n",
       "    </tr>\n",
       "    <tr>\n",
       "      <th>1</th>\n",
       "      <td>1.0</td>\n",
       "      <td>合</td>\n",
       "      <td>False</td>\n",
       "      <td>False</td>\n",
       "      <td>False</td>\n",
       "      <td>合</td>\n",
       "      <td>v</td>\n",
       "      <td>v</td>\n",
       "      <td>O</td>\n",
       "      <td>O</td>\n",
       "      <td>...</td>\n",
       "      <td>NaN</td>\n",
       "      <td>NaN</td>\n",
       "      <td>NaN</td>\n",
       "      <td>NaN</td>\n",
       "      <td>NaN</td>\n",
       "      <td>NaN</td>\n",
       "      <td>NaN</td>\n",
       "      <td>NaN</td>\n",
       "      <td>2345</td>\n",
       "      <td>O</td>\n",
       "    </tr>\n",
       "    <tr>\n",
       "      <th>2</th>\n",
       "      <td>1.0</td>\n",
       "      <td>6</td>\n",
       "      <td>True</td>\n",
       "      <td>False</td>\n",
       "      <td>False</td>\n",
       "      <td>6</td>\n",
       "      <td>m</td>\n",
       "      <td>m</td>\n",
       "      <td>O</td>\n",
       "      <td>O</td>\n",
       "      <td>...</td>\n",
       "      <td>综</td>\n",
       "      <td>False</td>\n",
       "      <td>False</td>\n",
       "      <td>v</td>\n",
       "      <td>v</td>\n",
       "      <td>O</td>\n",
       "      <td>O</td>\n",
       "      <td>NaN</td>\n",
       "      <td>2345</td>\n",
       "      <td>O</td>\n",
       "    </tr>\n",
       "    <tr>\n",
       "      <th>3</th>\n",
       "      <td>1.0</td>\n",
       "      <td>项</td>\n",
       "      <td>False</td>\n",
       "      <td>False</td>\n",
       "      <td>False</td>\n",
       "      <td>项</td>\n",
       "      <td>q</td>\n",
       "      <td>q</td>\n",
       "      <td>O</td>\n",
       "      <td>O</td>\n",
       "      <td>...</td>\n",
       "      <td>合</td>\n",
       "      <td>False</td>\n",
       "      <td>False</td>\n",
       "      <td>v</td>\n",
       "      <td>v</td>\n",
       "      <td>O</td>\n",
       "      <td>O</td>\n",
       "      <td>NaN</td>\n",
       "      <td>2345</td>\n",
       "      <td>O</td>\n",
       "    </tr>\n",
       "    <tr>\n",
       "      <th>4</th>\n",
       "      <td>1.0</td>\n",
       "      <td>指</td>\n",
       "      <td>False</td>\n",
       "      <td>False</td>\n",
       "      <td>False</td>\n",
       "      <td>指</td>\n",
       "      <td>n</td>\n",
       "      <td>n</td>\n",
       "      <td>O</td>\n",
       "      <td>O</td>\n",
       "      <td>...</td>\n",
       "      <td>6</td>\n",
       "      <td>False</td>\n",
       "      <td>False</td>\n",
       "      <td>m</td>\n",
       "      <td>m</td>\n",
       "      <td>O</td>\n",
       "      <td>O</td>\n",
       "      <td>NaN</td>\n",
       "      <td>2345</td>\n",
       "      <td>O</td>\n",
       "    </tr>\n",
       "    <tr>\n",
       "      <th>...</th>\n",
       "      <td>...</td>\n",
       "      <td>...</td>\n",
       "      <td>...</td>\n",
       "      <td>...</td>\n",
       "      <td>...</td>\n",
       "      <td>...</td>\n",
       "      <td>...</td>\n",
       "      <td>...</td>\n",
       "      <td>...</td>\n",
       "      <td>...</td>\n",
       "      <td>...</td>\n",
       "      <td>...</td>\n",
       "      <td>...</td>\n",
       "      <td>...</td>\n",
       "      <td>...</td>\n",
       "      <td>...</td>\n",
       "      <td>...</td>\n",
       "      <td>...</td>\n",
       "      <td>...</td>\n",
       "      <td>...</td>\n",
       "      <td>...</td>\n",
       "    </tr>\n",
       "    <tr>\n",
       "      <th>262832</th>\n",
       "      <td>1.0</td>\n",
       "      <td>公</td>\n",
       "      <td>False</td>\n",
       "      <td>False</td>\n",
       "      <td>False</td>\n",
       "      <td>公</td>\n",
       "      <td>n</td>\n",
       "      <td>n</td>\n",
       "      <td>E-Ni</td>\n",
       "      <td>E</td>\n",
       "      <td>...</td>\n",
       "      <td>影</td>\n",
       "      <td>False</td>\n",
       "      <td>False</td>\n",
       "      <td>b</td>\n",
       "      <td>b</td>\n",
       "      <td>I-Ni</td>\n",
       "      <td>I</td>\n",
       "      <td>NaN</td>\n",
       "      <td>758</td>\n",
       "      <td>I_company</td>\n",
       "    </tr>\n",
       "    <tr>\n",
       "      <th>262833</th>\n",
       "      <td>1.0</td>\n",
       "      <td>司</td>\n",
       "      <td>False</td>\n",
       "      <td>False</td>\n",
       "      <td>False</td>\n",
       "      <td>司</td>\n",
       "      <td>n</td>\n",
       "      <td>n</td>\n",
       "      <td>E-Ni</td>\n",
       "      <td>E</td>\n",
       "      <td>...</td>\n",
       "      <td>视</td>\n",
       "      <td>False</td>\n",
       "      <td>False</td>\n",
       "      <td>b</td>\n",
       "      <td>b</td>\n",
       "      <td>I-Ni</td>\n",
       "      <td>I</td>\n",
       "      <td>NaN</td>\n",
       "      <td>758</td>\n",
       "      <td>E_company</td>\n",
       "    </tr>\n",
       "    <tr>\n",
       "      <th>262834</th>\n",
       "      <td>1.0</td>\n",
       "      <td>董</td>\n",
       "      <td>False</td>\n",
       "      <td>False</td>\n",
       "      <td>False</td>\n",
       "      <td>董</td>\n",
       "      <td>n</td>\n",
       "      <td>n</td>\n",
       "      <td>O</td>\n",
       "      <td>O</td>\n",
       "      <td>...</td>\n",
       "      <td>公</td>\n",
       "      <td>False</td>\n",
       "      <td>False</td>\n",
       "      <td>n</td>\n",
       "      <td>n</td>\n",
       "      <td>E-Ni</td>\n",
       "      <td>E</td>\n",
       "      <td>NaN</td>\n",
       "      <td>758</td>\n",
       "      <td>B_position</td>\n",
       "    </tr>\n",
       "    <tr>\n",
       "      <th>262835</th>\n",
       "      <td>1.0</td>\n",
       "      <td>事</td>\n",
       "      <td>False</td>\n",
       "      <td>False</td>\n",
       "      <td>False</td>\n",
       "      <td>事</td>\n",
       "      <td>n</td>\n",
       "      <td>n</td>\n",
       "      <td>O</td>\n",
       "      <td>O</td>\n",
       "      <td>...</td>\n",
       "      <td>司</td>\n",
       "      <td>False</td>\n",
       "      <td>False</td>\n",
       "      <td>n</td>\n",
       "      <td>n</td>\n",
       "      <td>E-Ni</td>\n",
       "      <td>E</td>\n",
       "      <td>True</td>\n",
       "      <td>758</td>\n",
       "      <td>I_position</td>\n",
       "    </tr>\n",
       "    <tr>\n",
       "      <th>262836</th>\n",
       "      <td>1.0</td>\n",
       "      <td>长</td>\n",
       "      <td>False</td>\n",
       "      <td>False</td>\n",
       "      <td>False</td>\n",
       "      <td>长</td>\n",
       "      <td>n</td>\n",
       "      <td>n</td>\n",
       "      <td>O</td>\n",
       "      <td>O</td>\n",
       "      <td>...</td>\n",
       "      <td>董</td>\n",
       "      <td>False</td>\n",
       "      <td>False</td>\n",
       "      <td>n</td>\n",
       "      <td>n</td>\n",
       "      <td>O</td>\n",
       "      <td>O</td>\n",
       "      <td>True</td>\n",
       "      <td>758</td>\n",
       "      <td>E_position</td>\n",
       "    </tr>\n",
       "  </tbody>\n",
       "</table>\n",
       "<p>262837 rows × 46 columns</p>\n",
       "</div>"
      ],
      "text/plain": [
       "        bias word  word.isdigit()  word.istitle()  word.isupper()  \\\n",
       "0        1.0    综           False           False           False   \n",
       "1        1.0    合           False           False           False   \n",
       "2        1.0    6            True           False           False   \n",
       "3        1.0    项           False           False           False   \n",
       "4        1.0    指           False           False           False   \n",
       "...      ...  ...             ...             ...             ...   \n",
       "262832   1.0    公           False           False           False   \n",
       "262833   1.0    司           False           False           False   \n",
       "262834   1.0    董           False           False           False   \n",
       "262835   1.0    事           False           False           False   \n",
       "262836   1.0    长           False           False           False   \n",
       "\n",
       "       word.lower() pos pos[:1]    ne ne[:1]  ... -2:word.lower()  \\\n",
       "0                 综   v       v     O      O  ...             NaN   \n",
       "1                 合   v       v     O      O  ...             NaN   \n",
       "2                 6   m       m     O      O  ...               综   \n",
       "3                 项   q       q     O      O  ...               合   \n",
       "4                 指   n       n     O      O  ...               6   \n",
       "...             ...  ..     ...   ...    ...  ...             ...   \n",
       "262832            公   n       n  E-Ni      E  ...               影   \n",
       "262833            司   n       n  E-Ni      E  ...               视   \n",
       "262834            董   n       n     O      O  ...               公   \n",
       "262835            事   n       n     O      O  ...               司   \n",
       "262836            长   n       n     O      O  ...               董   \n",
       "\n",
       "       -2:word.istitle() -2:word.isupper() -2:pos -2:pos[:1] -2:ne -2:ne[:1]  \\\n",
       "0                    NaN               NaN    NaN        NaN   NaN       NaN   \n",
       "1                    NaN               NaN    NaN        NaN   NaN       NaN   \n",
       "2                  False             False      v          v     O         O   \n",
       "3                  False             False      v          v     O         O   \n",
       "4                  False             False      m          m     O         O   \n",
       "...                  ...               ...    ...        ...   ...       ...   \n",
       "262832             False             False      b          b  I-Ni         I   \n",
       "262833             False             False      b          b  I-Ni         I   \n",
       "262834             False             False      n          n  E-Ni         E   \n",
       "262835             False             False      n          n  E-Ni         E   \n",
       "262836             False             False      n          n     O         O   \n",
       "\n",
       "         EOS    ID       label  \n",
       "0        NaN  2345           O  \n",
       "1        NaN  2345           O  \n",
       "2        NaN  2345           O  \n",
       "3        NaN  2345           O  \n",
       "4        NaN  2345           O  \n",
       "...      ...   ...         ...  \n",
       "262832   NaN   758   I_company  \n",
       "262833   NaN   758   E_company  \n",
       "262834   NaN   758  B_position  \n",
       "262835  True   758  I_position  \n",
       "262836  True   758  E_position  \n",
       "\n",
       "[262837 rows x 46 columns]"
      ]
     },
     "execution_count": 242,
     "metadata": {},
     "output_type": "execute_result"
    }
   ],
   "source": [
    "df_train_label_01"
   ]
  },
  {
   "cell_type": "code",
   "execution_count": null,
   "metadata": {},
   "outputs": [],
   "source": []
  },
  {
   "cell_type": "markdown",
   "metadata": {},
   "source": [
    "### 处理数据"
   ]
  },
  {
   "cell_type": "code",
   "execution_count": 254,
   "metadata": {
    "ExecuteTime": {
     "end_time": "2020-11-17T12:37:10.797221Z",
     "start_time": "2020-11-17T12:37:10.790225Z"
    }
   },
   "outputs": [],
   "source": [
    "features_columns = [c for c in df_train_label_01.columns if c not in ['ID','label']]\n",
    "label_columns = 'label'"
   ]
  },
  {
   "cell_type": "code",
   "execution_count": 255,
   "metadata": {
    "ExecuteTime": {
     "end_time": "2020-11-17T12:37:13.350224Z",
     "start_time": "2020-11-17T12:37:13.336225Z"
    }
   },
   "outputs": [],
   "source": [
    "# df_train_label_01_temp = df_train_label_01.head(10000)\n",
    "# df_train_label_01"
   ]
  },
  {
   "cell_type": "code",
   "execution_count": 256,
   "metadata": {
    "ExecuteTime": {
     "end_time": "2020-11-17T12:37:20.020221Z",
     "start_time": "2020-11-17T12:37:15.831222Z"
    }
   },
   "outputs": [
    {
     "name": "stderr",
     "output_type": "stream",
     "text": [
      "100%|████████████████████████████████████████| 45/45 [00:04<00:00, 10.79it/s]\n"
     ]
    }
   ],
   "source": [
    "# 转为数值特征\n",
    "for col in tqdm(features_columns + [label_columns]):\n",
    "    set_col = set(df_train_label_01[col])\n",
    "    dict_map = dict(zip(set_col, range(len(set_col))))\n",
    "    df_train_label_01[col] = df_train_label_01[col].map(dict_map)"
   ]
  },
  {
   "cell_type": "code",
   "execution_count": 257,
   "metadata": {
    "ExecuteTime": {
     "end_time": "2020-11-17T12:37:23.458814Z",
     "start_time": "2020-11-17T12:37:23.434817Z"
    }
   },
   "outputs": [
    {
     "data": {
      "text/plain": [
       "{'B_government': 0,\n",
       " 'E_QQ': 1,\n",
       " 'B_scene': 2,\n",
       " 'E_movie': 3,\n",
       " 'B_mobile': 4,\n",
       " 'I_mobile': 5,\n",
       " 'B_position': 6,\n",
       " 'I_QQ': 7,\n",
       " 'E_position': 8,\n",
       " 'E_government': 9,\n",
       " 'E_mobile': 10,\n",
       " 'B_book': 11,\n",
       " 'S_address': 12,\n",
       " 'E_game': 13,\n",
       " 'E_vx': 14,\n",
       " 'I_movie': 15,\n",
       " 'B_email': 16,\n",
       " 'B_vx': 17,\n",
       " 'I_vx': 18,\n",
       " 'E_organization': 19,\n",
       " 'B_name': 20,\n",
       " 'B_address': 21,\n",
       " 'E_address': 22,\n",
       " 'B_game': 23,\n",
       " 'B_company': 24,\n",
       " 'I_game': 25,\n",
       " 'O': 26,\n",
       " 'I_organization': 27,\n",
       " 'I_position': 28,\n",
       " 'S_name': 29,\n",
       " 'I_government': 30,\n",
       " 'S_company': 31,\n",
       " 'I_email': 32,\n",
       " 'E_email': 33,\n",
       " 'B_movie': 34,\n",
       " 'I_address': 35,\n",
       " 'B_QQ': 36,\n",
       " 'I_company': 37,\n",
       " 'I_name': 38,\n",
       " 'I_scene': 39,\n",
       " 'B_organization': 40,\n",
       " 'E_company': 41,\n",
       " 'I_book': 42,\n",
       " 'E_scene': 43,\n",
       " 'E_book': 44,\n",
       " 'E_name': 45}"
      ]
     },
     "execution_count": 257,
     "metadata": {},
     "output_type": "execute_result"
    }
   ],
   "source": [
    "# 标签类别\n",
    "dict(zip(set(df_test_label_01['label']),range(len(set(df_test_label_01['label'])))))"
   ]
  },
  {
   "cell_type": "code",
   "execution_count": 258,
   "metadata": {
    "ExecuteTime": {
     "end_time": "2020-11-17T12:38:22.503671Z",
     "start_time": "2020-11-17T12:38:22.470640Z"
    }
   },
   "outputs": [
    {
     "data": {
      "text/html": [
       "<div>\n",
       "<style scoped>\n",
       "    .dataframe tbody tr th:only-of-type {\n",
       "        vertical-align: middle;\n",
       "    }\n",
       "\n",
       "    .dataframe tbody tr th {\n",
       "        vertical-align: top;\n",
       "    }\n",
       "\n",
       "    .dataframe thead th {\n",
       "        text-align: right;\n",
       "    }\n",
       "</style>\n",
       "<table border=\"1\" class=\"dataframe\">\n",
       "  <thead>\n",
       "    <tr style=\"text-align: right;\">\n",
       "      <th></th>\n",
       "      <th>bias</th>\n",
       "      <th>word</th>\n",
       "      <th>word.isdigit()</th>\n",
       "      <th>word.istitle()</th>\n",
       "      <th>word.isupper()</th>\n",
       "      <th>word.lower()</th>\n",
       "      <th>pos</th>\n",
       "      <th>pos[:1]</th>\n",
       "      <th>ne</th>\n",
       "      <th>ne[:1]</th>\n",
       "      <th>...</th>\n",
       "      <th>-2:word.lower()</th>\n",
       "      <th>-2:word.istitle()</th>\n",
       "      <th>-2:word.isupper()</th>\n",
       "      <th>-2:pos</th>\n",
       "      <th>-2:pos[:1]</th>\n",
       "      <th>-2:ne</th>\n",
       "      <th>-2:ne[:1]</th>\n",
       "      <th>EOS</th>\n",
       "      <th>ID</th>\n",
       "      <th>label</th>\n",
       "    </tr>\n",
       "  </thead>\n",
       "  <tbody>\n",
       "    <tr>\n",
       "      <th>0</th>\n",
       "      <td>0</td>\n",
       "      <td>2560</td>\n",
       "      <td>0</td>\n",
       "      <td>0</td>\n",
       "      <td>0</td>\n",
       "      <td>2539</td>\n",
       "      <td>21</td>\n",
       "      <td>2</td>\n",
       "      <td>9</td>\n",
       "      <td>3</td>\n",
       "      <td>...</td>\n",
       "      <td>0</td>\n",
       "      <td>0</td>\n",
       "      <td>0</td>\n",
       "      <td>0</td>\n",
       "      <td>0</td>\n",
       "      <td>0</td>\n",
       "      <td>0</td>\n",
       "      <td>0</td>\n",
       "      <td>2345</td>\n",
       "      <td>26</td>\n",
       "    </tr>\n",
       "    <tr>\n",
       "      <th>1</th>\n",
       "      <td>0</td>\n",
       "      <td>994</td>\n",
       "      <td>0</td>\n",
       "      <td>0</td>\n",
       "      <td>0</td>\n",
       "      <td>985</td>\n",
       "      <td>21</td>\n",
       "      <td>2</td>\n",
       "      <td>9</td>\n",
       "      <td>3</td>\n",
       "      <td>...</td>\n",
       "      <td>0</td>\n",
       "      <td>0</td>\n",
       "      <td>0</td>\n",
       "      <td>0</td>\n",
       "      <td>0</td>\n",
       "      <td>0</td>\n",
       "      <td>0</td>\n",
       "      <td>0</td>\n",
       "      <td>2345</td>\n",
       "      <td>26</td>\n",
       "    </tr>\n",
       "    <tr>\n",
       "      <th>2</th>\n",
       "      <td>0</td>\n",
       "      <td>1463</td>\n",
       "      <td>1</td>\n",
       "      <td>0</td>\n",
       "      <td>0</td>\n",
       "      <td>1450</td>\n",
       "      <td>20</td>\n",
       "      <td>0</td>\n",
       "      <td>9</td>\n",
       "      <td>3</td>\n",
       "      <td>...</td>\n",
       "      <td>2526</td>\n",
       "      <td>1</td>\n",
       "      <td>1</td>\n",
       "      <td>22</td>\n",
       "      <td>15</td>\n",
       "      <td>10</td>\n",
       "      <td>4</td>\n",
       "      <td>0</td>\n",
       "      <td>2345</td>\n",
       "      <td>26</td>\n",
       "    </tr>\n",
       "    <tr>\n",
       "      <th>3</th>\n",
       "      <td>0</td>\n",
       "      <td>1013</td>\n",
       "      <td>0</td>\n",
       "      <td>0</td>\n",
       "      <td>0</td>\n",
       "      <td>1004</td>\n",
       "      <td>23</td>\n",
       "      <td>7</td>\n",
       "      <td>9</td>\n",
       "      <td>3</td>\n",
       "      <td>...</td>\n",
       "      <td>980</td>\n",
       "      <td>1</td>\n",
       "      <td>1</td>\n",
       "      <td>22</td>\n",
       "      <td>15</td>\n",
       "      <td>10</td>\n",
       "      <td>4</td>\n",
       "      <td>0</td>\n",
       "      <td>2345</td>\n",
       "      <td>26</td>\n",
       "    </tr>\n",
       "    <tr>\n",
       "      <th>4</th>\n",
       "      <td>0</td>\n",
       "      <td>3649</td>\n",
       "      <td>0</td>\n",
       "      <td>0</td>\n",
       "      <td>0</td>\n",
       "      <td>3622</td>\n",
       "      <td>19</td>\n",
       "      <td>17</td>\n",
       "      <td>9</td>\n",
       "      <td>3</td>\n",
       "      <td>...</td>\n",
       "      <td>1444</td>\n",
       "      <td>1</td>\n",
       "      <td>1</td>\n",
       "      <td>21</td>\n",
       "      <td>14</td>\n",
       "      <td>10</td>\n",
       "      <td>4</td>\n",
       "      <td>0</td>\n",
       "      <td>2345</td>\n",
       "      <td>26</td>\n",
       "    </tr>\n",
       "  </tbody>\n",
       "</table>\n",
       "<p>5 rows × 46 columns</p>\n",
       "</div>"
      ],
      "text/plain": [
       "   bias  word  word.isdigit()  word.istitle()  word.isupper()  word.lower()  \\\n",
       "0     0  2560               0               0               0          2539   \n",
       "1     0   994               0               0               0           985   \n",
       "2     0  1463               1               0               0          1450   \n",
       "3     0  1013               0               0               0          1004   \n",
       "4     0  3649               0               0               0          3622   \n",
       "\n",
       "   pos  pos[:1]  ne  ne[:1]  ...  -2:word.lower()  -2:word.istitle()  \\\n",
       "0   21        2   9       3  ...                0                  0   \n",
       "1   21        2   9       3  ...                0                  0   \n",
       "2   20        0   9       3  ...             2526                  1   \n",
       "3   23        7   9       3  ...              980                  1   \n",
       "4   19       17   9       3  ...             1444                  1   \n",
       "\n",
       "   -2:word.isupper()  -2:pos  -2:pos[:1]  -2:ne  -2:ne[:1]  EOS    ID  label  \n",
       "0                  0       0           0      0          0    0  2345     26  \n",
       "1                  0       0           0      0          0    0  2345     26  \n",
       "2                  1      22          15     10          4    0  2345     26  \n",
       "3                  1      22          15     10          4    0  2345     26  \n",
       "4                  1      21          14     10          4    0  2345     26  \n",
       "\n",
       "[5 rows x 46 columns]"
      ]
     },
     "execution_count": 258,
     "metadata": {},
     "output_type": "execute_result"
    }
   ],
   "source": [
    "df_train_label_01.head()"
   ]
  },
  {
   "cell_type": "code",
   "execution_count": null,
   "metadata": {},
   "outputs": [],
   "source": []
  },
  {
   "cell_type": "markdown",
   "metadata": {},
   "source": [
    "### 训练模型"
   ]
  },
  {
   "cell_type": "code",
   "execution_count": 259,
   "metadata": {
    "ExecuteTime": {
     "end_time": "2020-11-17T12:38:24.912111Z",
     "start_time": "2020-11-17T12:38:24.897111Z"
    }
   },
   "outputs": [],
   "source": [
    "from sklearn.model_selection import train_test_split\n",
    "import lightgbm as lgb"
   ]
  },
  {
   "cell_type": "code",
   "execution_count": 260,
   "metadata": {
    "ExecuteTime": {
     "end_time": "2020-11-17T12:38:27.253331Z",
     "start_time": "2020-11-17T12:38:27.146250Z"
    }
   },
   "outputs": [],
   "source": [
    "X, y = df_train_label_01[features_columns].values, df_train_label_01['label'].values"
   ]
  },
  {
   "cell_type": "code",
   "execution_count": 263,
   "metadata": {
    "ExecuteTime": {
     "end_time": "2020-11-17T12:40:02.171219Z",
     "start_time": "2020-11-17T12:40:01.997193Z"
    }
   },
   "outputs": [],
   "source": [
    "X_train, X_test, y_train, y_test = train_test_split(X, y, test_size=0.2, random_state=42)"
   ]
  },
  {
   "cell_type": "code",
   "execution_count": 264,
   "metadata": {
    "ExecuteTime": {
     "end_time": "2020-11-17T12:40:08.257190Z",
     "start_time": "2020-11-17T12:40:04.226193Z"
    },
    "scrolled": true
   },
   "outputs": [
    {
     "name": "stderr",
     "output_type": "stream",
     "text": [
      "d:\\programdata\\envs\\nlplearning\\lib\\site-packages\\lightgbm\\basic.py:842: UserWarning: silent keyword has been found in `params` and will be ignored.\n",
      "Please use silent argument of the Dataset constructor to pass this parameter.\n",
      "  .format(key))\n"
     ]
    },
    {
     "name": "stdout",
     "output_type": "stream",
     "text": [
      "[1]\tvalid_0's auc: 0.822376\n",
      "Training until validation scores don't improve for 20 rounds\n",
      "[2]\tvalid_0's auc: 0.65617\n",
      "[3]\tvalid_0's auc: 0.660165\n",
      "[4]\tvalid_0's auc: 0.66504\n",
      "[5]\tvalid_0's auc: 0.671839\n",
      "[6]\tvalid_0's auc: 0.670474\n",
      "[7]\tvalid_0's auc: 0.666769\n",
      "[8]\tvalid_0's auc: 0.671061\n",
      "[9]\tvalid_0's auc: 0.665647\n",
      "[10]\tvalid_0's auc: 0.680099\n",
      "[11]\tvalid_0's auc: 0.82902\n",
      "[12]\tvalid_0's auc: 0.774469\n",
      "[13]\tvalid_0's auc: 0.824265\n",
      "[14]\tvalid_0's auc: 0.814663\n",
      "[15]\tvalid_0's auc: 0.809568\n",
      "[16]\tvalid_0's auc: 0.816434\n",
      "[17]\tvalid_0's auc: 0.821303\n",
      "[18]\tvalid_0's auc: 0.82265\n",
      "[19]\tvalid_0's auc: 0.829351\n",
      "[20]\tvalid_0's auc: 0.835341\n",
      "[21]\tvalid_0's auc: 0.830098\n",
      "[22]\tvalid_0's auc: 0.841381\n",
      "[23]\tvalid_0's auc: 0.840242\n",
      "[24]\tvalid_0's auc: 0.844463\n",
      "[25]\tvalid_0's auc: 0.848978\n",
      "[26]\tvalid_0's auc: 0.851743\n",
      "[27]\tvalid_0's auc: 0.85189\n",
      "[28]\tvalid_0's auc: 0.852851\n",
      "[29]\tvalid_0's auc: 0.853838\n",
      "[30]\tvalid_0's auc: 0.868208\n",
      "[31]\tvalid_0's auc: 0.870056\n",
      "[32]\tvalid_0's auc: 0.874046\n",
      "[33]\tvalid_0's auc: 0.875105\n",
      "[34]\tvalid_0's auc: 0.876105\n",
      "[35]\tvalid_0's auc: 0.875763\n",
      "[36]\tvalid_0's auc: 0.875812\n",
      "[37]\tvalid_0's auc: 0.876122\n",
      "[38]\tvalid_0's auc: 0.876548\n",
      "[39]\tvalid_0's auc: 0.877899\n",
      "[40]\tvalid_0's auc: 0.878135\n",
      "[41]\tvalid_0's auc: 0.874094\n",
      "[42]\tvalid_0's auc: 0.871719\n",
      "[43]\tvalid_0's auc: 0.87056\n",
      "[44]\tvalid_0's auc: 0.872311\n",
      "[45]\tvalid_0's auc: 0.871091\n",
      "[46]\tvalid_0's auc: 0.876324\n",
      "[47]\tvalid_0's auc: 0.877312\n",
      "[48]\tvalid_0's auc: 0.880178\n",
      "[49]\tvalid_0's auc: 0.882004\n",
      "[50]\tvalid_0's auc: 0.884384\n",
      "[51]\tvalid_0's auc: 0.884019\n",
      "[52]\tvalid_0's auc: 0.883546\n",
      "[53]\tvalid_0's auc: 0.883255\n",
      "[54]\tvalid_0's auc: 0.882892\n",
      "[55]\tvalid_0's auc: 0.888263\n",
      "[56]\tvalid_0's auc: 0.888409\n",
      "[57]\tvalid_0's auc: 0.88827\n",
      "[58]\tvalid_0's auc: 0.888363\n",
      "[59]\tvalid_0's auc: 0.889469\n",
      "[60]\tvalid_0's auc: 0.889924\n",
      "[61]\tvalid_0's auc: 0.890122\n",
      "[62]\tvalid_0's auc: 0.891033\n",
      "[63]\tvalid_0's auc: 0.894446\n",
      "[64]\tvalid_0's auc: 0.892455\n",
      "[65]\tvalid_0's auc: 0.89443\n",
      "[66]\tvalid_0's auc: 0.89563\n",
      "[67]\tvalid_0's auc: 0.895982\n",
      "[68]\tvalid_0's auc: 0.895968\n",
      "[69]\tvalid_0's auc: 0.896318\n",
      "[70]\tvalid_0's auc: 0.89662\n",
      "[71]\tvalid_0's auc: 0.89592\n",
      "[72]\tvalid_0's auc: 0.897037\n",
      "[73]\tvalid_0's auc: 0.898921\n",
      "[74]\tvalid_0's auc: 0.898414\n",
      "[75]\tvalid_0's auc: 0.899251\n",
      "[76]\tvalid_0's auc: 0.89755\n",
      "[77]\tvalid_0's auc: 0.898823\n",
      "[78]\tvalid_0's auc: 0.903604\n",
      "[79]\tvalid_0's auc: 0.904504\n",
      "[80]\tvalid_0's auc: 0.905733\n",
      "[81]\tvalid_0's auc: 0.904589\n",
      "[82]\tvalid_0's auc: 0.903927\n",
      "[83]\tvalid_0's auc: 0.904671\n",
      "[84]\tvalid_0's auc: 0.90545\n",
      "[85]\tvalid_0's auc: 0.905256\n",
      "[86]\tvalid_0's auc: 0.907253\n",
      "[87]\tvalid_0's auc: 0.907613\n",
      "[88]\tvalid_0's auc: 0.907707\n",
      "[89]\tvalid_0's auc: 0.907601\n",
      "[90]\tvalid_0's auc: 0.907558\n",
      "[91]\tvalid_0's auc: 0.90812\n",
      "[92]\tvalid_0's auc: 0.90802\n",
      "[93]\tvalid_0's auc: 0.907998\n",
      "[94]\tvalid_0's auc: 0.909268\n",
      "[95]\tvalid_0's auc: 0.909585\n",
      "[96]\tvalid_0's auc: 0.909723\n",
      "[97]\tvalid_0's auc: 0.91029\n",
      "[98]\tvalid_0's auc: 0.910274\n",
      "[99]\tvalid_0's auc: 0.910845\n",
      "[100]\tvalid_0's auc: 0.91072\n",
      "[101]\tvalid_0's auc: 0.910935\n",
      "[102]\tvalid_0's auc: 0.912121\n",
      "[103]\tvalid_0's auc: 0.912507\n",
      "[104]\tvalid_0's auc: 0.912566\n",
      "[105]\tvalid_0's auc: 0.913226\n",
      "[106]\tvalid_0's auc: 0.912738\n",
      "[107]\tvalid_0's auc: 0.910987\n",
      "[108]\tvalid_0's auc: 0.909875\n",
      "[109]\tvalid_0's auc: 0.910084\n",
      "[110]\tvalid_0's auc: 0.911901\n",
      "[111]\tvalid_0's auc: 0.912521\n",
      "[112]\tvalid_0's auc: 0.912873\n",
      "[113]\tvalid_0's auc: 0.912507\n",
      "[114]\tvalid_0's auc: 0.911763\n",
      "[115]\tvalid_0's auc: 0.912384\n",
      "[116]\tvalid_0's auc: 0.912138\n",
      "[117]\tvalid_0's auc: 0.91281\n",
      "[118]\tvalid_0's auc: 0.912415\n",
      "[119]\tvalid_0's auc: 0.913242\n",
      "[120]\tvalid_0's auc: 0.912505\n",
      "[121]\tvalid_0's auc: 0.913262\n",
      "[122]\tvalid_0's auc: 0.913769\n",
      "[123]\tvalid_0's auc: 0.913517\n",
      "[124]\tvalid_0's auc: 0.913056\n",
      "[125]\tvalid_0's auc: 0.913274\n",
      "[126]\tvalid_0's auc: 0.913014\n",
      "[127]\tvalid_0's auc: 0.912332\n",
      "[128]\tvalid_0's auc: 0.911504\n",
      "[129]\tvalid_0's auc: 0.91141\n",
      "[130]\tvalid_0's auc: 0.91155\n",
      "[131]\tvalid_0's auc: 0.911194\n",
      "[132]\tvalid_0's auc: 0.911163\n",
      "[133]\tvalid_0's auc: 0.913851\n",
      "[134]\tvalid_0's auc: 0.914525\n",
      "[135]\tvalid_0's auc: 0.913523\n",
      "[136]\tvalid_0's auc: 0.914472\n",
      "[137]\tvalid_0's auc: 0.914224\n",
      "[138]\tvalid_0's auc: 0.914322\n",
      "[139]\tvalid_0's auc: 0.914585\n",
      "[140]\tvalid_0's auc: 0.914444\n",
      "[141]\tvalid_0's auc: 0.914202\n",
      "[142]\tvalid_0's auc: 0.914006\n",
      "[143]\tvalid_0's auc: 0.913306\n",
      "[144]\tvalid_0's auc: 0.913199\n",
      "[145]\tvalid_0's auc: 0.914379\n",
      "[146]\tvalid_0's auc: 0.914184\n",
      "[147]\tvalid_0's auc: 0.913965\n",
      "[148]\tvalid_0's auc: 0.914403\n",
      "[149]\tvalid_0's auc: 0.914291\n",
      "[150]\tvalid_0's auc: 0.914208\n",
      "[151]\tvalid_0's auc: 0.916373\n",
      "[152]\tvalid_0's auc: 0.916507\n",
      "[153]\tvalid_0's auc: 0.917933\n",
      "[154]\tvalid_0's auc: 0.917902\n",
      "[155]\tvalid_0's auc: 0.917886\n",
      "[156]\tvalid_0's auc: 0.917643\n",
      "[157]\tvalid_0's auc: 0.917313\n",
      "[158]\tvalid_0's auc: 0.917301\n",
      "[159]\tvalid_0's auc: 0.917641\n",
      "[160]\tvalid_0's auc: 0.916993\n",
      "[161]\tvalid_0's auc: 0.917745\n",
      "[162]\tvalid_0's auc: 0.918196\n",
      "[163]\tvalid_0's auc: 0.918128\n",
      "[164]\tvalid_0's auc: 0.918207\n",
      "[165]\tvalid_0's auc: 0.9179\n",
      "[166]\tvalid_0's auc: 0.917762\n",
      "[167]\tvalid_0's auc: 0.917745\n",
      "[168]\tvalid_0's auc: 0.917524\n",
      "[169]\tvalid_0's auc: 0.916859\n",
      "[170]\tvalid_0's auc: 0.916604\n",
      "[171]\tvalid_0's auc: 0.916403\n",
      "[172]\tvalid_0's auc: 0.916105\n",
      "[173]\tvalid_0's auc: 0.915493\n",
      "[174]\tvalid_0's auc: 0.915318\n",
      "[175]\tvalid_0's auc: 0.915569\n",
      "[176]\tvalid_0's auc: 0.917535\n",
      "[177]\tvalid_0's auc: 0.91831\n",
      "[178]\tvalid_0's auc: 0.917929\n",
      "[179]\tvalid_0's auc: 0.917758\n",
      "[180]\tvalid_0's auc: 0.917609\n",
      "[181]\tvalid_0's auc: 0.917259\n",
      "[182]\tvalid_0's auc: 0.91668\n",
      "[183]\tvalid_0's auc: 0.916626\n",
      "[184]\tvalid_0's auc: 0.916676\n",
      "[185]\tvalid_0's auc: 0.916759\n",
      "[186]\tvalid_0's auc: 0.916326\n",
      "[187]\tvalid_0's auc: 0.916033\n",
      "[188]\tvalid_0's auc: 0.915455\n",
      "[189]\tvalid_0's auc: 0.915451\n",
      "[190]\tvalid_0's auc: 0.915438\n",
      "[191]\tvalid_0's auc: 0.915539\n",
      "[192]\tvalid_0's auc: 0.915495\n",
      "[193]\tvalid_0's auc: 0.915265\n",
      "[194]\tvalid_0's auc: 0.914611\n",
      "[195]\tvalid_0's auc: 0.914695\n",
      "[196]\tvalid_0's auc: 0.915996\n",
      "[197]\tvalid_0's auc: 0.917067\n",
      "Early stopping, best iteration is:\n",
      "[177]\tvalid_0's auc: 0.91831\n"
     ]
    }
   ],
   "source": [
    "params = {\n",
    "    'task': 'train',\n",
    "    'boosting_type': 'gbdt',\n",
    "    'objective': 'binary',\n",
    "    'metric': 'auc',\n",
    "    'num_leaves': 9,\n",
    "    'learning_rate': 0.3,\n",
    "    'feature_fraction_seed': 2,\n",
    "    'feature_fraction': 0.9,\n",
    "    'bagging_fraction': 0.8,\n",
    "    'bagging_freq': 5,\n",
    "    'min_data': 20,\n",
    "    'min_hessian': 1,\n",
    "    'verbose': -1,\n",
    "    'silent': 0\n",
    "    }\n",
    "\n",
    "lgb_train = lgb.Dataset(X_train, y_train)\n",
    "lgb_eval = lgb.Dataset(X_test, y_test, reference=lgb_train)\n",
    "\n",
    "gbm = lgb.train(\n",
    "            params,\n",
    "            lgb_train,\n",
    "            num_boost_round=10000,\n",
    "            valid_sets=lgb_eval,\n",
    "            early_stopping_rounds=20\n",
    "            )"
   ]
  },
  {
   "cell_type": "code",
   "execution_count": 271,
   "metadata": {
    "ExecuteTime": {
     "end_time": "2020-11-17T12:42:23.557007Z",
     "start_time": "2020-11-17T12:42:23.551001Z"
    }
   },
   "outputs": [],
   "source": [
    "importance = list(zip(gbm.feature_importance(),features_columns))"
   ]
  },
  {
   "cell_type": "code",
   "execution_count": 274,
   "metadata": {
    "ExecuteTime": {
     "end_time": "2020-11-17T12:43:10.685193Z",
     "start_time": "2020-11-17T12:43:10.664368Z"
    }
   },
   "outputs": [
    {
     "data": {
      "text/plain": [
       "[(118, '+1:word'),\n",
       " (88, '+2:word'),\n",
       " (85, 'ne[:1]'),\n",
       " (85, '+1:word.lower()'),\n",
       " (80, 'word'),\n",
       " (75, 'word.lower()'),\n",
       " (58, '+2:word.lower()'),\n",
       " (57, '-2:word'),\n",
       " (56, '-1:word'),\n",
       " (52, '+2:ne'),\n",
       " (48, '+1:pos'),\n",
       " (47, '+2:ne[:1]'),\n",
       " (46, '+1:ne[:1]'),\n",
       " (45, '-2:word.lower()'),\n",
       " (44, 'ne'),\n",
       " (44, '+2:pos'),\n",
       " (44, '-1:pos'),\n",
       " (42, 'pos'),\n",
       " (40, '+1:ne'),\n",
       " (40, '-2:pos'),\n",
       " (35, '-1:word.lower()'),\n",
       " (34, '-1:pos[:1]'),\n",
       " (27, '-2:ne'),\n",
       " (26, '-1:ne'),\n",
       " (20, '+1:pos[:1]'),\n",
       " (20, '+2:pos[:1]'),\n",
       " (18, 'pos[:1]'),\n",
       " (16, '-2:pos[:1]'),\n",
       " (14, '-1:ne[:1]'),\n",
       " (7, '-2:ne[:1]'),\n",
       " (1, 'word.istitle()'),\n",
       " (1, '+1:word.istitle()'),\n",
       " (1, '+2:word.istitle()'),\n",
       " (1, '-1:word.istitle()'),\n",
       " (1, '-2:word.istitle()'),\n",
       " (0, 'bias'),\n",
       " (0, 'word.isdigit()'),\n",
       " (0, 'word.isupper()'),\n",
       " (0, 'BOS'),\n",
       " (0, '+1:word.isupper()'),\n",
       " (0, '+2:word.isupper()'),\n",
       " (0, '-1:word.isupper()'),\n",
       " (0, '-2:word.isupper()'),\n",
       " (0, 'EOS')]"
      ]
     },
     "execution_count": 274,
     "metadata": {},
     "output_type": "execute_result"
    }
   ],
   "source": [
    "sorted(importance, key=lambda x: x[0], reverse=True)"
   ]
  },
  {
   "cell_type": "markdown",
   "metadata": {
    "heading_collapsed": true
   },
   "source": [
    "# 其他第三方工具特征处理"
   ]
  },
  {
   "cell_type": "code",
   "execution_count": 494,
   "metadata": {
    "hidden": true
   },
   "outputs": [
    {
     "name": "stdout",
     "output_type": "stream",
     "text": [
      "Requirement already satisfied: jieba in /home/work/miniconda3/envs/pycookly/lib/python3.6/site-packages (0.42.1)\r\n"
     ]
    }
   ],
   "source": [
    "!pip install jieba"
   ]
  },
  {
   "cell_type": "code",
   "execution_count": 498,
   "metadata": {
    "hidden": true
   },
   "outputs": [],
   "source": [
    "import jieba"
   ]
  },
  {
   "cell_type": "code",
   "execution_count": 499,
   "metadata": {
    "hidden": true
   },
   "outputs": [
    {
     "name": "stdout",
     "output_type": "stream",
     "text": [
      "Full Mode: 我/ 来到/ 北京/ 清华/ 清华大学/ 华大/ 大学\n",
      "Default Mode: 我/ 来到/ 北京/ 清华大学\n",
      "他, 来到, 了, 网易, 杭研, 大厦\n",
      "小明, 硕士, 毕业, 于, 中国, 科学, 学院, 科学院, 中国科学院, 计算, 计算所, ，, 后, 在, 日本, 京都, 大学, 日本京都大学, 深造\n"
     ]
    }
   ],
   "source": [
    "seg_list = jieba.cut(\"我来到北京清华大学\", cut_all=True)\n",
    "print(\"Full Mode: \" + \"/ \".join(seg_list))  # 全模式\n",
    "\n",
    "seg_list = jieba.cut(\"我来到北京清华大学\", cut_all=False)\n",
    "print(\"Default Mode: \" + \"/ \".join(seg_list))  # 精确模式\n",
    "\n",
    "seg_list = jieba.cut(\"他来到了网易杭研大厦\")  # 默认是精确模式\n",
    "print(\", \".join(seg_list))\n",
    "\n",
    "seg_list = jieba.cut_for_search(\"小明硕士毕业于中国科学院计算所，后在日本京都大学深造\")  # 搜索引擎模式\n",
    "print(\", \".join(seg_list))"
   ]
  },
  {
   "cell_type": "code",
   "execution_count": 500,
   "metadata": {
    "hidden": true
   },
   "outputs": [
    {
     "name": "stdout",
     "output_type": "stream",
     "text": [
      "Full Mode: 我们/ 今天/ 研讨/ 的/ 问题/ 是/ 西部/ 豪宅/ ，/ 我们/ 谈到/ 西部/ 豪宅/ ，/ 必定/ 针对/ 的/ 就是/ 西部/ 客/ 群/ 。/ 无论/ 在/ 西单/ 置业/ 的/ 人/ 也好/ ，/ 甚至/ 还/ 可以/ 和/ 他/ 赌博/ 小/ 玩/ 一把/ 从/ 他/ 身上/ 赢取/ 金钱/ 。/ 可以/ 肯定/ 的/ 是/ ，/ 在/ 《/ 怒潮/ 》/ 现阶段/ 阶段/ 是/ 对/ 紫砂/ 紫砂壶/ 砂壶/ 收藏/ 与/ 投资/ 的/ 一个/ 好时机/ 时机/ ，/ 在/ 艺术/ 艺术品/ 市场/ 场上/ ，/ 何/ 道/ 洪/ 等/ 紫砂/ 工艺/ 大师/ 的/ 精品/ 备受/ 关注/ ，/ Infi/ 打算/ 顺道/ 将/ 此处/ 的/ 红龙/ 怪/ 练/ 掉/ ，/ 但/ 只/ 凭/ 大法/ 大法师/ 法师/ +/ 水/ 元素/ 两个/ 对/ 空/ 虽说/ 也/ 能/ 杀掉/ 红龙/ ，/ 学生/ elaine/ 说/ ，/ 25/ 日/ 晚/ ，/ 他们/ 一家/ 三口/ 在/ 文汇/ 路/ 的/ 教室/ 室里/ 等到/ 第二/ 第二天/ 二天/ 凌晨/ 2/ 点/ 才/ 离开/ 。/ 其间/ ，/ 但是/ ，/ 日本/ 防卫/ 省/ 要/ 引进/ f/ -/ 35/ 还/ 须/ 获得/ 日本/ 新政/ 新政府/ 政府/ 的/ 同意/ 。/ 由于/ f/ -/ 35/ 尚/ 处于/ 开发/ 开发阶段/ 阶段/ ，/ D/ 也/ 沉寂/ 了/ 大半/ 大半年/ 半年/ 年后/ 终于/ 耐不住/ 不住/ 寂寞/ ，/ 错/ ，/ 是/ 对/ 职业/ Dota/ 的/ 向往/ ，/ 他/ 回来/ 了/ ！/ 以下/ 是/ 他/ 的/ 专访/ ：/ 一/ 水/ 横亘/ 环境/ 中/ 的/ 项目/ 是非/ 非常/ 难得/ 的/ ，/ 更何况/ 何况/ 她/ 是/ 在/ 西山/ 山环/ 环抱/ 之中/ ，/ 更/ 凝聚/ 了/ 深厚/ 的/ 历史/ 人文/ 积淀/ 。\n"
     ]
    }
   ],
   "source": [
    "seg_list = jieba.cut(df_train[df_train['ID']=='820'].data.values[0], cut_all=True)\n",
    "print(\"Full Mode: \" + \"/ \".join(seg_list))  # 全模式"
   ]
  },
  {
   "cell_type": "code",
   "execution_count": 502,
   "metadata": {
    "hidden": true
   },
   "outputs": [
    {
     "name": "stdout",
     "output_type": "stream",
     "text": [
      "Full Mode: 我们 今天 研讨 的 问题 是 西部 豪宅 ， 我们 谈到 西部 豪宅 ， 必定 针对 的 就是 西部 客群 。 无论 在 西单 置业 的 人 也好 ， 甚至 还 可以 和 他 赌博 小玩 一把 从 他 身上 赢取 金钱 。 可以 肯定 的 是 ， 在 《 怒潮 》 现阶段 是 对 紫砂壶 收藏 与 投资 的 一个 好时机 ， 在 艺术品 市场 上 ， 何道 洪等 紫砂 工艺 大师 的 精品 备受 关注 ， Infi 打算 顺道 将 此处 的 红龙 怪练 掉 ， 但 只 凭 大法师 + 水 元素 两个 对空 虽说 也 能 杀掉 红龙 ， 学生 elaine 说 ， 25 日晚 ， 他们 一家 三口 在 文汇 路 的 教室 里 等到 第二天 凌晨 2 点才 离开 。 其间 ， 但是 ， 日本 防卫 省要 引进 f - 35 还须 获得 日本 新政府 的 同意 。 由于 f - 35 尚 处于 开发阶段 ， D 也 沉寂 了 大半年 后 终于 耐不住 寂寞 ， 错 ， 是 对 职业 Dota 的 向往 ， 他 回来 了 ！ 以下 是 他 的 专访 ： 一水 横亘 环境 中 的 项目 是 非常 难得 的 ， 更何况 她 是 在 西山 环抱 之中 ， 更 凝聚 了 深厚 的 历史 人文 积淀 。\n"
     ]
    }
   ],
   "source": [
    "seg_list = jieba.cut(df_train[df_train['ID']=='820'].data.values[0])\n",
    "print(\"Full Mode: \" + \" \".join(seg_list))  # 精确模式"
   ]
  },
  {
   "cell_type": "code",
   "execution_count": 513,
   "metadata": {
    "hidden": true
   },
   "outputs": [
    {
     "data": {
      "text/plain": [
       "'我们今天研讨的问题是西部豪宅，我们谈到西部豪宅，必定针对的就是西部客群。无论在西单置业的人也好，甚至还可以和他赌博小玩一把从他身上赢取金钱。可以肯定的是，在《怒潮》现阶段是对紫砂壶收藏与投资的一个好时机，在艺术品市场上，何道洪等紫砂工艺大师的精品备受关注，Infi打算顺道将此处的红龙怪练掉，但只凭大法师+水元素两个对空虽说也能杀掉红龙，学生elaine说，25日晚，他们一家三口在文汇路的教室里等到第二天凌晨2点才离开。其间，但是，日本防卫省要引进f-35还须获得日本新政府的同意。由于f-35尚处于开发阶段，D也沉寂了大半年后终于耐不住寂寞，错，是对职业Dota的向往，他回来了！以下是他的专访：一水横亘环境中的项目是非常难得的，更何况她是在西山环抱之中，更凝聚了深厚的历史人文积淀。'"
      ]
     },
     "execution_count": 513,
     "metadata": {},
     "output_type": "execute_result"
    }
   ],
   "source": [
    "df_train[df_train['ID']=='820'].data.values[0]"
   ]
  },
  {
   "cell_type": "code",
   "execution_count": null,
   "metadata": {
    "hidden": true
   },
   "outputs": [],
   "source": []
  },
  {
   "cell_type": "code",
   "execution_count": 503,
   "metadata": {
    "hidden": true
   },
   "outputs": [
    {
     "name": "stderr",
     "output_type": "stream",
     "text": [
      "Paddle enabled successfully......\n"
     ]
    },
    {
     "name": "stdout",
     "output_type": "stream",
     "text": [
      "我 r\n",
      "爱 v\n",
      "北京 LOC\n",
      "天安门 LOC\n"
     ]
    }
   ],
   "source": [
    "import jieba.posseg as pseg\n",
    "words = pseg.cut(\"我爱北京天安门\")  #jieba默认模式\n",
    "jieba.enable_paddle()  #启动paddle模式。 0.40版之后开始支持，早期版本不支持\n",
    "words = pseg.cut(\"我爱北京天安门\", use_paddle=True)  #paddle模式\n",
    "for word, flag in words:\n",
    "    print('%s %s' % (word, flag))"
   ]
  },
  {
   "cell_type": "code",
   "execution_count": null,
   "metadata": {
    "hidden": true
   },
   "outputs": [],
   "source": []
  },
  {
   "cell_type": "code",
   "execution_count": 504,
   "metadata": {
    "code_folding": [],
    "hidden": true
   },
   "outputs": [
    {
     "name": "stderr",
     "output_type": "stream",
     "text": [
      "Paddle enabled successfully......\n"
     ]
    },
    {
     "name": "stdout",
     "output_type": "stream",
     "text": [
      "我们 r\n",
      "今天 TIME\n",
      "研讨 v\n",
      "的 u\n",
      "问题 n\n",
      "是 v\n",
      "西部 f\n",
      "豪宅 n\n",
      "， v\n",
      "我们 r\n",
      "谈到 v\n",
      "西部 f\n",
      "豪宅 n\n",
      "， n\n",
      "必定 d\n",
      "针对 v\n",
      "的 u\n",
      "就是 v\n",
      "西部 f\n",
      "客群 n\n",
      "。 n\n",
      "无 c\n",
      "论 c\n",
      "在 p\n",
      "西单置业 ORG\n",
      "的 u\n",
      "人 n\n",
      "也 d\n",
      "好 d\n",
      "， v\n",
      "甚至 d\n",
      "还 d\n",
      "可以 v\n",
      "和 p\n",
      "他 r\n",
      "赌博 v\n",
      "小玩 nr\n",
      "一把 m\n",
      "从 p\n",
      "他 r\n",
      "身上 s\n",
      "赢取 v\n",
      "金钱。 nz\n",
      "可以 v\n",
      "肯定 v\n",
      "的 u\n",
      "是 v\n",
      "， v\n",
      "在 p\n",
      "《 w\n",
      "怒潮 nw\n",
      "》 w\n",
      "现阶段 t\n",
      "是 v\n",
      "对 p\n",
      "紫砂壶 n\n",
      "收藏 vn\n",
      "与 c\n",
      "投资 vn\n",
      "的 u\n",
      "一个 m\n",
      "好时机 n\n",
      "， v\n",
      "在 p\n",
      "艺术品 n\n",
      "市场 n\n",
      "上 f\n",
      "， v\n",
      "何道洪 PER\n",
      "等 u\n",
      "紫砂 n\n",
      "工艺 n\n",
      "大师 n\n",
      "的 u\n",
      "精品 n\n",
      "备受 v\n",
      "关注 v\n",
      "，Infi nr\n",
      "打算 v\n",
      "顺道 d\n",
      "将 p\n",
      "此处 s\n",
      "的 u\n",
      "红龙 n\n",
      "怪 v\n",
      "练 v\n",
      "掉 v\n",
      "， n\n",
      "但 c\n",
      "只 d\n",
      "凭 p\n",
      "大法师 n\n",
      "+ w\n",
      "水 n\n",
      "元素 n\n",
      "两个 m\n",
      "对空 vn\n",
      "虽说 c\n",
      "也 d\n",
      "能 v\n",
      "杀 v\n",
      "掉 v\n",
      "红龙 n\n",
      "， v\n",
      "学生 n\n",
      "elaine nr\n",
      "说 v\n",
      "， n\n",
      "25日晚 TIME\n",
      "， v\n",
      "他们 r\n",
      "一家 m\n",
      "三口 m\n",
      "在 p\n",
      "文汇路 LOC\n",
      "的 u\n",
      "教室 n\n",
      "里 f\n",
      "等到 v\n",
      "第二天 TIME\n",
      "凌晨2点 TIME\n",
      "才 d\n",
      "离开 v\n",
      "。 n\n",
      "其间 f\n",
      "， n\n",
      "但是 c\n",
      "， v\n",
      "日本防卫省 LOC\n",
      "要 v\n",
      "引进 v\n",
      "f xc\n",
      "- w\n",
      "35 m\n",
      "还须 d\n",
      "获得 v\n",
      "日本 LOC\n",
      "新 a\n",
      "政府 n\n",
      "的 u\n",
      "同意 vn\n",
      "。 n\n",
      "由于 p\n",
      "f xc\n",
      "- w\n",
      "35 m\n",
      "尚 d\n",
      "处于 v\n",
      "开发 vn\n",
      "阶段 n\n",
      "，D nr\n",
      "也 d\n",
      "沉寂 a\n",
      "了 u\n",
      "大 a\n",
      "半年 TIME\n",
      "后 f\n",
      "终于 d\n",
      "耐 v\n",
      "不住 v\n",
      "寂寞 an\n",
      "， v\n",
      "错 a\n",
      "， n\n",
      "是 v\n",
      "对 p\n",
      "职业 n\n",
      "Dota nr\n",
      "的 u\n",
      "向往 vn\n",
      "， v\n",
      "他 r\n",
      "回来 v\n",
      "了 u\n",
      "！ n\n",
      "以下 f\n",
      "是 v\n",
      "他 r\n",
      "的 u\n",
      "专访 vn\n",
      "： n\n",
      "一 m\n",
      "水 n\n",
      "横亘 v\n",
      "环境 n\n",
      "中 f\n",
      "的 u\n",
      "项目 n\n",
      "是 v\n",
      "非常 d\n",
      "难得 a\n",
      "的 u\n",
      "， n\n",
      "更何况 d\n",
      "她 r\n",
      "是 v\n",
      "在 p\n",
      "西山 LOC\n",
      "环抱 v\n",
      "之 u\n",
      "中， nz\n",
      "更 d\n",
      "凝聚 v\n",
      "了 u\n",
      "深厚 a\n",
      "的 u\n",
      "历史 n\n",
      "人文 n\n",
      "积淀 v\n",
      "。 n\n"
     ]
    }
   ],
   "source": [
    "words = pseg.cut(df_train[df_train['ID']=='820'].data.values[0]) #jieba默认模式\n",
    "jieba.enable_paddle() #启动paddle模式。 0.40版之后开始支持，早期版本不支持\n",
    "words = pseg.cut(df_train[df_train['ID']=='820'].data.values[0],use_paddle=True) #paddle模式\n",
    "\n",
    "for word, flag in words:\n",
    "    print('%s %s' % (word, flag))"
   ]
  },
  {
   "cell_type": "code",
   "execution_count": 511,
   "metadata": {
    "hidden": true
   },
   "outputs": [],
   "source": [
    "list_text_tags = []\n",
    "for word, flag in words:\n",
    "    for w in list(word):\n",
    "        list_text_tags += [(w, flag)]"
   ]
  },
  {
   "cell_type": "code",
   "execution_count": 234,
   "metadata": {
    "ExecuteTime": {
     "end_time": "2020-11-17T12:29:35.060822Z",
     "start_time": "2020-11-17T12:29:35.046823Z"
    },
    "hidden": true
   },
   "outputs": [],
   "source": [
    "# list_text_tags"
   ]
  },
  {
   "cell_type": "code",
   "execution_count": null,
   "metadata": {
    "hidden": true
   },
   "outputs": [],
   "source": []
  },
  {
   "cell_type": "code",
   "execution_count": 406,
   "metadata": {
    "hidden": true
   },
   "outputs": [
    {
     "data": {
      "text/html": [
       "<div>\n",
       "<style scoped>\n",
       "    .dataframe tbody tr th:only-of-type {\n",
       "        vertical-align: middle;\n",
       "    }\n",
       "\n",
       "    .dataframe tbody tr th {\n",
       "        vertical-align: top;\n",
       "    }\n",
       "\n",
       "    .dataframe thead th {\n",
       "        text-align: right;\n",
       "    }\n",
       "</style>\n",
       "<table border=\"1\" class=\"dataframe\">\n",
       "  <thead>\n",
       "    <tr style=\"text-align: right;\">\n",
       "      <th></th>\n",
       "      <th>ID</th>\n",
       "      <th>Category</th>\n",
       "      <th>Pos_b</th>\n",
       "      <th>Pos_e</th>\n",
       "      <th>Privacy</th>\n",
       "    </tr>\n",
       "  </thead>\n",
       "  <tbody>\n",
       "    <tr>\n",
       "      <th>0</th>\n",
       "      <td>820</td>\n",
       "      <td>address</td>\n",
       "      <td>39</td>\n",
       "      <td>40</td>\n",
       "      <td>西单</td>\n",
       "    </tr>\n",
       "    <tr>\n",
       "      <th>1</th>\n",
       "      <td>820</td>\n",
       "      <td>game</td>\n",
       "      <td>78</td>\n",
       "      <td>81</td>\n",
       "      <td>《怒潮》</td>\n",
       "    </tr>\n",
       "    <tr>\n",
       "      <th>2</th>\n",
       "      <td>820</td>\n",
       "      <td>name</td>\n",
       "      <td>110</td>\n",
       "      <td>112</td>\n",
       "      <td>何道洪</td>\n",
       "    </tr>\n",
       "    <tr>\n",
       "      <th>3</th>\n",
       "      <td>820</td>\n",
       "      <td>position</td>\n",
       "      <td>114</td>\n",
       "      <td>119</td>\n",
       "      <td>紫砂工艺大师</td>\n",
       "    </tr>\n",
       "    <tr>\n",
       "      <th>4</th>\n",
       "      <td>820</td>\n",
       "      <td>name</td>\n",
       "      <td>128</td>\n",
       "      <td>131</td>\n",
       "      <td>Infi</td>\n",
       "    </tr>\n",
       "    <tr>\n",
       "      <th>5</th>\n",
       "      <td>820</td>\n",
       "      <td>address</td>\n",
       "      <td>191</td>\n",
       "      <td>193</td>\n",
       "      <td>文汇路</td>\n",
       "    </tr>\n",
       "    <tr>\n",
       "      <th>6</th>\n",
       "      <td>820</td>\n",
       "      <td>name</td>\n",
       "      <td>171</td>\n",
       "      <td>176</td>\n",
       "      <td>elaine</td>\n",
       "    </tr>\n",
       "    <tr>\n",
       "      <th>7</th>\n",
       "      <td>820</td>\n",
       "      <td>position</td>\n",
       "      <td>169</td>\n",
       "      <td>170</td>\n",
       "      <td>学生</td>\n",
       "    </tr>\n",
       "    <tr>\n",
       "      <th>8</th>\n",
       "      <td>820</td>\n",
       "      <td>government</td>\n",
       "      <td>217</td>\n",
       "      <td>221</td>\n",
       "      <td>日本防卫省</td>\n",
       "    </tr>\n",
       "    <tr>\n",
       "      <th>9</th>\n",
       "      <td>820</td>\n",
       "      <td>government</td>\n",
       "      <td>233</td>\n",
       "      <td>237</td>\n",
       "      <td>日本新政府</td>\n",
       "    </tr>\n",
       "    <tr>\n",
       "      <th>10</th>\n",
       "      <td>820</td>\n",
       "      <td>game</td>\n",
       "      <td>279</td>\n",
       "      <td>282</td>\n",
       "      <td>Dota</td>\n",
       "    </tr>\n",
       "    <tr>\n",
       "      <th>11</th>\n",
       "      <td>820</td>\n",
       "      <td>scene</td>\n",
       "      <td>323</td>\n",
       "      <td>324</td>\n",
       "      <td>西山</td>\n",
       "    </tr>\n",
       "  </tbody>\n",
       "</table>\n",
       "</div>"
      ],
      "text/plain": [
       "     ID    Category  Pos_b  Pos_e Privacy\n",
       "0   820     address     39     40      西单\n",
       "1   820        game     78     81    《怒潮》\n",
       "2   820        name    110    112     何道洪\n",
       "3   820    position    114    119  紫砂工艺大师\n",
       "4   820        name    128    131    Infi\n",
       "5   820     address    191    193     文汇路\n",
       "6   820        name    171    176  elaine\n",
       "7   820    position    169    170      学生\n",
       "8   820  government    217    221   日本防卫省\n",
       "9   820  government    233    237   日本新政府\n",
       "10  820        game    279    282    Dota\n",
       "11  820       scene    323    324      西山"
      ]
     },
     "execution_count": 406,
     "metadata": {},
     "output_type": "execute_result"
    }
   ],
   "source": [
    "df_label_train[df_label_train['ID']==820]"
   ]
  },
  {
   "cell_type": "code",
   "execution_count": null,
   "metadata": {
    "hidden": true
   },
   "outputs": [],
   "source": []
  },
  {
   "cell_type": "code",
   "execution_count": 506,
   "metadata": {
    "hidden": true
   },
   "outputs": [
    {
     "name": "stdout",
     "output_type": "stream",
     "text": [
      "word 我们\t\t start: 0 \t\t end:2\n",
      "word 今天\t\t start: 2 \t\t end:4\n",
      "word 研讨\t\t start: 4 \t\t end:6\n",
      "word 的\t\t start: 6 \t\t end:7\n",
      "word 问题\t\t start: 7 \t\t end:9\n",
      "word 是\t\t start: 9 \t\t end:10\n",
      "word 西部\t\t start: 10 \t\t end:12\n",
      "word 豪宅\t\t start: 12 \t\t end:14\n",
      "word ，\t\t start: 14 \t\t end:15\n",
      "word 我们\t\t start: 15 \t\t end:17\n",
      "word 谈到\t\t start: 17 \t\t end:19\n",
      "word 西部\t\t start: 19 \t\t end:21\n",
      "word 豪宅\t\t start: 21 \t\t end:23\n",
      "word ，\t\t start: 23 \t\t end:24\n",
      "word 必定\t\t start: 24 \t\t end:26\n",
      "word 针对\t\t start: 26 \t\t end:28\n",
      "word 的\t\t start: 28 \t\t end:29\n",
      "word 就是\t\t start: 29 \t\t end:31\n",
      "word 西部\t\t start: 31 \t\t end:33\n",
      "word 客群\t\t start: 33 \t\t end:35\n",
      "word 。\t\t start: 35 \t\t end:36\n",
      "word 无论\t\t start: 36 \t\t end:38\n",
      "word 在\t\t start: 38 \t\t end:39\n",
      "word 西单\t\t start: 39 \t\t end:41\n",
      "word 置业\t\t start: 41 \t\t end:43\n",
      "word 的\t\t start: 43 \t\t end:44\n",
      "word 人\t\t start: 44 \t\t end:45\n",
      "word 也好\t\t start: 45 \t\t end:47\n",
      "word ，\t\t start: 47 \t\t end:48\n",
      "word 甚至\t\t start: 48 \t\t end:50\n",
      "word 还\t\t start: 50 \t\t end:51\n",
      "word 可以\t\t start: 51 \t\t end:53\n",
      "word 和\t\t start: 53 \t\t end:54\n",
      "word 他\t\t start: 54 \t\t end:55\n",
      "word 赌博\t\t start: 55 \t\t end:57\n",
      "word 小玩\t\t start: 57 \t\t end:59\n",
      "word 一把\t\t start: 59 \t\t end:61\n",
      "word 从\t\t start: 61 \t\t end:62\n",
      "word 他\t\t start: 62 \t\t end:63\n",
      "word 身上\t\t start: 63 \t\t end:65\n",
      "word 赢取\t\t start: 65 \t\t end:67\n",
      "word 金钱\t\t start: 67 \t\t end:69\n",
      "word 。\t\t start: 69 \t\t end:70\n",
      "word 可以\t\t start: 70 \t\t end:72\n",
      "word 肯定\t\t start: 72 \t\t end:74\n",
      "word 的\t\t start: 74 \t\t end:75\n",
      "word 是\t\t start: 75 \t\t end:76\n",
      "word ，\t\t start: 76 \t\t end:77\n",
      "word 在\t\t start: 77 \t\t end:78\n",
      "word 《\t\t start: 78 \t\t end:79\n",
      "word 怒潮\t\t start: 79 \t\t end:81\n",
      "word 》\t\t start: 81 \t\t end:82\n",
      "word 阶段\t\t start: 83 \t\t end:85\n",
      "word 现阶段\t\t start: 82 \t\t end:85\n",
      "word 是\t\t start: 85 \t\t end:86\n",
      "word 对\t\t start: 86 \t\t end:87\n",
      "word 紫砂\t\t start: 87 \t\t end:89\n",
      "word 砂壶\t\t start: 88 \t\t end:90\n",
      "word 紫砂壶\t\t start: 87 \t\t end:90\n",
      "word 收藏\t\t start: 90 \t\t end:92\n",
      "word 与\t\t start: 92 \t\t end:93\n",
      "word 投资\t\t start: 93 \t\t end:95\n",
      "word 的\t\t start: 95 \t\t end:96\n",
      "word 一个\t\t start: 96 \t\t end:98\n",
      "word 时机\t\t start: 99 \t\t end:101\n",
      "word 好时机\t\t start: 98 \t\t end:101\n",
      "word ，\t\t start: 101 \t\t end:102\n",
      "word 在\t\t start: 102 \t\t end:103\n",
      "word 艺术\t\t start: 103 \t\t end:105\n",
      "word 艺术品\t\t start: 103 \t\t end:106\n",
      "word 市场\t\t start: 106 \t\t end:108\n",
      "word 上\t\t start: 108 \t\t end:109\n",
      "word ，\t\t start: 109 \t\t end:110\n",
      "word 何道\t\t start: 110 \t\t end:112\n",
      "word 洪等\t\t start: 112 \t\t end:114\n",
      "word 紫砂\t\t start: 114 \t\t end:116\n",
      "word 工艺\t\t start: 116 \t\t end:118\n",
      "word 大师\t\t start: 118 \t\t end:120\n",
      "word 的\t\t start: 120 \t\t end:121\n",
      "word 精品\t\t start: 121 \t\t end:123\n",
      "word 备受\t\t start: 123 \t\t end:125\n",
      "word 关注\t\t start: 125 \t\t end:127\n",
      "word ，\t\t start: 127 \t\t end:128\n",
      "word Infi\t\t start: 128 \t\t end:132\n",
      "word 打算\t\t start: 132 \t\t end:134\n",
      "word 顺道\t\t start: 134 \t\t end:136\n",
      "word 将\t\t start: 136 \t\t end:137\n",
      "word 此处\t\t start: 137 \t\t end:139\n",
      "word 的\t\t start: 139 \t\t end:140\n",
      "word 红龙\t\t start: 140 \t\t end:142\n",
      "word 怪练\t\t start: 142 \t\t end:144\n",
      "word 掉\t\t start: 144 \t\t end:145\n",
      "word ，\t\t start: 145 \t\t end:146\n",
      "word 但\t\t start: 146 \t\t end:147\n",
      "word 只\t\t start: 147 \t\t end:148\n",
      "word 凭\t\t start: 148 \t\t end:149\n",
      "word 大法\t\t start: 149 \t\t end:151\n",
      "word 法师\t\t start: 150 \t\t end:152\n",
      "word 大法师\t\t start: 149 \t\t end:152\n",
      "word +\t\t start: 152 \t\t end:153\n",
      "word 水\t\t start: 153 \t\t end:154\n",
      "word 元素\t\t start: 154 \t\t end:156\n",
      "word 两个\t\t start: 156 \t\t end:158\n",
      "word 对空\t\t start: 158 \t\t end:160\n",
      "word 虽说\t\t start: 160 \t\t end:162\n",
      "word 也\t\t start: 162 \t\t end:163\n",
      "word 能\t\t start: 163 \t\t end:164\n",
      "word 杀掉\t\t start: 164 \t\t end:166\n",
      "word 红龙\t\t start: 166 \t\t end:168\n",
      "word ，\t\t start: 168 \t\t end:169\n",
      "word 学生\t\t start: 169 \t\t end:171\n",
      "word elaine\t\t start: 171 \t\t end:177\n",
      "word 说\t\t start: 177 \t\t end:178\n",
      "word ，\t\t start: 178 \t\t end:179\n",
      "word 25\t\t start: 179 \t\t end:181\n",
      "word 日晚\t\t start: 181 \t\t end:183\n",
      "word ，\t\t start: 183 \t\t end:184\n",
      "word 他们\t\t start: 184 \t\t end:186\n",
      "word 一家\t\t start: 186 \t\t end:188\n",
      "word 三口\t\t start: 188 \t\t end:190\n",
      "word 在\t\t start: 190 \t\t end:191\n",
      "word 文汇\t\t start: 191 \t\t end:193\n",
      "word 路\t\t start: 193 \t\t end:194\n",
      "word 的\t\t start: 194 \t\t end:195\n",
      "word 教室\t\t start: 195 \t\t end:197\n",
      "word 里\t\t start: 197 \t\t end:198\n",
      "word 等到\t\t start: 198 \t\t end:200\n",
      "word 第二\t\t start: 200 \t\t end:202\n",
      "word 二天\t\t start: 201 \t\t end:203\n",
      "word 第二天\t\t start: 200 \t\t end:203\n",
      "word 凌晨\t\t start: 203 \t\t end:205\n",
      "word 2\t\t start: 205 \t\t end:206\n",
      "word 点才\t\t start: 206 \t\t end:208\n",
      "word 离开\t\t start: 208 \t\t end:210\n",
      "word 。\t\t start: 210 \t\t end:211\n",
      "word 其间\t\t start: 211 \t\t end:213\n",
      "word ，\t\t start: 213 \t\t end:214\n",
      "word 但是\t\t start: 214 \t\t end:216\n",
      "word ，\t\t start: 216 \t\t end:217\n",
      "word 日本\t\t start: 217 \t\t end:219\n",
      "word 防卫\t\t start: 219 \t\t end:221\n",
      "word 省要\t\t start: 221 \t\t end:223\n",
      "word 引进\t\t start: 223 \t\t end:225\n",
      "word f\t\t start: 225 \t\t end:226\n",
      "word -\t\t start: 226 \t\t end:227\n",
      "word 35\t\t start: 227 \t\t end:229\n",
      "word 还须\t\t start: 229 \t\t end:231\n",
      "word 获得\t\t start: 231 \t\t end:233\n",
      "word 日本\t\t start: 233 \t\t end:235\n",
      "word 新政\t\t start: 235 \t\t end:237\n",
      "word 政府\t\t start: 236 \t\t end:238\n",
      "word 新政府\t\t start: 235 \t\t end:238\n",
      "word 的\t\t start: 238 \t\t end:239\n",
      "word 同意\t\t start: 239 \t\t end:241\n",
      "word 。\t\t start: 241 \t\t end:242\n",
      "word 由于\t\t start: 242 \t\t end:244\n",
      "word f\t\t start: 244 \t\t end:245\n",
      "word -\t\t start: 245 \t\t end:246\n",
      "word 35\t\t start: 246 \t\t end:248\n",
      "word 尚\t\t start: 248 \t\t end:249\n",
      "word 处于\t\t start: 249 \t\t end:251\n",
      "word 开发\t\t start: 251 \t\t end:253\n",
      "word 阶段\t\t start: 253 \t\t end:255\n",
      "word 开发阶段\t\t start: 251 \t\t end:255\n",
      "word ，\t\t start: 255 \t\t end:256\n",
      "word D\t\t start: 256 \t\t end:257\n",
      "word 也\t\t start: 257 \t\t end:258\n",
      "word 沉寂\t\t start: 258 \t\t end:260\n",
      "word 了\t\t start: 260 \t\t end:261\n",
      "word 大半\t\t start: 261 \t\t end:263\n",
      "word 半年\t\t start: 262 \t\t end:264\n",
      "word 大半年\t\t start: 261 \t\t end:264\n",
      "word 后\t\t start: 264 \t\t end:265\n",
      "word 终于\t\t start: 265 \t\t end:267\n",
      "word 不住\t\t start: 268 \t\t end:270\n",
      "word 耐不住\t\t start: 267 \t\t end:270\n",
      "word 寂寞\t\t start: 270 \t\t end:272\n",
      "word ，\t\t start: 272 \t\t end:273\n",
      "word 错\t\t start: 273 \t\t end:274\n",
      "word ，\t\t start: 274 \t\t end:275\n",
      "word 是\t\t start: 275 \t\t end:276\n",
      "word 对\t\t start: 276 \t\t end:277\n",
      "word 职业\t\t start: 277 \t\t end:279\n",
      "word Dota\t\t start: 279 \t\t end:283\n",
      "word 的\t\t start: 283 \t\t end:284\n",
      "word 向往\t\t start: 284 \t\t end:286\n",
      "word ，\t\t start: 286 \t\t end:287\n",
      "word 他\t\t start: 287 \t\t end:288\n",
      "word 回来\t\t start: 288 \t\t end:290\n",
      "word 了\t\t start: 290 \t\t end:291\n",
      "word ！\t\t start: 291 \t\t end:292\n",
      "word 以下\t\t start: 292 \t\t end:294\n",
      "word 是\t\t start: 294 \t\t end:295\n",
      "word 他\t\t start: 295 \t\t end:296\n",
      "word 的\t\t start: 296 \t\t end:297\n",
      "word 专访\t\t start: 297 \t\t end:299\n",
      "word ：\t\t start: 299 \t\t end:300\n",
      "word 一水\t\t start: 300 \t\t end:302\n",
      "word 横亘\t\t start: 302 \t\t end:304\n",
      "word 环境\t\t start: 304 \t\t end:306\n",
      "word 中\t\t start: 306 \t\t end:307\n",
      "word 的\t\t start: 307 \t\t end:308\n",
      "word 项目\t\t start: 308 \t\t end:310\n",
      "word 是\t\t start: 310 \t\t end:311\n",
      "word 非常\t\t start: 311 \t\t end:313\n",
      "word 难得\t\t start: 313 \t\t end:315\n",
      "word 的\t\t start: 315 \t\t end:316\n",
      "word ，\t\t start: 316 \t\t end:317\n",
      "word 何况\t\t start: 318 \t\t end:320\n",
      "word 更何况\t\t start: 317 \t\t end:320\n",
      "word 她\t\t start: 320 \t\t end:321\n",
      "word 是\t\t start: 321 \t\t end:322\n",
      "word 在\t\t start: 322 \t\t end:323\n",
      "word 西山\t\t start: 323 \t\t end:325\n",
      "word 环抱\t\t start: 325 \t\t end:327\n",
      "word 之中\t\t start: 327 \t\t end:329\n",
      "word ，\t\t start: 329 \t\t end:330\n",
      "word 更\t\t start: 330 \t\t end:331\n",
      "word 凝聚\t\t start: 331 \t\t end:333\n",
      "word 了\t\t start: 333 \t\t end:334\n",
      "word 深厚\t\t start: 334 \t\t end:336\n",
      "word 的\t\t start: 336 \t\t end:337\n",
      "word 历史\t\t start: 337 \t\t end:339\n",
      "word 人文\t\t start: 339 \t\t end:341\n",
      "word 积淀\t\t start: 341 \t\t end:343\n",
      "word 。\t\t start: 343 \t\t end:344\n"
     ]
    }
   ],
   "source": [
    "result = jieba.tokenize(df_train[df_train['ID']=='820'].data.values[0], mode='search')\n",
    "for tk in result:\n",
    "    print(\"word %s\\t\\t start: %d \\t\\t end:%d\" % (tk[0],tk[1],tk[2]))"
   ]
  },
  {
   "cell_type": "code",
   "execution_count": null,
   "metadata": {
    "hidden": true
   },
   "outputs": [],
   "source": []
  }
 ],
 "metadata": {
  "kernelspec": {
   "display_name": "Python 3",
   "language": "python",
   "name": "python3"
  },
  "language_info": {
   "codemirror_mode": {
    "name": "ipython",
    "version": 3
   },
   "file_extension": ".py",
   "mimetype": "text/x-python",
   "name": "python",
   "nbconvert_exporter": "python",
   "pygments_lexer": "ipython3",
   "version": "3.6.8"
  },
  "toc": {
   "base_numbering": 1,
   "nav_menu": {},
   "number_sections": true,
   "sideBar": true,
   "skip_h1_title": false,
   "title_cell": "Table of Contents",
   "title_sidebar": "Contents",
   "toc_cell": false,
   "toc_position": {
    "height": "calc(100% - 180px)",
    "left": "10px",
    "top": "150px",
    "width": "228px"
   },
   "toc_section_display": true,
   "toc_window_display": true
  },
  "varInspector": {
   "cols": {
    "lenName": 16,
    "lenType": 16,
    "lenVar": 40
   },
   "kernels_config": {
    "python": {
     "delete_cmd_postfix": "",
     "delete_cmd_prefix": "del ",
     "library": "var_list.py",
     "varRefreshCmd": "print(var_dic_list())"
    },
    "r": {
     "delete_cmd_postfix": ") ",
     "delete_cmd_prefix": "rm(",
     "library": "var_list.r",
     "varRefreshCmd": "cat(var_dic_list()) "
    }
   },
   "types_to_exclude": [
    "module",
    "function",
    "builtin_function_or_method",
    "instance",
    "_Feature"
   ],
   "window_display": false
  }
 },
 "nbformat": 4,
 "nbformat_minor": 4
}

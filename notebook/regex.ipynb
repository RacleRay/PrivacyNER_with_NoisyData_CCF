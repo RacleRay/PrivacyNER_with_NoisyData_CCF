{
 "cells": [
  {
   "cell_type": "code",
   "execution_count": 144,
   "metadata": {
    "ExecuteTime": {
     "end_time": "2020-12-06T14:35:00.280851Z",
     "start_time": "2020-12-06T14:35:00.268822Z"
    }
   },
   "outputs": [],
   "source": [
    "import re\n",
    "\n",
    "class BaseExtractor(object):\n",
    "    regex_list = [\n",
    "        re.compile(r\"base_regex\")\n",
    "    ]\n",
    "    tag_name = \"base\"\n",
    "    def extract(self, text):\n",
    "        string = text.lower()\n",
    "        ret = []\n",
    "        for regex in self.regex_list:\n",
    "            for find in regex.finditer(string):\n",
    "                ret.append([find.start(1), find.end(1), self.tag_name])\n",
    "        return ret\n",
    "\n",
    "\n",
    "class VxExtractor(BaseExtractor):\n",
    "    regex_list = [\n",
    "        re.compile(r\"微信(?:.{0,5}号)?[:：]?([a-zA-z][a-z_A-z_0-9\\_-]{5,19})\"),\n",
    "        re.compile(r\"wx(?:.{0,5}号)?[:：]?([a-zA-z][a-z_A-z_0-9\\_-]{5,19})\")\n",
    "    ]\n",
    "    tag_name = \"vx\"\n",
    "vx_extractor = VxExtractor()\n",
    "\n",
    "\n",
    "class QQExtractor(BaseExtractor):\n",
    "    regex_list = [\n",
    "        re.compile(r\"[Qq][Qq]?(?:.{0,5}群)?[:：]?([1-9][0-9]{5,11})(?:(?!@))\"),\n",
    "        re.compile(r\"[Qq][Qq]?.{0,2}微信?[:：]?([1-9][0-9]{5,11})(?:(?!@))\") # 微信号不能以数字开头，此时应为qq\n",
    "    ]\n",
    "    tag_name = \"QQ\"\n",
    "qq_extractor = QQExtractor()\n",
    "\n",
    "\n",
    "# class MobileExtractor(BaseExtractor):\n",
    "#     regex_list = [\n",
    "#         # 大陆手机\n",
    "#         re.compile(r\"((?:[(（]\\+?86[)）])?1(?:3\\d{3}|5[^4\\D]\\d{2}|8\\d{3}|7(?:[0-35-9]\\d{2}|4(?:0\\d|1[0-2]|9\\d))|9[0-35-9]\\d{2}|6[2567]\\d{2}|4(?:(?:10|4[01])\\d{3}|[68]\\d{4}|[579]\\d{2}))\\d{6})\"),\n",
    "#         # 台湾手机\n",
    "#         re.compile(r\"[(（]886[）)]?09\\d{8}\")\n",
    "#     ]\n",
    "#     tag_name = \"mobile\"\n",
    "# mobile_extractor = MobileExtractor()\n",
    "\n",
    "\n",
    "# class EmailExtractor(BaseExtractor):\n",
    "#     regex_list = [\n",
    "#         re.compile(r\"([a-zA-Z0-9._%+-]+@[a-zA-Z0-9.-]+\\.[a-zA-Z]{2,4})\"),\n",
    "#     ]\n",
    "#     tag_name = \"email\"\n",
    "# email_extractor = EmailExtractor()"
   ]
  },
  {
   "cell_type": "code",
   "execution_count": null,
   "metadata": {},
   "outputs": [],
   "source": [
    "# text = \"微信:1827967769\"\n",
    "# ret = qq_extractor.extract(text)\n",
    "# for r in ret:\n",
    "#     print(ret, text[r[0]:r[1]])\n",
    "\n",
    "# text = \"qq:2308713823\"\n",
    "# ret = qq_extractor.extract(text)\n",
    "# for r in ret:\n",
    "#     print(ret, text[r[0]:r[1]])\n",
    "\n",
    "# text = \"微信:hyl222\"\n",
    "# ret = vx_extractor.extract(text)\n",
    "# for r in ret:\n",
    "#     print(ret, text[r[0]:r[1]])"
   ]
  },
  {
   "cell_type": "code",
   "execution_count": 22,
   "metadata": {
    "ExecuteTime": {
     "end_time": "2020-12-06T12:07:18.426066Z",
     "start_time": "2020-12-06T12:07:18.404028Z"
    },
    "code_folding": []
   },
   "outputs": [],
   "source": [
    "def test_extractor(extractor, tag):\n",
    "    from glob import glob\n",
    "    import os\n",
    "    import pandas as pd\n",
    "\n",
    "    # extractor = vx_extractor\n",
    "    # tag = \"vx\"\n",
    "    train_dir = \"../data/train_data\"\n",
    "    pred_set = set()\n",
    "    labe_set = set()\n",
    "    for file_path in glob(os.path.join(train_dir, \"*.txt\")):\n",
    "        file_id = os.path.basename(file_path).split(\".\")[0]\n",
    "        with open(file_path, \"r\", encoding=\"utf8\") as r:\n",
    "            text = r.read()\n",
    "        pred_entities = extractor.extract(text)\n",
    "        for start, end, pred_tag in pred_entities:\n",
    "            assert pred_tag == tag, [pred_tag, tag]\n",
    "            pred_set.add((file_id, tag, str(start), str(end-1), text[start:end]))\n",
    "        ann_path = \"../data/train_label/\"  + file_id + \".csv\"\n",
    "        ann_df = pd.read_csv(ann_path, dtype=str)\n",
    "\n",
    "        records = ann_df.to_records(index=None)\n",
    "        records = [tuple(record) for record in records if record[1]==tag]\n",
    "        labe_set.update(records)\n",
    "    print(\"预测值和真实值第一条：\")\n",
    "    print(list(pred_set)[0])\n",
    "    print(list(labe_set)[0])\n",
    "    print(\"=\" * 66)\n",
    "\n",
    "\n",
    "    def precision_score(y_true, y_pred, average='micro'):\n",
    "        true_entities = set(y_true)\n",
    "        pred_entities = set(y_pred)\n",
    "\n",
    "        nb_correct = len(true_entities & pred_entities)\n",
    "        nb_pred = len(pred_entities)\n",
    "\n",
    "        score = nb_correct / nb_pred if nb_pred > 0 else 0\n",
    "\n",
    "        return score\n",
    "\n",
    "    def recall_score(y_true, y_pred, average='micro', suffix=False):\n",
    "        true_entities = set(y_true)\n",
    "        pred_entities = set(y_pred)\n",
    "\n",
    "        nb_correct = len(true_entities & pred_entities)\n",
    "        nb_true = len(true_entities)\n",
    "\n",
    "        score = nb_correct / nb_true if nb_true > 0 else 0\n",
    "\n",
    "        return score\n",
    "\n",
    "    def f_score(y_true, y_pred, average='micro', suffix=False):\n",
    "        true_entities = set(y_true)\n",
    "        pred_entities = set(y_pred)\n",
    "\n",
    "        nb_correct = len(true_entities & pred_entities)\n",
    "        nb_pred = len(pred_entities)\n",
    "        nb_true = len(true_entities)\n",
    "\n",
    "        p = nb_correct / nb_pred if nb_pred > 0 else 0\n",
    "        r = nb_correct / nb_true if nb_true > 0 else 0\n",
    "        score = 2 * p * r / (p + r) if p + r > 0 else 0\n",
    "\n",
    "        return score\n",
    "\n",
    "    print(f\"for {tag}: \")\n",
    "\n",
    "    precision = precision_score(labe_set, pred_set)\n",
    "    print(f\"precision: {precision}\")\n",
    "\n",
    "    recall = recall_score(labe_set, pred_set)\n",
    "    print(f\"recall: {recall}\")\n",
    "\n",
    "    f_score = f_score(labe_set, pred_set)\n",
    "    print(f\"f_score: {f_score}\")\n",
    "\n",
    "    sorted_func = lambda x: sorted(list(x), key=lambda y: (int(y[0]), int(y[2]), int(y[3])))\n",
    "    print(\"在label，不在pred\", sorted_func(labe_set-pred_set))\n",
    "    print(\"=\" * 66)\n",
    "    print(\"在pred, 不在label\", sorted_func(pred_set-labe_set))\n",
    "    print(\"\")"
   ]
  },
  {
   "cell_type": "code",
   "execution_count": 10,
   "metadata": {
    "ExecuteTime": {
     "end_time": "2020-12-06T11:29:47.148892Z",
     "start_time": "2020-12-06T11:29:40.123927Z"
    }
   },
   "outputs": [
    {
     "name": "stdout",
     "output_type": "stream",
     "text": [
      "('1503', 'vx', '35', '41', 'wwjshow')\n",
      "('1503', 'vx', '35', '41', 'wwjshow')\n",
      "for vx: \n",
      "precision: 0.9444444444444444\n",
      "recall: 0.8947368421052632\n",
      "f_score: 0.918918918918919\n",
      "在label，不在pred [('118', 'vx', '80', '86', 'lily潘小芬'), ('1801', 'vx', '56', '63', '57150788')]\n",
      "在pred, 不在label [('1345', 'vx', '60', '68', 'zzz813222')]\n",
      "\n"
     ]
    }
   ],
   "source": [
    "test_extractor(vx_extractor, \"vx\")"
   ]
  },
  {
   "cell_type": "code",
   "execution_count": 145,
   "metadata": {
    "ExecuteTime": {
     "end_time": "2020-12-06T14:35:10.520224Z",
     "start_time": "2020-12-06T14:35:02.851224Z"
    },
    "scrolled": true
   },
   "outputs": [
    {
     "name": "stdout",
     "output_type": "stream",
     "text": [
      "预测值和真实值第一条：\n",
      "('1334', 'QQ', '44', '52', '490401933')\n",
      "('1334', 'QQ', '44', '52', '490401933')\n",
      "==================================================================\n",
      "for QQ: \n",
      "precision: 0.9285714285714286\n",
      "recall: 0.9285714285714286\n",
      "f_score: 0.9285714285714286\n",
      "在label，不在pred [('272', 'QQ', '4', '12', '415392980'), ('1994', 'QQ', '7', '17', '18618193311')]\n",
      "==================================================================\n",
      "在pred, 不在label [('318', 'QQ', '10', '18', '772845851'), ('401', 'QQ', '13', '21', '764957359')]\n",
      "\n"
     ]
    }
   ],
   "source": [
    "test_extractor(qq_extractor, \"QQ\")"
   ]
  },
  {
   "cell_type": "code",
   "execution_count": null,
   "metadata": {},
   "outputs": [],
   "source": []
  },
  {
   "cell_type": "code",
   "execution_count": 197,
   "metadata": {
    "ExecuteTime": {
     "end_time": "2020-12-06T15:35:45.251592Z",
     "start_time": "2020-12-06T15:35:45.224571Z"
    }
   },
   "outputs": [],
   "source": [
    "class MobileExtractor(BaseExtractor):\n",
    "    regex_list = [\n",
    "        # 大陆手机\n",
    "        re.compile(r\"(?:电话|联系方式|Tel|TEL|手机|Mobile|聯絡|联系|咨询)?(?:.{0,10}(?:号|号码))?[:：]?((?:[(（]\\+?86[)）])?1(?:3\\d{3}|5[^4\\D]\\d{2}|8\\d{3}|7(?:[0-35-9]\\d{2}|4(?:0\\d|1[0-2]|9\\d))|9[0-35-9]\\d{2}|6[2567]\\d{2}|4(?:(?:10|4[01])\\d{3}|[68]\\d{4}|[579]\\d{2}))\\d{6})(?:(?!@))\"),\n",
    "#         re.compile(r\"([\\(（]?\\+?886[）\\)]?\\d{8})\")\n",
    "#         re.compile(r\"([(（]886[）)](?:[0-9]{8,9}|[0-9\\-]{10,11}))\"),\n",
    "        re.compile(r\"(?:电话|联系方式|Tel|TEL|手机|Mobile|聯絡|联系|咨询)?(?:.{0,10}(?:号|号码))?[:：]?([＋\\+0-9\\-\\(\\)]{11,18})\"),\n",
    "#         re.compile(r\"(?:电话|联系方式|Tel|TEL|手机|Mobile)?(?:.{0,5}(?:号|号码))?[:：]?([+0-9\\-\\(\\)]{11,16})\")\n",
    "        re.compile(r\"(（\\+?[0-9]{2,3}）(?:(?:[1-9][0-9-]{10, 12})|(?:[1-9][0-9]{8-11})))\")\n",
    "    ]\n",
    "    tag_name = \"mobile\"\n",
    "    \n",
    "    def extract(self, text):\n",
    "        string = text.lower()\n",
    "        ret = []\n",
    "        for regex in self.regex_list:\n",
    "            for find in regex.finditer(string):\n",
    "                if string[find.start(1)]=='(' and string[find.end(1)-1]==')':\n",
    "                    ret.append([find.start(1)+1, find.end(1)-1, self.tag_name])\n",
    "                elif string[find.start(1)]=='-' and string[find.end(1)-1]=='-':\n",
    "                    continue\n",
    "                elif string[find.end(1)-1] not in list('0123456789'):\n",
    "                    k = find.end(1)-1\n",
    "                    while k > find.start(1) + 5:\n",
    "                        if string[k] not in {')', '-', '）', '(', '（'}:\n",
    "                            break\n",
    "                        k -= 1\n",
    "                    ret.append([find.start(1), k, self.tag_name])\n",
    "                elif string[find.start(1)] in {')', '）', '-'}:\n",
    "                    ret.append([find.start(1)+1, find.end(1), self.tag_name])\n",
    "                elif string[find.start(1)] in {'))', '））', '--'}:\n",
    "                    ret.append([find.start(1)+2, find.end(1), self.tag_name])\n",
    "                elif string[find.start(1)] in {')))'}:\n",
    "                    ret.append([find.start(1)+3, find.end(1), self.tag_name])\n",
    "                elif string[find.end(1)] == '&':\n",
    "                    continue\n",
    "                elif len(string[find.start(1): find.end(1)]) == 18 and string[find.start(1)] == '1' and '-' not in string[find.start(1): find.end(1)] and '(' not in string[find.start(1): find.end(1)]:\n",
    "                    ret.append([find.start(1), find.start(1)+11, self.tag_name])\n",
    "                    ret.append([find.start(1)+11, find.start(1)+22, self.tag_name])\n",
    "                elif string[find.start(1): find.start(1)+4] in {'2015','2016','2017','2018','2019','2020'}:\n",
    "                    continue\n",
    "                else:\n",
    "                    ret.append([find.start(1), find.end(1), self.tag_name])\n",
    "        return ret\n",
    "    \n",
    "mobile_extractor = MobileExtractor()"
   ]
  },
  {
   "cell_type": "code",
   "execution_count": 198,
   "metadata": {
    "ExecuteTime": {
     "end_time": "2020-12-06T15:35:53.486153Z",
     "start_time": "2020-12-06T15:35:45.926059Z"
    },
    "scrolled": false
   },
   "outputs": [
    {
     "name": "stdout",
     "output_type": "stream",
     "text": [
      "预测值和真实值第一条：\n",
      "('481', 'mobile', '51', '61', '13501379817')\n",
      "('712', 'mobile', '48', '60', '+886287713553')\n",
      "==================================================================\n",
      "for mobile: \n",
      "precision: 0.8216783216783217\n",
      "recall: 0.8483754512635379\n",
      "f_score: 0.8348134991119004\n",
      "在label，不在pred [('72', 'mobile', '23', '39', '886-2369-9886#585'), ('253', 'mobile', '34', '50', '（+886）2-2752-1874'), ('288', 'mobile', '34', '46', '（852）94896744'), ('288', 'mobile', '52', '68', '（86）1380-2841-004'), ('318', 'mobile', '10', '18', '772845851'), ('318', 'mobile', '20', '26', '6821155'), ('401', 'mobile', '13', '21', '764957359'), ('432', 'mobile', '42', '63', '1861060699713940087450'), ('437', 'mobile', '41', '53', '（852）23072034'), ('657', 'mobile', '36', '54', '2335-2305/9263-3317'), ('667', 'mobile', '62', '71', '1827967769'), ('889', 'mobile', '22', '25', '2009'), ('905', 'mobile', '57', '69', '13910405280董晨'), ('1083', 'mobile', '27', '34', '23352103'), ('1123', 'mobile', '68', '77', '0988006707'), ('1147', 'mobile', '45', '64', '010-5762608757626088'), ('1161', 'mobile', '34', '41', '69010858'), ('1164', 'mobile', '49', '62', '+886)922231939'), ('1188', 'mobile', '21', '30', '0933905613'), ('1188', 'mobile', '49', '58', '0916991114'), ('1188', 'mobile', '84', '93', '0958208963'), ('1200', 'mobile', '67', '76', '0939858199'), ('1252', 'mobile', '62', '71', '1817534480'), ('1345', 'mobile', '60', '68', 'zzz813222'), ('1443', 'mobile', '53', '65', '播886933711185'), ('1589', 'mobile', '45', '52', '84682361'), ('1605', 'mobile', '26', '40', '+86-13636460588'), ('1605', 'mobile', '42', '55', '+886-936367799'), ('1621', 'mobile', '29', '51', '010-6362212113910492247'), ('1624', 'mobile', '12', '27', '+886）2-2752-1874'), ('1666', 'mobile', '74', '84', '852)6466668'), ('1689', 'mobile', '21', '48', '（852）66088899（86）13818199118'), ('1748', 'mobile', '50', '61', '852﹣23352164'), ('1794', 'mobile', '55', '66', '852-23352105'), ('1807', 'mobile', '32', '47', '(02)2781-3888#51'), ('1807', 'mobile', '58', '72', '886921-379-135('), ('1967', 'mobile', '59', '66', '25100123'), ('2028', 'mobile', '55', '69', 'r886-2-25095720'), ('2078', 'mobile', '56', '65', 'y-23352132'), ('2208', 'mobile', '11', '22', '010﹣85570230'), ('2323', 'mobile', '29', '51', '18086022688/13396088633'), ('2475', 'mobile', '21', '37', '+886-2-28318660e-')]\n",
      "==================================================================\n",
      "在pred, 不在label [('72', 'mobile', '23', '35', '886-2369-9886'), ('121', 'mobile', '78', '88', '18601200718'), ('220', 'mobile', '13', '24', '400-108-0656'), ('253', 'mobile', '40', '50', '2-2752-1874'), ('288', 'mobile', '56', '68', '1380-2841-004'), ('303', 'mobile', '59', '71', '9893810416457'), ('335', 'mobile', '55', '65', '13911181807'), ('432', 'mobile', '42', '52', '18610606997'), ('432', 'mobile', '53', '63', '13940087450'), ('661', 'mobile', '40', '50', '15012501083'), ('688', 'mobile', '138', '148', '13709391699'), ('771', 'mobile', '478', '488', '13622281980'), ('853', 'mobile', '108', '118', '15773030602'), ('905', 'mobile', '57', '67', '13910405280'), ('911', 'mobile', '19', '29', '51812323900'), ('1147', 'mobile', '45', '62', '010-57626087576260'), ('1161', 'mobile', '34', '40', '6901085'), ('1164', 'mobile', '48', '62', '(+886)922231939'), ('1331', 'mobile', '85', '102', '622848008426624641'), ('1358', 'mobile', '143', '153', '18519397416'), ('1443', 'mobile', '54', '65', '886933711185'), ('1554', 'mobile', '40', '50', '18611732247'), ('1605', 'mobile', '25', '40', '(+86-13636460588'), ('1605', 'mobile', '30', '40', '13636460588'), ('1605', 'mobile', '42', '54', '+886-93636779'), ('1621', 'mobile', '29', '46', '010-63622121139104'), ('1621', 'mobile', '41', '51', '13910492247'), ('1624', 'mobile', '17', '27', '2-2752-1874'), ('1666', 'mobile', '73', '85', '(852)64666681'), ('1689', 'mobile', '34', '48', '（86）13818199118'), ('1689', 'mobile', '38', '48', '13818199118'), ('1794', 'mobile', '55', '65', '852-2335210'), ('1807', 'mobile', '32', '44', '(02)2781-3888'), ('1807', 'mobile', '56', '70', ')+886921-379-13'), ('1811', 'mobile', '144', '154', '13019275556'), ('1819', 'mobile', '31', '41', '13911263572'), ('1828', 'mobile', '57', '66', '1361118508'), ('1942', 'mobile', '41', '56', '1069220286862210'), ('1994', 'mobile', '7', '17', '18618193311'), ('1994', 'mobile', '53', '63', '18618193311'), ('2028', 'mobile', '56', '69', '886-2-25095720'), ('2046', 'mobile', '54', '64', '13811552015'), ('2189', 'mobile', '55', '65', '13426245800'), ('2213', 'mobile', '26', '43', '623190000014772320'), ('2213', 'mobile', '29', '39', '19000001477'), ('2243', 'mobile', '0', '10', '13659248528'), ('2260', 'mobile', '170', '180', '13530303703'), ('2323', 'mobile', '29', '39', '18086022688'), ('2323', 'mobile', '41', '51', '13396088633'), ('2345', 'mobile', '83', '93', '18757051248'), ('2475', 'mobile', '21', '35', '+886-2-28318660')]\n",
      "\n"
     ]
    }
   ],
   "source": [
    "test_extractor(mobile_extractor, \"mobile\")"
   ]
  },
  {
   "cell_type": "code",
   "execution_count": null,
   "metadata": {},
   "outputs": [],
   "source": []
  },
  {
   "cell_type": "code",
   "execution_count": 136,
   "metadata": {
    "ExecuteTime": {
     "end_time": "2020-12-06T14:29:33.504247Z",
     "start_time": "2020-12-06T14:29:33.489247Z"
    },
    "code_folding": []
   },
   "outputs": [],
   "source": [
    "class EmailExtractor(BaseExtractor):\n",
    "    regex_list = [\n",
    "        re.compile(r\"([a-zA-Z0-9._%+-]+@[a-zA-Z0-9.-]+\\.(?:com|cn|hk|net|asia|tw|org|edu))\"),\n",
    "    ]\n",
    "    tag_name = \"email\"\n",
    "    \n",
    "    def extract(self, text):\n",
    "        string = text.lower()\n",
    "        ret = []\n",
    "        for regex in self.regex_list:\n",
    "            for find in regex.finditer(string):\n",
    "                if string[find.start(1)]=='-':\n",
    "                    ret.append([find.start(1)+1, find.end(1), self.tag_name])\n",
    "                else:\n",
    "                    ret.append([find.start(1), find.end(1), self.tag_name])\n",
    "        return ret\n",
    "                \n",
    "email_extractor = EmailExtractor()"
   ]
  },
  {
   "cell_type": "code",
   "execution_count": 137,
   "metadata": {
    "ExecuteTime": {
     "end_time": "2020-12-06T14:29:41.457285Z",
     "start_time": "2020-12-06T14:29:34.266036Z"
    }
   },
   "outputs": [
    {
     "name": "stdout",
     "output_type": "stream",
     "text": [
      "预测值和真实值第一条：\n",
      "('767', 'email', '43', '60', 'chrissyliu@mac.com')\n",
      "('767', 'email', '43', '60', 'chrissyliu@mac.com')\n",
      "==================================================================\n",
      "for email: \n",
      "precision: 0.9221789883268483\n",
      "recall: 0.915057915057915\n",
      "f_score: 0.9186046511627907\n",
      "在label，不在pred [('221', 'email', '17', '35', 'www.starmusichk.com'), ('288', 'email', '69', '89', 'bill_yeung@uih.com.hk'), ('465', 'email', '14', '25', '金晶kinkiemail'), ('559', 'email', '35', '58', 'jeffreychen@vip.sina.com'), ('568', 'email', '44', '67', 'Calvin-c2009@hotmail.com'), ('574', 'email', '7', '25', 'jimmylin@jimmylin.a'), ('712', 'email', '16', '40', 'den02162000@chicgroup.com'), ('1461', 'email', '68', '81', 'info@wowmusic.'), ('1507', 'email', '12', '37', 'yabinstudio@sina.com@music'), ('1521', 'email', '26', '46', 'mailyaoavnu@gmail.com'), ('1531', 'email', '60', '83', \"'pamela@dreamstardom.com\"), ('1613', 'email', '57', '74', 'www.celinajade.com'), ('1773', 'email', '23', '44', 'rickylin7028@gmail.com'), ('1773', 'email', '67', '86', 'emilykuo77@gmail.com'), ('1820', 'email', '54', '60', 'kenneth'), ('1924', 'email', '34', '58', 'onymoore@summus-group.com'), ('1959', 'email', '47', '71', '高一桉gya2012vip@sina.com...'), ('1993', 'email', '50', '69', 'aben@alegendstar.com'), ('2128', 'email', '17', '44', 'jessicafplydia@yahoo.com.hk.'), ('2217', 'email', '8', '18', 'GaryCheung@'), ('2233', 'email', '38', '55', 'winpy.lau@tvb.com.'), ('2382', 'email', '32', '47', '发bjliuyh@126.com')]\n",
      "==================================================================\n",
      "在pred, 不在label [('288', 'email', '56', '89', '1380-2841-004bill_yeung@uih.com.hk'), ('515', 'email', '60', '81', 'jamcast@jamcast.com.hk'), ('559', 'email', '29', '58', 'E-Mailjeffreychen@vip.sina.com'), ('568', 'email', '43', '67', '.Calvin-c2009@hotmail.com'), ('574', 'email', '7', '28', 'jimmylin@jimmylin.asia'), ('712', 'email', '16', '43', 'den02162000@chicgroup.com.tw'), ('741', 'email', '28', '43', '228302448@qq.com'), ('1461', 'email', '68', '83', 'info@wowmusic.hk'), ('1507', 'email', '12', '31', 'yabinstudio@sina.com'), ('1521', 'email', '24', '46', 'E-mailyaoavnu@gmail.com'), ('1531', 'email', '61', '83', 'pamela@dreamstardom.com'), ('1773', 'email', '10', '44', '+886975567203rickylin7028@gmail.com'), ('1773', 'email', '54', '86', '+886963333960emilykuo77@gmail.com'), ('1924', 'email', '33', '58', 'tonymoore@summus-group.com'), ('1959', 'email', '50', '68', 'gya2012vip@sina.com'), ('1993', 'email', '37', '69', '+886227627111aben@alegendstar.com'), ('2128', 'email', '17', '43', 'jessicafplydia@yahoo.com.hk'), ('2207', 'email', '105', '122', 'abbyeung@gmail.com'), ('2233', 'email', '38', '57', 'winpy.lau@tvb.com.hk'), ('2382', 'email', '33', '47', 'bjliuyh@126.com')]\n",
      "\n"
     ]
    }
   ],
   "source": [
    "test_extractor(email_extractor, \"email\")"
   ]
  },
  {
   "cell_type": "code",
   "execution_count": null,
   "metadata": {},
   "outputs": [],
   "source": []
  },
  {
   "cell_type": "code",
   "execution_count": null,
   "metadata": {},
   "outputs": [],
   "source": []
  },
  {
   "cell_type": "code",
   "execution_count": null,
   "metadata": {},
   "outputs": [],
   "source": []
  },
  {
   "cell_type": "code",
   "execution_count": 199,
   "metadata": {
    "ExecuteTime": {
     "end_time": "2020-12-06T15:38:41.941218Z",
     "start_time": "2020-12-06T15:38:41.931184Z"
    }
   },
   "outputs": [],
   "source": [
    "def pred_extractor(extractor, tag):\n",
    "    from glob import glob\n",
    "    import os\n",
    "    import pandas as pd\n",
    "\n",
    "    # extractor = vx_extractor\n",
    "    # tag = \"vx\"\n",
    "    train_dir = \"../data/test_data\"\n",
    "    pred_set = set()\n",
    "    for file_path in glob(os.path.join(train_dir, \"*.txt\")):\n",
    "        file_id = os.path.basename(file_path).split(\".\")[0]\n",
    "        with open(file_path, \"r\", encoding=\"utf8\") as r:\n",
    "            text = r.read()\n",
    "        pred_entities = extractor.extract(text)\n",
    "        for start, end, pred_tag in pred_entities:\n",
    "            assert pred_tag == tag, [pred_tag, tag]\n",
    "            pred_set.add((file_id, tag, str(start), str(end-1), text[start:end]))\n",
    "    print(\"预测值\")\n",
    "    print(list(pred_set)[0])\n",
    "    print(\"=\" * 66)\n",
    "    return pred_set"
   ]
  },
  {
   "cell_type": "code",
   "execution_count": 202,
   "metadata": {
    "ExecuteTime": {
     "end_time": "2020-12-06T15:47:33.886817Z",
     "start_time": "2020-12-06T15:47:30.460289Z"
    }
   },
   "outputs": [
    {
     "name": "stdout",
     "output_type": "stream",
     "text": [
      "预测值\n",
      "('1866', 'vx', '33', '45', 'hermesxiaomei')\n",
      "==================================================================\n",
      "预测值\n",
      "('1100', 'QQ', '19', '27', '116463151')\n",
      "==================================================================\n",
      "预测值\n",
      "('213', 'mobile', '58', '68', '18613866608')\n",
      "==================================================================\n",
      "预测值\n",
      "('1880', 'email', '28', '43', 'x-xxx2012@qq.com')\n",
      "==================================================================\n"
     ]
    }
   ],
   "source": [
    "vx = pred_extractor(vx_extractor, 'vx')\n",
    "qq = pred_extractor(qq_extractor, 'QQ')\n",
    "mobile = pred_extractor(mobile_extractor, 'mobile')\n",
    "email = pred_extractor(email_extractor, 'email')"
   ]
  },
  {
   "cell_type": "code",
   "execution_count": null,
   "metadata": {},
   "outputs": [],
   "source": []
  },
  {
   "cell_type": "code",
   "execution_count": 203,
   "metadata": {
    "ExecuteTime": {
     "end_time": "2020-12-06T15:51:31.807965Z",
     "start_time": "2020-12-06T15:51:31.793929Z"
    }
   },
   "outputs": [],
   "source": [
    "import pandas as pd"
   ]
  },
  {
   "cell_type": "code",
   "execution_count": null,
   "metadata": {},
   "outputs": [],
   "source": [
    "df_ret = {'ID':[],'Category':[],'Pos_b':[],'Pos_e':[],'Privacy':[]}\n",
    "df_scores = {'strings': [], 'score': []}"
   ]
  }
 ],
 "metadata": {
  "kernelspec": {
   "display_name": "Python 3",
   "language": "python",
   "name": "python3"
  },
  "language_info": {
   "codemirror_mode": {
    "name": "ipython",
    "version": 3
   },
   "file_extension": ".py",
   "mimetype": "text/x-python",
   "name": "python",
   "nbconvert_exporter": "python",
   "pygments_lexer": "ipython3",
   "version": "3.6.8"
  },
  "toc": {
   "base_numbering": 1,
   "nav_menu": {},
   "number_sections": true,
   "sideBar": true,
   "skip_h1_title": false,
   "title_cell": "Table of Contents",
   "title_sidebar": "Contents",
   "toc_cell": false,
   "toc_position": {},
   "toc_section_display": true,
   "toc_window_display": false
  },
  "varInspector": {
   "cols": {
    "lenName": 16,
    "lenType": 16,
    "lenVar": 40
   },
   "kernels_config": {
    "python": {
     "delete_cmd_postfix": "",
     "delete_cmd_prefix": "del ",
     "library": "var_list.py",
     "varRefreshCmd": "print(var_dic_list())"
    },
    "r": {
     "delete_cmd_postfix": ") ",
     "delete_cmd_prefix": "rm(",
     "library": "var_list.r",
     "varRefreshCmd": "cat(var_dic_list()) "
    }
   },
   "types_to_exclude": [
    "module",
    "function",
    "builtin_function_or_method",
    "instance",
    "_Feature"
   ],
   "window_display": false
  }
 },
 "nbformat": 4,
 "nbformat_minor": 4
}

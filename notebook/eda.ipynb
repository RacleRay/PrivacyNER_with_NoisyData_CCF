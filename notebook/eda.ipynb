{
 "cells": [
  {
   "cell_type": "code",
   "execution_count": 1,
   "metadata": {
    "ExecuteTime": {
     "end_time": "2020-11-16T14:20:10.873567Z",
     "start_time": "2020-11-16T14:20:06.176670Z"
    }
   },
   "outputs": [],
   "source": [
    "from imp import reload\n",
    "from utils import utils\n",
    "from glob import glob\n",
    "from tqdm import tqdm\n",
    "import pandas as pd\n",
    "import numpy as np\n",
    "import os\n",
    "import re\n",
    "reload(utils)\n",
    "from matplotlib import pyplot as plt"
   ]
  },
  {
   "cell_type": "code",
   "execution_count": 2,
   "metadata": {
    "ExecuteTime": {
     "end_time": "2020-11-16T14:20:15.800880Z",
     "start_time": "2020-11-16T14:20:15.753847Z"
    }
   },
   "outputs": [
    {
     "name": "stdout",
     "output_type": "stream",
     "text": [
      "train txt file:2515\n",
      "test txt file:3956\n"
     ]
    }
   ],
   "source": [
    "# 统计训练集 txt 的数量\n",
    "# 统计测试集 txt 的数量\n",
    "print('train txt file:{}'.format(len(glob('../data/train_data/*.txt'))))\n",
    "print('test txt file:{}'.format(len(glob('../data/test_data/*.txt'))))"
   ]
  },
  {
   "cell_type": "code",
   "execution_count": 3,
   "metadata": {
    "ExecuteTime": {
     "end_time": "2020-11-16T14:20:22.995340Z",
     "start_time": "2020-11-16T14:20:16.633329Z"
    }
   },
   "outputs": [
    {
     "name": "stderr",
     "output_type": "stream",
     "text": [
      "100%|████████████████████████████| 2515/2515 [00:06<00:00, 398.76it/s]\n"
     ]
    }
   ],
   "source": [
    "# 对标签进行分析\n",
    "label_lst = glob('../data/train_label/*.csv')\n",
    "\n",
    "label_total = []\n",
    "for i in tqdm(label_lst):\n",
    "    label_total.append(pd.read_csv(i).values)\n",
    "\n",
    "label_total = np.concatenate(label_total, axis=0)\n",
    "label_total = pd.DataFrame(\n",
    "    label_total, columns=['ID', 'Category', 'Pos_b', 'Pos_e', 'Privacy'])"
   ]
  },
  {
   "cell_type": "markdown",
   "metadata": {
    "ExecuteTime": {
     "end_time": "2020-11-16T08:06:42.078697Z",
     "start_time": "2020-11-16T08:06:42.047663Z"
    }
   },
   "source": [
    "### 查看标签种类"
   ]
  },
  {
   "cell_type": "code",
   "execution_count": 4,
   "metadata": {
    "ExecuteTime": {
     "end_time": "2020-11-16T14:20:23.761675Z",
     "start_time": "2020-11-16T14:20:23.742707Z"
    }
   },
   "outputs": [
    {
     "name": "stdout",
     "output_type": "stream",
     "text": [
      "['QQ' 'address' 'book' 'company' 'email' 'game' 'government' 'mobile'\n",
      " 'movie' 'name' 'organization' 'position' 'scene' 'vx']\n"
     ]
    }
   ],
   "source": [
    "print(np.unique(label_total.Category))"
   ]
  },
  {
   "cell_type": "markdown",
   "metadata": {
    "ExecuteTime": {
     "end_time": "2020-11-16T08:06:47.295949Z",
     "start_time": "2020-11-16T08:06:47.270979Z"
    }
   },
   "source": [
    "### 查看标签分布"
   ]
  },
  {
   "cell_type": "code",
   "execution_count": 5,
   "metadata": {
    "ExecuteTime": {
     "end_time": "2020-11-16T14:20:25.022195Z",
     "start_time": "2020-11-16T14:20:24.998161Z"
    }
   },
   "outputs": [
    {
     "data": {
      "text/plain": [
       "position        3580\n",
       "name            3422\n",
       "organization    2329\n",
       "company         2150\n",
       "address         2056\n",
       "movie           1901\n",
       "game            1571\n",
       "government      1187\n",
       "scene            990\n",
       "book             734\n",
       "mobile           277\n",
       "email            259\n",
       "QQ                28\n",
       "vx                19\n",
       "Name: Category, dtype: int64"
      ]
     },
     "execution_count": 5,
     "metadata": {},
     "output_type": "execute_result"
    }
   ],
   "source": [
    "pd.value_counts(label_total.Category)"
   ]
  },
  {
   "cell_type": "markdown",
   "metadata": {},
   "source": [
    "结论：部分标签较少，\n",
    "mobile，\n",
    "email，\n",
    "QQ，vx这几类可以想办法使用规则方式进行匹配"
   ]
  },
  {
   "cell_type": "markdown",
   "metadata": {
    "ExecuteTime": {
     "end_time": "2020-11-16T12:46:48.206656Z",
     "start_time": "2020-11-16T12:46:48.182634Z"
    }
   },
   "source": [
    "### 查看是否每个 train data 的 txt 都是没换行符号"
   ]
  },
  {
   "cell_type": "code",
   "execution_count": 6,
   "metadata": {
    "ExecuteTime": {
     "end_time": "2020-11-16T14:20:30.349418Z",
     "start_time": "2020-11-16T14:20:30.328417Z"
    }
   },
   "outputs": [],
   "source": [
    "tdata_lst = glob('../data/train_data/*.txt')"
   ]
  },
  {
   "cell_type": "code",
   "execution_count": 7,
   "metadata": {
    "ExecuteTime": {
     "end_time": "2020-11-16T14:20:31.275477Z",
     "start_time": "2020-11-16T14:20:30.828477Z"
    }
   },
   "outputs": [],
   "source": [
    "for td in tdata_lst:\n",
    "    if len(utils.read_txt(td))!=1:\n",
    "        print(td)"
   ]
  },
  {
   "cell_type": "markdown",
   "metadata": {},
   "source": [
    "- `../data/train_data/2162.txt`\n",
    "- `../data/train_data/1907.txt`\n",
    "- `../data/train_data/488.txt`\n",
    "- `../data/train_data/2048.txt`\n",
    "- `../data/train_data/747.txt`\n",
    "- `../data/train_data/1571.txt`\n",
    "- `../data/train_data/1501.txt`"
   ]
  },
  {
   "cell_type": "markdown",
   "metadata": {},
   "source": [
    "结论：以上txt中存在换行符，处理时可以将其删除"
   ]
  },
  {
   "cell_type": "markdown",
   "metadata": {
    "ExecuteTime": {
     "end_time": "2020-11-16T12:48:02.284810Z",
     "start_time": "2020-11-16T12:48:01.576812Z"
    }
   },
   "source": [
    "### 查看每个 train data 的 txt 中的长度"
   ]
  },
  {
   "cell_type": "code",
   "execution_count": 8,
   "metadata": {
    "ExecuteTime": {
     "end_time": "2020-11-16T14:20:36.693580Z",
     "start_time": "2020-11-16T14:20:36.085583Z"
    }
   },
   "outputs": [
    {
     "data": {
      "text/plain": [
       "(array([4.570e+02, 1.025e+03, 3.900e+02, 1.970e+02, 1.410e+02, 8.700e+01,\n",
       "        7.400e+01, 4.200e+01, 2.800e+01, 2.300e+01, 2.100e+01, 9.000e+00,\n",
       "        9.000e+00, 4.000e+00, 0.000e+00, 2.000e+00, 2.000e+00, 3.000e+00,\n",
       "        0.000e+00, 1.000e+00]),\n",
       " array([  6. ,  54.4, 102.8, 151.2, 199.6, 248. , 296.4, 344.8, 393.2,\n",
       "        441.6, 490. , 538.4, 586.8, 635.2, 683.6, 732. , 780.4, 828.8,\n",
       "        877.2, 925.6, 974. ]),\n",
       " <a list of 20 Patch objects>)"
      ]
     },
     "execution_count": 8,
     "metadata": {},
     "output_type": "execute_result"
    },
    {
     "data": {
      "image/png": "[encoded data removed]",
      "text/plain": [
       "<Figure size 432x288 with 1 Axes>"
      ]
     },
     "metadata": {
      "needs_background": "light"
     },
     "output_type": "display_data"
    }
   ],
   "source": [
    "len_lst = []\n",
    "for td in tdata_lst:\n",
    "    len_lst.append(len(utils.read_txt(td)[0]))\n",
    "plt.hist(len_lst,bins=20)"
   ]
  },
  {
   "cell_type": "markdown",
   "metadata": {},
   "source": [
    "结论：较长的文本，可以后处理为较短的文本，注意不要将 标记 分开了"
   ]
  },
  {
   "cell_type": "markdown",
   "metadata": {},
   "source": [
    "### test data中的长度分析"
   ]
  },
  {
   "cell_type": "code",
   "execution_count": 9,
   "metadata": {
    "ExecuteTime": {
     "end_time": "2020-11-16T14:20:43.949353Z",
     "start_time": "2020-11-16T14:20:42.258332Z"
    }
   },
   "outputs": [
    {
     "name": "stdout",
     "output_type": "stream",
     "text": [
      "../data/test_data\\1290.txt\n",
      "../data/test_data\\2652.txt\n",
      "../data/test_data\\2673.txt\n",
      "../data/test_data\\3932.txt\n",
      "../data/test_data\\44.txt\n"
     ]
    },
    {
     "data": {
      "text/plain": [
       "(array([4.170e+02, 2.807e+03, 3.330e+02, 1.560e+02, 9.000e+01, 5.500e+01,\n",
       "        3.900e+01, 1.800e+01, 1.300e+01, 1.100e+01, 3.000e+00, 5.000e+00,\n",
       "        4.000e+00, 0.000e+00, 2.000e+00, 0.000e+00, 0.000e+00, 0.000e+00,\n",
       "        0.000e+00, 3.000e+00]),\n",
       " array([   5.  ,   59.25,  113.5 ,  167.75,  222.  ,  276.25,  330.5 ,\n",
       "         384.75,  439.  ,  493.25,  547.5 ,  601.75,  656.  ,  710.25,\n",
       "         764.5 ,  818.75,  873.  ,  927.25,  981.5 , 1035.75, 1090.  ]),\n",
       " <a list of 20 Patch objects>)"
      ]
     },
     "execution_count": 9,
     "metadata": {},
     "output_type": "execute_result"
    },
    {
     "data": {
      "image/png": "[encoded data removed]",
      "text/plain": [
       "<Figure size 432x288 with 1 Axes>"
      ]
     },
     "metadata": {
      "needs_background": "light"
     },
     "output_type": "display_data"
    }
   ],
   "source": [
    "# 查看是否每个 test data 的 txt 都是没换行符号\n",
    "tedata_lst = glob('../data/test_data/*.txt')\n",
    "for td in tedata_lst:\n",
    "    if len(utils.read_txt(td)) != 1:\n",
    "        print(td)\n",
    "\n",
    "        \n",
    "# 查看每个 test data 的 txt 中的长度\n",
    "len_te_lst = []\n",
    "for td in tedata_lst:\n",
    "    len_te_lst.append(len(utils.read_txt(td)[0]))\n",
    "plt.hist(len_te_lst, bins=20)"
   ]
  },
  {
   "cell_type": "markdown",
   "metadata": {},
   "source": [
    "结论：若预测标签中存在换行符，注意在预测结果中删除换行符"
   ]
  },
  {
   "cell_type": "markdown",
   "metadata": {},
   "source": [
    "### movie标签中存在的起止标点符号问题"
   ]
  },
  {
   "cell_type": "code",
   "execution_count": 13,
   "metadata": {
    "ExecuteTime": {
     "end_time": "2020-11-16T14:22:26.823262Z",
     "start_time": "2020-11-16T14:22:26.798234Z"
    }
   },
   "outputs": [
    {
     "data": {
      "text/html": [
       "<div>\n",
       "<style scoped>\n",
       "    .dataframe tbody tr th:only-of-type {\n",
       "        vertical-align: middle;\n",
       "    }\n",
       "\n",
       "    .dataframe tbody tr th {\n",
       "        vertical-align: top;\n",
       "    }\n",
       "\n",
       "    .dataframe thead th {\n",
       "        text-align: right;\n",
       "    }\n",
       "</style>\n",
       "<table border=\"1\" class=\"dataframe\">\n",
       "  <thead>\n",
       "    <tr style=\"text-align: right;\">\n",
       "      <th></th>\n",
       "      <th>ID</th>\n",
       "      <th>Category</th>\n",
       "      <th>Pos_b</th>\n",
       "      <th>Pos_e</th>\n",
       "      <th>Privacy</th>\n",
       "    </tr>\n",
       "  </thead>\n",
       "  <tbody>\n",
       "    <tr>\n",
       "      <th>2</th>\n",
       "      <td>0</td>\n",
       "      <td>movie</td>\n",
       "      <td>87</td>\n",
       "      <td>91</td>\n",
       "      <td>《上海滩》</td>\n",
       "    </tr>\n",
       "    <tr>\n",
       "      <th>65</th>\n",
       "      <td>1004</td>\n",
       "      <td>movie</td>\n",
       "      <td>74</td>\n",
       "      <td>78</td>\n",
       "      <td>《坏习惯》</td>\n",
       "    </tr>\n",
       "    <tr>\n",
       "      <th>83</th>\n",
       "      <td>1006</td>\n",
       "      <td>movie</td>\n",
       "      <td>181</td>\n",
       "      <td>186</td>\n",
       "      <td>《蜘蛛侠2》</td>\n",
       "    </tr>\n",
       "    <tr>\n",
       "      <th>111</th>\n",
       "      <td>1011</td>\n",
       "      <td>movie</td>\n",
       "      <td>66</td>\n",
       "      <td>75</td>\n",
       "      <td>（Wheelman）</td>\n",
       "    </tr>\n",
       "    <tr>\n",
       "      <th>112</th>\n",
       "      <td>1011</td>\n",
       "      <td>movie</td>\n",
       "      <td>59</td>\n",
       "      <td>65</td>\n",
       "      <td>《汽车驾驶员》</td>\n",
       "    </tr>\n",
       "  </tbody>\n",
       "</table>\n",
       "</div>"
      ],
      "text/plain": [
       "       ID Category Pos_b Pos_e     Privacy\n",
       "2       0    movie    87    91       《上海滩》\n",
       "65   1004    movie    74    78       《坏习惯》\n",
       "83   1006    movie   181   186      《蜘蛛侠2》\n",
       "111  1011    movie    66    75  （Wheelman）\n",
       "112  1011    movie    59    65     《汽车驾驶员》"
      ]
     },
     "execution_count": 13,
     "metadata": {},
     "output_type": "execute_result"
    }
   ],
   "source": [
    "label_total[label_total.Category == 'movie'].head(5)"
   ]
  },
  {
   "cell_type": "code",
   "execution_count": 14,
   "metadata": {
    "ExecuteTime": {
     "end_time": "2020-11-16T14:22:27.863443Z",
     "start_time": "2020-11-16T14:22:27.827414Z"
    }
   },
   "outputs": [
    {
     "data": {
      "text/html": [
       "<div>\n",
       "<style scoped>\n",
       "    .dataframe tbody tr th:only-of-type {\n",
       "        vertical-align: middle;\n",
       "    }\n",
       "\n",
       "    .dataframe tbody tr th {\n",
       "        vertical-align: top;\n",
       "    }\n",
       "\n",
       "    .dataframe thead th {\n",
       "        text-align: right;\n",
       "    }\n",
       "</style>\n",
       "<table border=\"1\" class=\"dataframe\">\n",
       "  <thead>\n",
       "    <tr style=\"text-align: right;\">\n",
       "      <th></th>\n",
       "      <th>ID</th>\n",
       "      <th>Category</th>\n",
       "      <th>Pos_b</th>\n",
       "      <th>Pos_e</th>\n",
       "      <th>Privacy</th>\n",
       "    </tr>\n",
       "  </thead>\n",
       "  <tbody>\n",
       "    <tr>\n",
       "      <th>184</th>\n",
       "      <td>1020</td>\n",
       "      <td>movie</td>\n",
       "      <td>71</td>\n",
       "      <td>78</td>\n",
       "      <td>waitress</td>\n",
       "    </tr>\n",
       "    <tr>\n",
       "      <th>284</th>\n",
       "      <td>1030</td>\n",
       "      <td>movie</td>\n",
       "      <td>36</td>\n",
       "      <td>46</td>\n",
       "      <td>我人生中最精彩的瞬间》</td>\n",
       "    </tr>\n",
       "    <tr>\n",
       "      <th>289</th>\n",
       "      <td>1030</td>\n",
       "      <td>movie</td>\n",
       "      <td>200</td>\n",
       "      <td>203</td>\n",
       "      <td>爱情公寓</td>\n",
       "    </tr>\n",
       "    <tr>\n",
       "      <th>369</th>\n",
       "      <td>104</td>\n",
       "      <td>movie</td>\n",
       "      <td>28</td>\n",
       "      <td>29</td>\n",
       "      <td>赤壁</td>\n",
       "    </tr>\n",
       "    <tr>\n",
       "      <th>370</th>\n",
       "      <td>104</td>\n",
       "      <td>movie</td>\n",
       "      <td>32</td>\n",
       "      <td>35</td>\n",
       "      <td>建国大业</td>\n",
       "    </tr>\n",
       "    <tr>\n",
       "      <th>...</th>\n",
       "      <td>...</td>\n",
       "      <td>...</td>\n",
       "      <td>...</td>\n",
       "      <td>...</td>\n",
       "      <td>...</td>\n",
       "    </tr>\n",
       "    <tr>\n",
       "      <th>20118</th>\n",
       "      <td>962</td>\n",
       "      <td>movie</td>\n",
       "      <td>72</td>\n",
       "      <td>81</td>\n",
       "      <td>ToothFairy</td>\n",
       "    </tr>\n",
       "    <tr>\n",
       "      <th>20363</th>\n",
       "      <td>988</td>\n",
       "      <td>movie</td>\n",
       "      <td>197</td>\n",
       "      <td>201</td>\n",
       "      <td>欲望都市》</td>\n",
       "    </tr>\n",
       "    <tr>\n",
       "      <th>20423</th>\n",
       "      <td>994</td>\n",
       "      <td>movie</td>\n",
       "      <td>6</td>\n",
       "      <td>7</td>\n",
       "      <td>花坞</td>\n",
       "    </tr>\n",
       "    <tr>\n",
       "      <th>20424</th>\n",
       "      <td>994</td>\n",
       "      <td>movie</td>\n",
       "      <td>10</td>\n",
       "      <td>12</td>\n",
       "      <td>青花运</td>\n",
       "    </tr>\n",
       "    <tr>\n",
       "      <th>20425</th>\n",
       "      <td>994</td>\n",
       "      <td>movie</td>\n",
       "      <td>15</td>\n",
       "      <td>19</td>\n",
       "      <td>黄河口儿女</td>\n",
       "    </tr>\n",
       "  </tbody>\n",
       "</table>\n",
       "<p>420 rows × 5 columns</p>\n",
       "</div>"
      ],
      "text/plain": [
       "         ID Category Pos_b Pos_e      Privacy\n",
       "184    1020    movie    71    78     waitress\n",
       "284    1030    movie    36    46  我人生中最精彩的瞬间》\n",
       "289    1030    movie   200   203         爱情公寓\n",
       "369     104    movie    28    29           赤壁\n",
       "370     104    movie    32    35         建国大业\n",
       "...     ...      ...   ...   ...          ...\n",
       "20118   962    movie    72    81   ToothFairy\n",
       "20363   988    movie   197   201        欲望都市》\n",
       "20423   994    movie     6     7           花坞\n",
       "20424   994    movie    10    12          青花运\n",
       "20425   994    movie    15    19        黄河口儿女\n",
       "\n",
       "[420 rows x 5 columns]"
      ]
     },
     "execution_count": 14,
     "metadata": {},
     "output_type": "execute_result"
    }
   ],
   "source": [
    "tmp1 = label_total[label_total.Category == 'movie']\n",
    "\n",
    "\n",
    "def func(x):\n",
    "    \"查找前后标点符号不匹配的标记\"\n",
    "    if x[0] in ('《', '≪', '（', '(', '＜', '“', '「',\n",
    "                '【') and x[-1] in ('》', '≫', '）', ')', '＞', '”', '」', '】'):\n",
    "        return True\n",
    "    else:\n",
    "        return False\n",
    "\n",
    "\n",
    "tmp1[~tmp1.Privacy.apply(lambda x: func(x))]"
   ]
  },
  {
   "cell_type": "markdown",
   "metadata": {},
   "source": [
    "### game标签中存在的起止标点符号问题"
   ]
  },
  {
   "cell_type": "code",
   "execution_count": 15,
   "metadata": {
    "ExecuteTime": {
     "end_time": "2020-11-16T14:22:29.753001Z",
     "start_time": "2020-11-16T14:22:29.735030Z"
    }
   },
   "outputs": [
    {
     "data": {
      "text/html": [
       "<div>\n",
       "<style scoped>\n",
       "    .dataframe tbody tr th:only-of-type {\n",
       "        vertical-align: middle;\n",
       "    }\n",
       "\n",
       "    .dataframe tbody tr th {\n",
       "        vertical-align: top;\n",
       "    }\n",
       "\n",
       "    .dataframe thead th {\n",
       "        text-align: right;\n",
       "    }\n",
       "</style>\n",
       "<table border=\"1\" class=\"dataframe\">\n",
       "  <thead>\n",
       "    <tr style=\"text-align: right;\">\n",
       "      <th></th>\n",
       "      <th>ID</th>\n",
       "      <th>Category</th>\n",
       "      <th>Pos_b</th>\n",
       "      <th>Pos_e</th>\n",
       "      <th>Privacy</th>\n",
       "    </tr>\n",
       "  </thead>\n",
       "  <tbody>\n",
       "    <tr>\n",
       "      <th>12</th>\n",
       "      <td>10</td>\n",
       "      <td>game</td>\n",
       "      <td>3</td>\n",
       "      <td>15</td>\n",
       "      <td>《大航海时代online》</td>\n",
       "    </tr>\n",
       "    <tr>\n",
       "      <th>15</th>\n",
       "      <td>10</td>\n",
       "      <td>game</td>\n",
       "      <td>93</td>\n",
       "      <td>98</td>\n",
       "      <td>《魔兽世界》</td>\n",
       "    </tr>\n",
       "    <tr>\n",
       "      <th>31</th>\n",
       "      <td>1000</td>\n",
       "      <td>game</td>\n",
       "      <td>163</td>\n",
       "      <td>168</td>\n",
       "      <td>《明日之后》</td>\n",
       "    </tr>\n",
       "    <tr>\n",
       "      <th>43</th>\n",
       "      <td>1000</td>\n",
       "      <td>game</td>\n",
       "      <td>422</td>\n",
       "      <td>428</td>\n",
       "      <td>《星际争霸2》</td>\n",
       "    </tr>\n",
       "    <tr>\n",
       "      <th>44</th>\n",
       "      <td>1000</td>\n",
       "      <td>game</td>\n",
       "      <td>486</td>\n",
       "      <td>487</td>\n",
       "      <td>魔兽</td>\n",
       "    </tr>\n",
       "  </tbody>\n",
       "</table>\n",
       "</div>"
      ],
      "text/plain": [
       "      ID Category Pos_b Pos_e        Privacy\n",
       "12    10     game     3    15  《大航海时代online》\n",
       "15    10     game    93    98         《魔兽世界》\n",
       "31  1000     game   163   168         《明日之后》\n",
       "43  1000     game   422   428        《星际争霸2》\n",
       "44  1000     game   486   487             魔兽"
      ]
     },
     "execution_count": 15,
     "metadata": {},
     "output_type": "execute_result"
    }
   ],
   "source": [
    "label_total[label_total.Category == 'game'].head(5)"
   ]
  },
  {
   "cell_type": "code",
   "execution_count": 16,
   "metadata": {
    "ExecuteTime": {
     "end_time": "2020-11-16T14:22:30.536404Z",
     "start_time": "2020-11-16T14:22:30.506377Z"
    }
   },
   "outputs": [
    {
     "data": {
      "text/html": [
       "<div>\n",
       "<style scoped>\n",
       "    .dataframe tbody tr th:only-of-type {\n",
       "        vertical-align: middle;\n",
       "    }\n",
       "\n",
       "    .dataframe tbody tr th {\n",
       "        vertical-align: top;\n",
       "    }\n",
       "\n",
       "    .dataframe thead th {\n",
       "        text-align: right;\n",
       "    }\n",
       "</style>\n",
       "<table border=\"1\" class=\"dataframe\">\n",
       "  <thead>\n",
       "    <tr style=\"text-align: right;\">\n",
       "      <th></th>\n",
       "      <th>ID</th>\n",
       "      <th>Category</th>\n",
       "      <th>Pos_b</th>\n",
       "      <th>Pos_e</th>\n",
       "      <th>Privacy</th>\n",
       "    </tr>\n",
       "  </thead>\n",
       "  <tbody>\n",
       "    <tr>\n",
       "      <th>44</th>\n",
       "      <td>1000</td>\n",
       "      <td>game</td>\n",
       "      <td>486</td>\n",
       "      <td>487</td>\n",
       "      <td>魔兽</td>\n",
       "    </tr>\n",
       "    <tr>\n",
       "      <th>59</th>\n",
       "      <td>1002</td>\n",
       "      <td>game</td>\n",
       "      <td>137</td>\n",
       "      <td>140</td>\n",
       "      <td>war3</td>\n",
       "    </tr>\n",
       "    <tr>\n",
       "      <th>62</th>\n",
       "      <td>1003</td>\n",
       "      <td>game</td>\n",
       "      <td>15</td>\n",
       "      <td>18</td>\n",
       "      <td>文明IV</td>\n",
       "    </tr>\n",
       "    <tr>\n",
       "      <th>63</th>\n",
       "      <td>1003</td>\n",
       "      <td>game</td>\n",
       "      <td>51</td>\n",
       "      <td>55</td>\n",
       "      <td>魔兽争霸3</td>\n",
       "    </tr>\n",
       "    <tr>\n",
       "      <th>92</th>\n",
       "      <td>1009</td>\n",
       "      <td>game</td>\n",
       "      <td>5</td>\n",
       "      <td>8</td>\n",
       "      <td>魔兽世界</td>\n",
       "    </tr>\n",
       "    <tr>\n",
       "      <th>...</th>\n",
       "      <td>...</td>\n",
       "      <td>...</td>\n",
       "      <td>...</td>\n",
       "      <td>...</td>\n",
       "      <td>...</td>\n",
       "    </tr>\n",
       "    <tr>\n",
       "      <th>20361</th>\n",
       "      <td>988</td>\n",
       "      <td>game</td>\n",
       "      <td>136</td>\n",
       "      <td>140</td>\n",
       "      <td>DOTA2</td>\n",
       "    </tr>\n",
       "    <tr>\n",
       "      <th>20368</th>\n",
       "      <td>989</td>\n",
       "      <td>game</td>\n",
       "      <td>46</td>\n",
       "      <td>58</td>\n",
       "      <td>环图林格勒女子公路自行车赛</td>\n",
       "    </tr>\n",
       "    <tr>\n",
       "      <th>20369</th>\n",
       "      <td>989</td>\n",
       "      <td>game</td>\n",
       "      <td>65</td>\n",
       "      <td>74</td>\n",
       "      <td>世界B级自行车锦标赛</td>\n",
       "    </tr>\n",
       "    <tr>\n",
       "      <th>20458</th>\n",
       "      <td>997</td>\n",
       "      <td>game</td>\n",
       "      <td>104</td>\n",
       "      <td>106</td>\n",
       "      <td>魔兽3</td>\n",
       "    </tr>\n",
       "    <tr>\n",
       "      <th>20459</th>\n",
       "      <td>997</td>\n",
       "      <td>game</td>\n",
       "      <td>108</td>\n",
       "      <td>110</td>\n",
       "      <td>星际2</td>\n",
       "    </tr>\n",
       "  </tbody>\n",
       "</table>\n",
       "<p>904 rows × 5 columns</p>\n",
       "</div>"
      ],
      "text/plain": [
       "         ID Category Pos_b Pos_e        Privacy\n",
       "44     1000     game   486   487             魔兽\n",
       "59     1002     game   137   140           war3\n",
       "62     1003     game    15    18           文明IV\n",
       "63     1003     game    51    55          魔兽争霸3\n",
       "92     1009     game     5     8           魔兽世界\n",
       "...     ...      ...   ...   ...            ...\n",
       "20361   988     game   136   140          DOTA2\n",
       "20368   989     game    46    58  环图林格勒女子公路自行车赛\n",
       "20369   989     game    65    74     世界B级自行车锦标赛\n",
       "20458   997     game   104   106            魔兽3\n",
       "20459   997     game   108   110            星际2\n",
       "\n",
       "[904 rows x 5 columns]"
      ]
     },
     "execution_count": 16,
     "metadata": {},
     "output_type": "execute_result"
    }
   ],
   "source": [
    "tmp2 = label_total[label_total.Category == 'game']\n",
    "tmp2[~tmp2.Privacy.apply(lambda x: func(x))]"
   ]
  },
  {
   "cell_type": "markdown",
   "metadata": {},
   "source": [
    "### book标签中存在的起止标点符号问题"
   ]
  },
  {
   "cell_type": "code",
   "execution_count": 17,
   "metadata": {
    "ExecuteTime": {
     "end_time": "2020-11-16T14:22:36.761253Z",
     "start_time": "2020-11-16T14:22:36.746285Z"
    }
   },
   "outputs": [
    {
     "data": {
      "text/html": [
       "<div>\n",
       "<style scoped>\n",
       "    .dataframe tbody tr th:only-of-type {\n",
       "        vertical-align: middle;\n",
       "    }\n",
       "\n",
       "    .dataframe tbody tr th {\n",
       "        vertical-align: top;\n",
       "    }\n",
       "\n",
       "    .dataframe thead th {\n",
       "        text-align: right;\n",
       "    }\n",
       "</style>\n",
       "<table border=\"1\" class=\"dataframe\">\n",
       "  <thead>\n",
       "    <tr style=\"text-align: right;\">\n",
       "      <th></th>\n",
       "      <th>ID</th>\n",
       "      <th>Category</th>\n",
       "      <th>Pos_b</th>\n",
       "      <th>Pos_e</th>\n",
       "      <th>Privacy</th>\n",
       "    </tr>\n",
       "  </thead>\n",
       "  <tbody>\n",
       "    <tr>\n",
       "      <th>16</th>\n",
       "      <td>10</td>\n",
       "      <td>book</td>\n",
       "      <td>125</td>\n",
       "      <td>131</td>\n",
       "      <td>沧浪亭名贤祠图</td>\n",
       "    </tr>\n",
       "    <tr>\n",
       "      <th>82</th>\n",
       "      <td>1006</td>\n",
       "      <td>book</td>\n",
       "      <td>114</td>\n",
       "      <td>127</td>\n",
       "      <td>《经济适用住房价格管理办法》</td>\n",
       "    </tr>\n",
       "    <tr>\n",
       "      <th>85</th>\n",
       "      <td>1007</td>\n",
       "      <td>book</td>\n",
       "      <td>0</td>\n",
       "      <td>3</td>\n",
       "      <td>理财周报</td>\n",
       "    </tr>\n",
       "    <tr>\n",
       "      <th>142</th>\n",
       "      <td>1015</td>\n",
       "      <td>book</td>\n",
       "      <td>110</td>\n",
       "      <td>129</td>\n",
       "      <td>《关于禁止播出电脑网络游戏类节目的通知》</td>\n",
       "    </tr>\n",
       "    <tr>\n",
       "      <th>157</th>\n",
       "      <td>1018</td>\n",
       "      <td>book</td>\n",
       "      <td>64</td>\n",
       "      <td>69</td>\n",
       "      <td>《开啦街拍》</td>\n",
       "    </tr>\n",
       "  </tbody>\n",
       "</table>\n",
       "</div>"
      ],
      "text/plain": [
       "       ID Category Pos_b Pos_e               Privacy\n",
       "16     10     book   125   131               沧浪亭名贤祠图\n",
       "82   1006     book   114   127        《经济适用住房价格管理办法》\n",
       "85   1007     book     0     3                  理财周报\n",
       "142  1015     book   110   129  《关于禁止播出电脑网络游戏类节目的通知》\n",
       "157  1018     book    64    69                《开啦街拍》"
      ]
     },
     "execution_count": 17,
     "metadata": {},
     "output_type": "execute_result"
    }
   ],
   "source": [
    "label_total[label_total.Category == 'book'].head(5)"
   ]
  },
  {
   "cell_type": "code",
   "execution_count": 18,
   "metadata": {
    "ExecuteTime": {
     "end_time": "2020-11-16T14:22:39.894430Z",
     "start_time": "2020-11-16T14:22:39.874432Z"
    }
   },
   "outputs": [
    {
     "data": {
      "text/html": [
       "<div>\n",
       "<style scoped>\n",
       "    .dataframe tbody tr th:only-of-type {\n",
       "        vertical-align: middle;\n",
       "    }\n",
       "\n",
       "    .dataframe tbody tr th {\n",
       "        vertical-align: top;\n",
       "    }\n",
       "\n",
       "    .dataframe thead th {\n",
       "        text-align: right;\n",
       "    }\n",
       "</style>\n",
       "<table border=\"1\" class=\"dataframe\">\n",
       "  <thead>\n",
       "    <tr style=\"text-align: right;\">\n",
       "      <th></th>\n",
       "      <th>ID</th>\n",
       "      <th>Category</th>\n",
       "      <th>Pos_b</th>\n",
       "      <th>Pos_e</th>\n",
       "      <th>Privacy</th>\n",
       "    </tr>\n",
       "  </thead>\n",
       "  <tbody>\n",
       "    <tr>\n",
       "      <th>16</th>\n",
       "      <td>10</td>\n",
       "      <td>book</td>\n",
       "      <td>125</td>\n",
       "      <td>131</td>\n",
       "      <td>沧浪亭名贤祠图</td>\n",
       "    </tr>\n",
       "    <tr>\n",
       "      <th>85</th>\n",
       "      <td>1007</td>\n",
       "      <td>book</td>\n",
       "      <td>0</td>\n",
       "      <td>3</td>\n",
       "      <td>理财周报</td>\n",
       "    </tr>\n",
       "    <tr>\n",
       "      <th>246</th>\n",
       "      <td>1024</td>\n",
       "      <td>book</td>\n",
       "      <td>132</td>\n",
       "      <td>135</td>\n",
       "      <td>信息时报</td>\n",
       "    </tr>\n",
       "    <tr>\n",
       "      <th>566</th>\n",
       "      <td>1060</td>\n",
       "      <td>book</td>\n",
       "      <td>0</td>\n",
       "      <td>5</td>\n",
       "      <td>爹打老蒋去》</td>\n",
       "    </tr>\n",
       "    <tr>\n",
       "      <th>603</th>\n",
       "      <td>1065</td>\n",
       "      <td>book</td>\n",
       "      <td>2</td>\n",
       "      <td>5</td>\n",
       "      <td>大众电影</td>\n",
       "    </tr>\n",
       "    <tr>\n",
       "      <th>...</th>\n",
       "      <td>...</td>\n",
       "      <td>...</td>\n",
       "      <td>...</td>\n",
       "      <td>...</td>\n",
       "      <td>...</td>\n",
       "    </tr>\n",
       "    <tr>\n",
       "      <th>20178</th>\n",
       "      <td>967</td>\n",
       "      <td>book</td>\n",
       "      <td>109</td>\n",
       "      <td>110</td>\n",
       "      <td>早报</td>\n",
       "    </tr>\n",
       "    <tr>\n",
       "      <th>20254</th>\n",
       "      <td>976</td>\n",
       "      <td>book</td>\n",
       "      <td>77</td>\n",
       "      <td>80</td>\n",
       "      <td>绿野仙踪</td>\n",
       "    </tr>\n",
       "    <tr>\n",
       "      <th>20255</th>\n",
       "      <td>976</td>\n",
       "      <td>book</td>\n",
       "      <td>88</td>\n",
       "      <td>91</td>\n",
       "      <td>绿野仙踪</td>\n",
       "    </tr>\n",
       "    <tr>\n",
       "      <th>20433</th>\n",
       "      <td>996</td>\n",
       "      <td>book</td>\n",
       "      <td>65</td>\n",
       "      <td>68</td>\n",
       "      <td>浮华逝梦</td>\n",
       "    </tr>\n",
       "    <tr>\n",
       "      <th>20477</th>\n",
       "      <td>998</td>\n",
       "      <td>book</td>\n",
       "      <td>251</td>\n",
       "      <td>255</td>\n",
       "      <td>一睡定终身</td>\n",
       "    </tr>\n",
       "  </tbody>\n",
       "</table>\n",
       "<p>240 rows × 5 columns</p>\n",
       "</div>"
      ],
      "text/plain": [
       "         ID Category Pos_b Pos_e  Privacy\n",
       "16       10     book   125   131  沧浪亭名贤祠图\n",
       "85     1007     book     0     3     理财周报\n",
       "246    1024     book   132   135     信息时报\n",
       "566    1060     book     0     5   爹打老蒋去》\n",
       "603    1065     book     2     5     大众电影\n",
       "...     ...      ...   ...   ...      ...\n",
       "20178   967     book   109   110       早报\n",
       "20254   976     book    77    80     绿野仙踪\n",
       "20255   976     book    88    91     绿野仙踪\n",
       "20433   996     book    65    68     浮华逝梦\n",
       "20477   998     book   251   255    一睡定终身\n",
       "\n",
       "[240 rows x 5 columns]"
      ]
     },
     "execution_count": 18,
     "metadata": {},
     "output_type": "execute_result"
    }
   ],
   "source": [
    "tmp3 = label_total[label_total.Category == 'book']\n",
    "tmp3[~tmp3.Privacy.apply(lambda x:func(x))]"
   ]
  },
  {
   "cell_type": "markdown",
   "metadata": {
    "ExecuteTime": {
     "end_time": "2020-11-16T12:53:16.696164Z",
     "start_time": "2020-11-16T12:53:16.213088Z"
    },
    "code_folding": []
   },
   "source": [
    "### 查看 train data 中的标点符号"
   ]
  },
  {
   "cell_type": "code",
   "execution_count": 19,
   "metadata": {
    "ExecuteTime": {
     "end_time": "2020-11-16T14:22:59.844345Z",
     "start_time": "2020-11-16T14:22:59.350262Z"
    }
   },
   "outputs": [],
   "source": [
    "import re\n",
    "\n",
    "filter_p = re.compile(r'[^\\u4e00-\\u9fa50-9A-Za-z]')\n",
    "symbol_lst = []\n",
    "\n",
    "for td in tdata_lst:\n",
    "    symbol_lst += re.findall(filter_p, utils.read_txt(td)[0])\n",
    "\n",
    "symbol_lst = np.unique(symbol_lst)"
   ]
  },
  {
   "cell_type": "code",
   "execution_count": 20,
   "metadata": {
    "ExecuteTime": {
     "end_time": "2020-11-16T14:23:01.021657Z",
     "start_time": "2020-11-16T14:23:01.016656Z"
    }
   },
   "outputs": [
    {
     "data": {
      "text/plain": [
       "array(['\\t', '!', '\"', '#', '%', '&', \"'\", '(', ')', '*', '+', '-', '.',\n",
       "       '/', ':', ';', '<', '=', '>', '?', '@', '[', '\\\\', ']', '^', '_',\n",
       "       '`', '{', '|', '}', '~', '«', '·', '»', '×', 'ω', 'ค', 'ช', 'ต',\n",
       "       'ะ', 'า', 'โ', '\\u2006', '—', '‘', '’', '“', '”', '•', '…',\n",
       "       '\\u2029', '\\u202a', '\\u202c', '※', 'Ⅱ', 'Ⅲ', 'Ⅳ', 'Ⅶ', 'ⅰ', 'ⅱ',\n",
       "       'ⅲ', 'ⅳ', 'ⅵ', '↑', '→', '↓', '∩', '∶', '≪', '≫', '⊙', '⋯', '①',\n",
       "       '②', '─', '┃', '■', '□', '◆', '●', '★', '☆', '☏', '♪', '\\u3000',\n",
       "       '、', '。', '〃', '〈', '〉', '《', '》', '「', '」', '『', '』', '【', '】',\n",
       "       '〜', 'あ', 'い', 'え', 'が', 'き', 'く', 'こ', 'し', 'す', 'た', 'ち', 'っ',\n",
       "       'つ', 'て', 'で', 'と', 'な', 'に', 'の', 'は', 'ま', 'み', 'や', 'ら', 'る',\n",
       "       'れ', 'を', 'ん', 'コ', 'ス', 'タ', 'ト', 'ニ', '・', 'ー', '䢖', '녕', '세',\n",
       "       '안', '요', '하', '\\ue056', '\\ue253', '\\ue316', '\\ue404', '\\ue41d',\n",
       "       '\\ue449', '\\uf87d', '﹐', '﹔', '﹕', '﹗', '﹣', '！', '＂', '＄', '＆',\n",
       "       '（', '）', '＋', '，', '－', '．', '／', '０', '６', '：', '；', '＜', '＞',\n",
       "       '？', '＠', 'Ｔ', '［', '＼', '］', 'ｃ', 'ｅ', 'ｌ', 'ｍ', 'ｓ', '｜', '～',\n",
       "       '｟', '｠', '｢', '｣'], dtype='<U1')"
      ]
     },
     "execution_count": 20,
     "metadata": {},
     "output_type": "execute_result"
    }
   ],
   "source": [
    "symbol_lst"
   ]
  },
  {
   "cell_type": "code",
   "execution_count": 21,
   "metadata": {
    "ExecuteTime": {
     "end_time": "2020-11-16T14:23:16.227806Z",
     "start_time": "2020-11-16T14:23:16.210798Z"
    }
   },
   "outputs": [],
   "source": [
    "for s in ('.', '。', '!', '！', '?', '？', '⋯', '…', '﹗'):\n",
    "    if s not in symbol_lst:\n",
    "        print(s)"
   ]
  },
  {
   "cell_type": "markdown",
   "metadata": {},
   "source": [
    "### 查看标签中是否有标点符号"
   ]
  },
  {
   "cell_type": "code",
   "execution_count": 22,
   "metadata": {
    "ExecuteTime": {
     "end_time": "2020-11-16T14:23:27.818877Z",
     "start_time": "2020-11-16T14:23:27.768848Z"
    }
   },
   "outputs": [],
   "source": [
    "import re\n",
    "\n",
    "filter_p = re.compile(r'[^\\u4e00-\\u9fa50-9A-Za-z]')\n",
    "\n",
    "symbol_lst = []\n",
    "for label in label_total.Privacy:\n",
    "    symbol_lst += re.findall(filter_p, str(label))\n",
    "\n",
    "symbol_lst = np.unique(symbol_lst)"
   ]
  },
  {
   "cell_type": "code",
   "execution_count": 23,
   "metadata": {
    "ExecuteTime": {
     "end_time": "2020-11-16T14:23:28.426619Z",
     "start_time": "2020-11-16T14:23:28.410620Z"
    }
   },
   "outputs": [
    {
     "name": "stdout",
     "output_type": "stream",
     "text": [
      "？\n",
      "⋯\n",
      "…\n",
      "﹗\n"
     ]
    }
   ],
   "source": [
    "for s in ('.','。','!','！','?','？','⋯','…','﹗'):\n",
    "    if s not in symbol_lst:\n",
    "        print(s)"
   ]
  },
  {
   "cell_type": "markdown",
   "metadata": {},
   "source": [
    "结论：标签之中有标点符号，直接分句影响识别结果；以上四种标点可以进行分句，不在标签中包含"
   ]
  }
 ],
 "metadata": {
  "hide_input": false,
  "kernelspec": {
   "display_name": "Python 3",
   "language": "python",
   "name": "python3"
  },
  "language_info": {
   "codemirror_mode": {
    "name": "ipython",
    "version": 3
   },
   "file_extension": ".py",
   "mimetype": "text/x-python",
   "name": "python",
   "nbconvert_exporter": "python",
   "pygments_lexer": "ipython3",
   "version": "3.6.8"
  },
  "toc": {
   "base_numbering": 1,
   "nav_menu": {},
   "number_sections": true,
   "sideBar": true,
   "skip_h1_title": false,
   "title_cell": "Table of Contents",
   "title_sidebar": "Contents",
   "toc_cell": false,
   "toc_position": {},
   "toc_section_display": true,
   "toc_window_display": true
  },
  "varInspector": {
   "cols": {
    "lenName": 16,
    "lenType": 16,
    "lenVar": 40
   },
   "kernels_config": {
    "python": {
     "delete_cmd_postfix": "",
     "delete_cmd_prefix": "del ",
     "library": "var_list.py",
     "varRefreshCmd": "print(var_dic_list())"
    },
    "r": {
     "delete_cmd_postfix": ") ",
     "delete_cmd_prefix": "rm(",
     "library": "var_list.r",
     "varRefreshCmd": "cat(var_dic_list()) "
    }
   },
   "types_to_exclude": [
    "module",
    "function",
    "builtin_function_or_method",
    "instance",
    "_Feature"
   ],
   "window_display": false
  }
 },
 "nbformat": 4,
 "nbformat_minor": 2
}
